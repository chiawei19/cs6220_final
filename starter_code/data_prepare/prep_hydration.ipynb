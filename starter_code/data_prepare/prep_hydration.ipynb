{
 "cells": [
  {
   "cell_type": "markdown",
   "metadata": {},
   "source": [
    "# Tweet Download and Hydration\n",
    "dataset source: https://github.com/echen102/COVID-19-TweetIDs"
   ]
  },
  {
   "cell_type": "code",
   "execution_count": 1,
   "metadata": {},
   "outputs": [],
   "source": [
    "import pandas as pd\n",
    "import json\n",
    "import os\n",
    "import re\n",
    "import collections\n",
    "from datetime import datetime\n",
    "import random\n",
    "import tqdm\n",
    "\n",
    "random.seed(42)"
   ]
  },
  {
   "cell_type": "code",
   "execution_count": 2,
   "metadata": {},
   "outputs": [],
   "source": [
    "ROOT_DIR = \"../large_data/COVID-19-TweetIDs-master/\"\n",
    "SUB_DIR = [ROOT_DIR + \"2020-\" + str(i).zfill(2) + \"/\" for i in range(1, 13)]\n",
    "HOURS_TXT = [str(i).zfill(2) + \".txt\" for i in range(24)]\n",
    "\n",
    "OUT_DIR = \"../sampled_data/\"\n",
    "RAW_DIR = OUT_DIR + \"raw/\"\n",
    "DAILY_DIR = OUT_DIR + \"sampled_daily/\"\n",
    "\n",
    "NUM_SAMPLE_PER_DAY = 10000"
   ]
  },
  {
   "cell_type": "code",
   "execution_count": 65,
   "metadata": {},
   "outputs": [],
   "source": [
    "date_tweet_lists = collections.defaultdict(list)\n",
    "date_tweet_count = collections.defaultdict(int)\n",
    "\n",
    "TARGET_DIR = SUB_DIR[11]\n",
    "\n",
    "for file_name in sorted(os.listdir(TARGET_DIR)):\n",
    "    if file_name.endswith(\".txt\"):\n",
    "        d = file_name[-17:-7]        \n",
    "        single_file_id = []\n",
    "        with open(TARGET_DIR + file_name) as reader:\n",
    "            for line in reader:\n",
    "                tweet_id = line.strip(\"\\n\")\n",
    "                if len(tweet_id) > 0:\n",
    "                    single_file_id.append(tweet_id)\n",
    "        date_tweet_lists[d].extend(single_file_id)\n",
    "        date_tweet_count[d] += len(single_file_id)"
   ]
  },
  {
   "cell_type": "code",
   "execution_count": 66,
   "metadata": {},
   "outputs": [
    {
     "name": "stdout",
     "output_type": "stream",
     "text": [
      "2020-12-01 3880854\n",
      "2020-12-02 3684232\n",
      "2020-12-03 3847596\n",
      "2020-12-04 3746964\n"
     ]
    }
   ],
   "source": [
    "for date in sorted(date_tweet_count.keys()):\n",
    "     print('{} {}'.format(date, date_tweet_count[date]))"
   ]
  },
  {
   "cell_type": "code",
   "execution_count": 67,
   "metadata": {},
   "outputs": [],
   "source": [
    "# save all tweet id per day\n",
    "\n",
    "# with open(RAW_DIR + 'date_tweet_count.txt', 'w') as writer:\n",
    "#     for date in sorted(date_tweet_count.keys()):\n",
    "#         writer.write('{} {}\\n'.format(date, date_tweet_count[date]))\n",
    "        \n",
    "for date in sorted(date_tweet_count.keys()):     \n",
    "    with open(RAW_DIR + date + \"_raw.txt\", 'w') as writer:\n",
    "        for line in date_tweet_lists[date]:\n",
    "            writer.write('{}\\n'.format(line))"
   ]
  },
  {
   "cell_type": "code",
   "execution_count": 68,
   "metadata": {},
   "outputs": [
    {
     "name": "stdout",
     "output_type": "stream",
     "text": [
      "2020-12-01 10000\n",
      "2020-12-02 10000\n",
      "2020-12-03 10000\n",
      "2020-12-04 10000\n"
     ]
    }
   ],
   "source": [
    "sampled_date_tweet_lists = collections.defaultdict(list)\n",
    "\n",
    "for date in sorted(date_tweet_lists.keys()):\n",
    "    sampled_date_tweet_lists[date] = random.sample(date_tweet_lists[date], NUM_SAMPLE_PER_DAY)\n",
    "    print(date, len(sampled_date_tweet_lists[date]))"
   ]
  },
  {
   "cell_type": "code",
   "execution_count": 69,
   "metadata": {},
   "outputs": [],
   "source": [
    "# save sampled tweet id per day (10000)\n",
    "for date in sorted(date_tweet_count.keys()):     \n",
    "    with open(DAILY_DIR + date + \"_sampled.txt\", 'w') as writer:\n",
    "        for line in sampled_date_tweet_lists[date]:\n",
    "            writer.write('{}\\n'.format(line))"
   ]
  },
  {
   "cell_type": "code",
   "execution_count": 70,
   "metadata": {},
   "outputs": [],
   "source": [
    "MONTHLY_DIR = OUT_DIR + \"sampled_monthly/\"\n",
    "\n",
    "with open(MONTHLY_DIR + \"12_sampled.txt\", 'w') as writer:\n",
    "    for date in sorted(date_tweet_count.keys()):\n",
    "        for line in sampled_date_tweet_lists[date]:\n",
    "            writer.write('{}\\n'.format(line))"
   ]
  },
  {
   "cell_type": "code",
   "execution_count": null,
   "metadata": {},
   "outputs": [],
   "source": []
  },
  {
   "cell_type": "code",
   "execution_count": null,
   "metadata": {},
   "outputs": [],
   "source": []
  }
 ],
 "metadata": {
  "kernelspec": {
   "display_name": "p36workshop",
   "language": "python",
   "name": "p36workshop"
  },
  "language_info": {
   "codemirror_mode": {
    "name": "ipython",
    "version": 3
   },
   "file_extension": ".py",
   "mimetype": "text/x-python",
   "name": "python",
   "nbconvert_exporter": "python",
   "pygments_lexer": "ipython3",
   "version": "3.6.10"
  }
 },
 "nbformat": 4,
 "nbformat_minor": 4
}
