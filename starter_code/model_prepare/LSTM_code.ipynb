{
 "cells": [
  {
   "cell_type": "markdown",
   "metadata": {},
   "source": [
    "# Train LSTM models"
   ]
  },
  {
   "cell_type": "markdown",
   "metadata": {},
   "source": [
    "## Read data"
   ]
  },
  {
   "cell_type": "code",
   "execution_count": 1,
   "metadata": {},
   "outputs": [
    {
     "data": {
      "text/plain": [
       "<torch._C.Generator at 0x7fa2d854fd68>"
      ]
     },
     "execution_count": 1,
     "metadata": {},
     "output_type": "execute_result"
    }
   ],
   "source": [
    "import os\n",
    "import re\n",
    "import pandas as pd\n",
    "import numpy as np\n",
    "import random\n",
    "import sklearn\n",
    "import codecs\n",
    "import collections\n",
    "from tqdm import tqdm\n",
    "import torch\n",
    "\n",
    "from sklearn.metrics import classification_report, accuracy_score\n",
    "\n",
    "random.seed(42)\n",
    "np.random.seed(42)\n",
    "torch.manual_seed(42)"
   ]
  },
  {
   "cell_type": "code",
   "execution_count": 2,
   "metadata": {},
   "outputs": [],
   "source": [
    "TRAIN_DIR = \"./data/training/\"\n",
    "TRAIN_SUFFIX = \"-train.txt\"\n",
    "\n",
    "DEV_DIR = \"./data/development/\"\n",
    "DEV_SUFFIX = \"-dev.txt\"\n",
    "\n",
    "TEST_DIR = \"./data/test-gold/\"\n",
    "TEST_SUFFIX = \"-test-gold.txt\"\n",
    "\n",
    "YEAR_PREFIX = \"2018-\"\n",
    "FILE_PREFIX = \"EI-oc-En-\"\n",
    "\n",
    "EMOTIONS = [\"anger\", \"fear\", \"joy\", \"sadness\"] \n",
    "LABEL_EMOTIONS = {i: emo for i, emo in enumerate(EMOTIONS)}\n",
    "EMOTIONS_LABEL = {emo: i for i, emo in enumerate(EMOTIONS)}"
   ]
  },
  {
   "cell_type": "code",
   "execution_count": 3,
   "metadata": {},
   "outputs": [
    {
     "name": "stdout",
     "output_type": "stream",
     "text": [
      "./data/training/EI-oc-En-anger-train.txt True\n",
      "./data/training/EI-oc-En-fear-train.txt True\n",
      "./data/training/EI-oc-En-joy-train.txt True\n",
      "./data/training/EI-oc-En-sadness-train.txt True\n",
      "./data/development/2018-EI-oc-En-anger-dev.txt True\n",
      "./data/development/2018-EI-oc-En-fear-dev.txt True\n",
      "./data/development/2018-EI-oc-En-joy-dev.txt True\n",
      "./data/development/2018-EI-oc-En-sadness-dev.txt True\n",
      "./data/test-gold/2018-EI-oc-En-anger-test-gold.txt True\n",
      "./data/test-gold/2018-EI-oc-En-fear-test-gold.txt True\n",
      "./data/test-gold/2018-EI-oc-En-joy-test-gold.txt True\n",
      "./data/test-gold/2018-EI-oc-En-sadness-test-gold.txt True\n"
     ]
    }
   ],
   "source": [
    "TRAIN_FILES = []\n",
    "DEV_FILES = []\n",
    "TEST_FILES = []\n",
    "\n",
    "for emo in EMOTIONS: \n",
    "    TRAIN_FILES += [TRAIN_DIR + FILE_PREFIX + emo + TRAIN_SUFFIX]\n",
    "    DEV_FILES += [DEV_DIR + YEAR_PREFIX + FILE_PREFIX + emo + DEV_SUFFIX]\n",
    "    TEST_FILES += [TEST_DIR + YEAR_PREFIX + FILE_PREFIX + emo + TEST_SUFFIX]\n",
    "\n",
    "for file in TRAIN_FILES + DEV_FILES + TEST_FILES:\n",
    "    print(file, os.path.exists(file))"
   ]
  },
  {
   "cell_type": "code",
   "execution_count": 4,
   "metadata": {},
   "outputs": [
    {
     "data": {
      "text/html": [
       "<div>\n",
       "<style scoped>\n",
       "    .dataframe tbody tr th:only-of-type {\n",
       "        vertical-align: middle;\n",
       "    }\n",
       "\n",
       "    .dataframe tbody tr th {\n",
       "        vertical-align: top;\n",
       "    }\n",
       "\n",
       "    .dataframe thead th {\n",
       "        text-align: right;\n",
       "    }\n",
       "</style>\n",
       "<table border=\"1\" class=\"dataframe\">\n",
       "  <thead>\n",
       "    <tr style=\"text-align: right;\">\n",
       "      <th></th>\n",
       "      <th>ID</th>\n",
       "      <th>Tweet</th>\n",
       "      <th>Affect Dimension</th>\n",
       "      <th>Intensity Class</th>\n",
       "    </tr>\n",
       "  </thead>\n",
       "  <tbody>\n",
       "    <tr>\n",
       "      <th>526</th>\n",
       "      <td>2017-En-41199</td>\n",
       "      <td>Incredibly shocked and disappointed with @unit...</td>\n",
       "      <td>sadness</td>\n",
       "      <td>3: high amount of sadness can be inferred</td>\n",
       "    </tr>\n",
       "    <tr>\n",
       "      <th>494</th>\n",
       "      <td>2017-En-30873</td>\n",
       "      <td>If yiu don't respond .o an email within 7 days...</td>\n",
       "      <td>joy</td>\n",
       "      <td>0: no joy can be inferred</td>\n",
       "    </tr>\n",
       "    <tr>\n",
       "      <th>724</th>\n",
       "      <td>2017-En-30332</td>\n",
       "      <td>Watch this amazing live.ly broadcast by @maisi...</td>\n",
       "      <td>joy</td>\n",
       "      <td>2: moderate amount of joy can be inferred</td>\n",
       "    </tr>\n",
       "    <tr>\n",
       "      <th>879</th>\n",
       "      <td>2017-En-31279</td>\n",
       "      <td>But I got to see her last when she was lively ...</td>\n",
       "      <td>joy</td>\n",
       "      <td>0: no joy can be inferred</td>\n",
       "    </tr>\n",
       "    <tr>\n",
       "      <th>2095</th>\n",
       "      <td>2017-En-21925</td>\n",
       "      <td>@ThomasHCrown @laurakfillault As a historic ev...</td>\n",
       "      <td>fear</td>\n",
       "      <td>0: no fear can be inferred</td>\n",
       "    </tr>\n",
       "    <tr>\n",
       "      <th>...</th>\n",
       "      <td>...</td>\n",
       "      <td>...</td>\n",
       "      <td>...</td>\n",
       "      <td>...</td>\n",
       "    </tr>\n",
       "    <tr>\n",
       "      <th>2071</th>\n",
       "      <td>2017-En-22224</td>\n",
       "      <td>today afghanistan tell us where the terrorism ...</td>\n",
       "      <td>fear</td>\n",
       "      <td>2: moderate amount of fear can be inferred</td>\n",
       "    </tr>\n",
       "    <tr>\n",
       "      <th>1238</th>\n",
       "      <td>2017-En-31048</td>\n",
       "      <td>#IfIWerePresident \\nMy goal would be for us al...</td>\n",
       "      <td>joy</td>\n",
       "      <td>0: no joy can be inferred</td>\n",
       "    </tr>\n",
       "    <tr>\n",
       "      <th>1273</th>\n",
       "      <td>2017-En-31241</td>\n",
       "      <td>@1barkcom Thank you for the #follow. Looking f...</td>\n",
       "      <td>joy</td>\n",
       "      <td>2: moderate amount of joy can be inferred</td>\n",
       "    </tr>\n",
       "    <tr>\n",
       "      <th>1437</th>\n",
       "      <td>2017-En-31232</td>\n",
       "      <td>The best part of this day, Jesus, is to snuggl...</td>\n",
       "      <td>joy</td>\n",
       "      <td>3: high amount of joy can be inferred</td>\n",
       "    </tr>\n",
       "    <tr>\n",
       "      <th>860</th>\n",
       "      <td>2017-En-10088</td>\n",
       "      <td>Bes! You don't just tell a true blooded hoopju...</td>\n",
       "      <td>anger</td>\n",
       "      <td>3: high amount of anger can be inferred</td>\n",
       "    </tr>\n",
       "  </tbody>\n",
       "</table>\n",
       "<p>7102 rows × 4 columns</p>\n",
       "</div>"
      ],
      "text/plain": [
       "                 ID                                              Tweet  \\\n",
       "526   2017-En-41199  Incredibly shocked and disappointed with @unit...   \n",
       "494   2017-En-30873  If yiu don't respond .o an email within 7 days...   \n",
       "724   2017-En-30332  Watch this amazing live.ly broadcast by @maisi...   \n",
       "879   2017-En-31279  But I got to see her last when she was lively ...   \n",
       "2095  2017-En-21925  @ThomasHCrown @laurakfillault As a historic ev...   \n",
       "...             ...                                                ...   \n",
       "2071  2017-En-22224  today afghanistan tell us where the terrorism ...   \n",
       "1238  2017-En-31048  #IfIWerePresident \\nMy goal would be for us al...   \n",
       "1273  2017-En-31241  @1barkcom Thank you for the #follow. Looking f...   \n",
       "1437  2017-En-31232  The best part of this day, Jesus, is to snuggl...   \n",
       "860   2017-En-10088  Bes! You don't just tell a true blooded hoopju...   \n",
       "\n",
       "     Affect Dimension                             Intensity Class  \n",
       "526           sadness   3: high amount of sadness can be inferred  \n",
       "494               joy                   0: no joy can be inferred  \n",
       "724               joy   2: moderate amount of joy can be inferred  \n",
       "879               joy                   0: no joy can be inferred  \n",
       "2095             fear                  0: no fear can be inferred  \n",
       "...               ...                                         ...  \n",
       "2071             fear  2: moderate amount of fear can be inferred  \n",
       "1238              joy                   0: no joy can be inferred  \n",
       "1273              joy   2: moderate amount of joy can be inferred  \n",
       "1437              joy       3: high amount of joy can be inferred  \n",
       "860             anger     3: high amount of anger can be inferred  \n",
       "\n",
       "[7102 rows x 4 columns]"
      ]
     },
     "execution_count": 4,
     "metadata": {},
     "output_type": "execute_result"
    }
   ],
   "source": [
    "TRAIN_DATA = pd.concat(pd.read_csv(f, sep='\\t') for f in TRAIN_FILES)\n",
    "TRAIN_DATA = sklearn.utils.shuffle(TRAIN_DATA)\n",
    "TRAIN_DATA        "
   ]
  },
  {
   "cell_type": "code",
   "execution_count": 5,
   "metadata": {},
   "outputs": [
    {
     "data": {
      "text/html": [
       "<div>\n",
       "<style scoped>\n",
       "    .dataframe tbody tr th:only-of-type {\n",
       "        vertical-align: middle;\n",
       "    }\n",
       "\n",
       "    .dataframe tbody tr th {\n",
       "        vertical-align: top;\n",
       "    }\n",
       "\n",
       "    .dataframe thead th {\n",
       "        text-align: right;\n",
       "    }\n",
       "</style>\n",
       "<table border=\"1\" class=\"dataframe\">\n",
       "  <thead>\n",
       "    <tr style=\"text-align: right;\">\n",
       "      <th></th>\n",
       "      <th>ID</th>\n",
       "      <th>Tweet</th>\n",
       "      <th>Affect Dimension</th>\n",
       "      <th>Intensity Class</th>\n",
       "      <th>Category</th>\n",
       "      <th>Label</th>\n",
       "      <th>Intensity</th>\n",
       "    </tr>\n",
       "  </thead>\n",
       "  <tbody>\n",
       "    <tr>\n",
       "      <th>526</th>\n",
       "      <td>2017-En-41199</td>\n",
       "      <td>Incredibly shocked and disappointed with @unit...</td>\n",
       "      <td>sadness</td>\n",
       "      <td>3: high amount of sadness can be inferred</td>\n",
       "      <td>sadness</td>\n",
       "      <td>3</td>\n",
       "      <td>3</td>\n",
       "    </tr>\n",
       "    <tr>\n",
       "      <th>494</th>\n",
       "      <td>2017-En-30873</td>\n",
       "      <td>If yiu don't respond .o an email within 7 days...</td>\n",
       "      <td>joy</td>\n",
       "      <td>0: no joy can be inferred</td>\n",
       "      <td>joy</td>\n",
       "      <td>2</td>\n",
       "      <td>0</td>\n",
       "    </tr>\n",
       "    <tr>\n",
       "      <th>724</th>\n",
       "      <td>2017-En-30332</td>\n",
       "      <td>Watch this amazing live.ly broadcast by @maisi...</td>\n",
       "      <td>joy</td>\n",
       "      <td>2: moderate amount of joy can be inferred</td>\n",
       "      <td>joy</td>\n",
       "      <td>2</td>\n",
       "      <td>2</td>\n",
       "    </tr>\n",
       "    <tr>\n",
       "      <th>879</th>\n",
       "      <td>2017-En-31279</td>\n",
       "      <td>But I got to see her last when she was lively ...</td>\n",
       "      <td>joy</td>\n",
       "      <td>0: no joy can be inferred</td>\n",
       "      <td>joy</td>\n",
       "      <td>2</td>\n",
       "      <td>0</td>\n",
       "    </tr>\n",
       "    <tr>\n",
       "      <th>2095</th>\n",
       "      <td>2017-En-21925</td>\n",
       "      <td>@ThomasHCrown @laurakfillault As a historic ev...</td>\n",
       "      <td>fear</td>\n",
       "      <td>0: no fear can be inferred</td>\n",
       "      <td>fear</td>\n",
       "      <td>1</td>\n",
       "      <td>0</td>\n",
       "    </tr>\n",
       "    <tr>\n",
       "      <th>...</th>\n",
       "      <td>...</td>\n",
       "      <td>...</td>\n",
       "      <td>...</td>\n",
       "      <td>...</td>\n",
       "      <td>...</td>\n",
       "      <td>...</td>\n",
       "      <td>...</td>\n",
       "    </tr>\n",
       "    <tr>\n",
       "      <th>2071</th>\n",
       "      <td>2017-En-22224</td>\n",
       "      <td>today afghanistan tell us where the terrorism ...</td>\n",
       "      <td>fear</td>\n",
       "      <td>2: moderate amount of fear can be inferred</td>\n",
       "      <td>fear</td>\n",
       "      <td>1</td>\n",
       "      <td>2</td>\n",
       "    </tr>\n",
       "    <tr>\n",
       "      <th>1238</th>\n",
       "      <td>2017-En-31048</td>\n",
       "      <td>#IfIWerePresident \\nMy goal would be for us al...</td>\n",
       "      <td>joy</td>\n",
       "      <td>0: no joy can be inferred</td>\n",
       "      <td>joy</td>\n",
       "      <td>2</td>\n",
       "      <td>0</td>\n",
       "    </tr>\n",
       "    <tr>\n",
       "      <th>1273</th>\n",
       "      <td>2017-En-31241</td>\n",
       "      <td>@1barkcom Thank you for the #follow. Looking f...</td>\n",
       "      <td>joy</td>\n",
       "      <td>2: moderate amount of joy can be inferred</td>\n",
       "      <td>joy</td>\n",
       "      <td>2</td>\n",
       "      <td>2</td>\n",
       "    </tr>\n",
       "    <tr>\n",
       "      <th>1437</th>\n",
       "      <td>2017-En-31232</td>\n",
       "      <td>The best part of this day, Jesus, is to snuggl...</td>\n",
       "      <td>joy</td>\n",
       "      <td>3: high amount of joy can be inferred</td>\n",
       "      <td>joy</td>\n",
       "      <td>2</td>\n",
       "      <td>3</td>\n",
       "    </tr>\n",
       "    <tr>\n",
       "      <th>860</th>\n",
       "      <td>2017-En-10088</td>\n",
       "      <td>Bes! You don't just tell a true blooded hoopju...</td>\n",
       "      <td>anger</td>\n",
       "      <td>3: high amount of anger can be inferred</td>\n",
       "      <td>anger</td>\n",
       "      <td>0</td>\n",
       "      <td>3</td>\n",
       "    </tr>\n",
       "  </tbody>\n",
       "</table>\n",
       "<p>7102 rows × 7 columns</p>\n",
       "</div>"
      ],
      "text/plain": [
       "                 ID                                              Tweet  \\\n",
       "526   2017-En-41199  Incredibly shocked and disappointed with @unit...   \n",
       "494   2017-En-30873  If yiu don't respond .o an email within 7 days...   \n",
       "724   2017-En-30332  Watch this amazing live.ly broadcast by @maisi...   \n",
       "879   2017-En-31279  But I got to see her last when she was lively ...   \n",
       "2095  2017-En-21925  @ThomasHCrown @laurakfillault As a historic ev...   \n",
       "...             ...                                                ...   \n",
       "2071  2017-En-22224  today afghanistan tell us where the terrorism ...   \n",
       "1238  2017-En-31048  #IfIWerePresident \\nMy goal would be for us al...   \n",
       "1273  2017-En-31241  @1barkcom Thank you for the #follow. Looking f...   \n",
       "1437  2017-En-31232  The best part of this day, Jesus, is to snuggl...   \n",
       "860   2017-En-10088  Bes! You don't just tell a true blooded hoopju...   \n",
       "\n",
       "     Affect Dimension                             Intensity Class Category  \\\n",
       "526           sadness   3: high amount of sadness can be inferred  sadness   \n",
       "494               joy                   0: no joy can be inferred      joy   \n",
       "724               joy   2: moderate amount of joy can be inferred      joy   \n",
       "879               joy                   0: no joy can be inferred      joy   \n",
       "2095             fear                  0: no fear can be inferred     fear   \n",
       "...               ...                                         ...      ...   \n",
       "2071             fear  2: moderate amount of fear can be inferred     fear   \n",
       "1238              joy                   0: no joy can be inferred      joy   \n",
       "1273              joy   2: moderate amount of joy can be inferred      joy   \n",
       "1437              joy       3: high amount of joy can be inferred      joy   \n",
       "860             anger     3: high amount of anger can be inferred    anger   \n",
       "\n",
       "      Label  Intensity  \n",
       "526       3          3  \n",
       "494       2          0  \n",
       "724       2          2  \n",
       "879       2          0  \n",
       "2095      1          0  \n",
       "...     ...        ...  \n",
       "2071      1          2  \n",
       "1238      2          0  \n",
       "1273      2          2  \n",
       "1437      2          3  \n",
       "860       0          3  \n",
       "\n",
       "[7102 rows x 7 columns]"
      ]
     },
     "execution_count": 5,
     "metadata": {},
     "output_type": "execute_result"
    }
   ],
   "source": [
    "TRAIN_DATA[\"Category\"] = TRAIN_DATA[\"Affect Dimension\"]\n",
    "TRAIN_DATA[\"Label\"] = TRAIN_DATA[\"Affect Dimension\"].apply(lambda x: EMOTIONS_LABEL[x])\n",
    "TRAIN_DATA[\"Intensity\"] = TRAIN_DATA[\"Intensity Class\"].apply(lambda x: int(x[0]))\n",
    "TRAIN_DATA"
   ]
  },
  {
   "cell_type": "code",
   "execution_count": 6,
   "metadata": {},
   "outputs": [
    {
     "data": {
      "text/plain": [
       "fear       2252\n",
       "anger      1701\n",
       "joy        1616\n",
       "sadness    1533\n",
       "Name: Category, dtype: int64"
      ]
     },
     "execution_count": 6,
     "metadata": {},
     "output_type": "execute_result"
    }
   ],
   "source": [
    "TRAIN_DATA[\"Category\"].value_counts()"
   ]
  },
  {
   "cell_type": "code",
   "execution_count": 7,
   "metadata": {},
   "outputs": [],
   "source": [
    "TRAIN_CATEGORY_WEIGHTS = TRAIN_DATA[\"Category\"].value_counts().to_dict()\n",
    "TRAIN_LABEL_WEIGHTS =  TRAIN_DATA[\"Label\"].value_counts().to_dict()"
   ]
  },
  {
   "cell_type": "code",
   "execution_count": 8,
   "metadata": {},
   "outputs": [
    {
     "data": {
      "text/html": [
       "<div>\n",
       "<style scoped>\n",
       "    .dataframe tbody tr th:only-of-type {\n",
       "        vertical-align: middle;\n",
       "    }\n",
       "\n",
       "    .dataframe tbody tr th {\n",
       "        vertical-align: top;\n",
       "    }\n",
       "\n",
       "    .dataframe thead th {\n",
       "        text-align: right;\n",
       "    }\n",
       "</style>\n",
       "<table border=\"1\" class=\"dataframe\">\n",
       "  <thead>\n",
       "    <tr style=\"text-align: right;\">\n",
       "      <th></th>\n",
       "      <th>ID</th>\n",
       "      <th>Tweet</th>\n",
       "      <th>Affect Dimension</th>\n",
       "      <th>Intensity Class</th>\n",
       "    </tr>\n",
       "  </thead>\n",
       "  <tbody>\n",
       "    <tr>\n",
       "      <th>321</th>\n",
       "      <td>2018-En-01824</td>\n",
       "      <td>God this match is dull #Wimbledon</td>\n",
       "      <td>anger</td>\n",
       "      <td>1: low amount of anger can be inferred</td>\n",
       "    </tr>\n",
       "    <tr>\n",
       "      <th>62</th>\n",
       "      <td>2018-En-03227</td>\n",
       "      <td>Not only has my flight been delayed numerous t...</td>\n",
       "      <td>fear</td>\n",
       "      <td>1: low amount of fear can be inferred</td>\n",
       "    </tr>\n",
       "    <tr>\n",
       "      <th>327</th>\n",
       "      <td>2018-En-00695</td>\n",
       "      <td>@austin_j_powers @I_am_bumface @R9Rai @Holborn...</td>\n",
       "      <td>fear</td>\n",
       "      <td>1: low amount of fear can be inferred</td>\n",
       "    </tr>\n",
       "    <tr>\n",
       "      <th>166</th>\n",
       "      <td>2018-En-03038</td>\n",
       "      <td>James Clapper 'scary and disturbing'.  #25thAm...</td>\n",
       "      <td>fear</td>\n",
       "      <td>2: moderate amount of fear can be inferred</td>\n",
       "    </tr>\n",
       "    <tr>\n",
       "      <th>369</th>\n",
       "      <td>2018-En-03488</td>\n",
       "      <td>I wish EVERYONE could see how #MSNBC #CNN talk...</td>\n",
       "      <td>anger</td>\n",
       "      <td>1: low amount of anger can be inferred</td>\n",
       "    </tr>\n",
       "    <tr>\n",
       "      <th>...</th>\n",
       "      <td>...</td>\n",
       "      <td>...</td>\n",
       "      <td>...</td>\n",
       "      <td>...</td>\n",
       "    </tr>\n",
       "    <tr>\n",
       "      <th>55</th>\n",
       "      <td>2018-En-00823</td>\n",
       "      <td>Only halfway through #madeforlove by @AlissaNu...</td>\n",
       "      <td>joy</td>\n",
       "      <td>3: high amount of joy can be inferred</td>\n",
       "    </tr>\n",
       "    <tr>\n",
       "      <th>266</th>\n",
       "      <td>2018-En-01671</td>\n",
       "      <td>Nigga write me talking bout I dreamt about you...</td>\n",
       "      <td>sadness</td>\n",
       "      <td>0: no sadness can be inferred</td>\n",
       "    </tr>\n",
       "    <tr>\n",
       "      <th>207</th>\n",
       "      <td>2018-En-00657</td>\n",
       "      <td>Damn I'm tired as hell I never get a off day d...</td>\n",
       "      <td>sadness</td>\n",
       "      <td>2: moderate amount of sadness can be inferred</td>\n",
       "    </tr>\n",
       "    <tr>\n",
       "      <th>235</th>\n",
       "      <td>2018-En-03719</td>\n",
       "      <td>The blackest abyss of despair, Alonzo</td>\n",
       "      <td>sadness</td>\n",
       "      <td>2: moderate amount of sadness can be inferred</td>\n",
       "    </tr>\n",
       "    <tr>\n",
       "      <th>176</th>\n",
       "      <td>2018-En-00405</td>\n",
       "      <td>Media is so focused on bad news that we forget...</td>\n",
       "      <td>joy</td>\n",
       "      <td>1: low amount of joy can be inferred</td>\n",
       "    </tr>\n",
       "  </tbody>\n",
       "</table>\n",
       "<p>1464 rows × 4 columns</p>\n",
       "</div>"
      ],
      "text/plain": [
       "                ID                                              Tweet  \\\n",
       "321  2018-En-01824                  God this match is dull #Wimbledon   \n",
       "62   2018-En-03227  Not only has my flight been delayed numerous t...   \n",
       "327  2018-En-00695  @austin_j_powers @I_am_bumface @R9Rai @Holborn...   \n",
       "166  2018-En-03038  James Clapper 'scary and disturbing'.  #25thAm...   \n",
       "369  2018-En-03488  I wish EVERYONE could see how #MSNBC #CNN talk...   \n",
       "..             ...                                                ...   \n",
       "55   2018-En-00823  Only halfway through #madeforlove by @AlissaNu...   \n",
       "266  2018-En-01671  Nigga write me talking bout I dreamt about you...   \n",
       "207  2018-En-00657  Damn I'm tired as hell I never get a off day d...   \n",
       "235  2018-En-03719              The blackest abyss of despair, Alonzo   \n",
       "176  2018-En-00405  Media is so focused on bad news that we forget...   \n",
       "\n",
       "    Affect Dimension                                Intensity Class  \n",
       "321            anger         1: low amount of anger can be inferred  \n",
       "62              fear          1: low amount of fear can be inferred  \n",
       "327             fear          1: low amount of fear can be inferred  \n",
       "166             fear     2: moderate amount of fear can be inferred  \n",
       "369            anger         1: low amount of anger can be inferred  \n",
       "..               ...                                            ...  \n",
       "55               joy          3: high amount of joy can be inferred  \n",
       "266          sadness                  0: no sadness can be inferred  \n",
       "207          sadness  2: moderate amount of sadness can be inferred  \n",
       "235          sadness  2: moderate amount of sadness can be inferred  \n",
       "176              joy           1: low amount of joy can be inferred  \n",
       "\n",
       "[1464 rows x 4 columns]"
      ]
     },
     "execution_count": 8,
     "metadata": {},
     "output_type": "execute_result"
    }
   ],
   "source": [
    "DEV_DATA = pd.concat(pd.read_csv(f, sep='\\t') for f in DEV_FILES)\n",
    "DEV_DATA = sklearn.utils.shuffle(DEV_DATA)\n",
    "DEV_DATA"
   ]
  },
  {
   "cell_type": "code",
   "execution_count": 9,
   "metadata": {},
   "outputs": [
    {
     "data": {
      "text/html": [
       "<div>\n",
       "<style scoped>\n",
       "    .dataframe tbody tr th:only-of-type {\n",
       "        vertical-align: middle;\n",
       "    }\n",
       "\n",
       "    .dataframe tbody tr th {\n",
       "        vertical-align: top;\n",
       "    }\n",
       "\n",
       "    .dataframe thead th {\n",
       "        text-align: right;\n",
       "    }\n",
       "</style>\n",
       "<table border=\"1\" class=\"dataframe\">\n",
       "  <thead>\n",
       "    <tr style=\"text-align: right;\">\n",
       "      <th></th>\n",
       "      <th>ID</th>\n",
       "      <th>Tweet</th>\n",
       "      <th>Affect Dimension</th>\n",
       "      <th>Intensity Class</th>\n",
       "      <th>Category</th>\n",
       "      <th>Label</th>\n",
       "      <th>Intensity</th>\n",
       "    </tr>\n",
       "  </thead>\n",
       "  <tbody>\n",
       "    <tr>\n",
       "      <th>321</th>\n",
       "      <td>2018-En-01824</td>\n",
       "      <td>God this match is dull #Wimbledon</td>\n",
       "      <td>anger</td>\n",
       "      <td>1: low amount of anger can be inferred</td>\n",
       "      <td>anger</td>\n",
       "      <td>0</td>\n",
       "      <td>1</td>\n",
       "    </tr>\n",
       "    <tr>\n",
       "      <th>62</th>\n",
       "      <td>2018-En-03227</td>\n",
       "      <td>Not only has my flight been delayed numerous t...</td>\n",
       "      <td>fear</td>\n",
       "      <td>1: low amount of fear can be inferred</td>\n",
       "      <td>fear</td>\n",
       "      <td>1</td>\n",
       "      <td>1</td>\n",
       "    </tr>\n",
       "    <tr>\n",
       "      <th>327</th>\n",
       "      <td>2018-En-00695</td>\n",
       "      <td>@austin_j_powers @I_am_bumface @R9Rai @Holborn...</td>\n",
       "      <td>fear</td>\n",
       "      <td>1: low amount of fear can be inferred</td>\n",
       "      <td>fear</td>\n",
       "      <td>1</td>\n",
       "      <td>1</td>\n",
       "    </tr>\n",
       "    <tr>\n",
       "      <th>166</th>\n",
       "      <td>2018-En-03038</td>\n",
       "      <td>James Clapper 'scary and disturbing'.  #25thAm...</td>\n",
       "      <td>fear</td>\n",
       "      <td>2: moderate amount of fear can be inferred</td>\n",
       "      <td>fear</td>\n",
       "      <td>1</td>\n",
       "      <td>2</td>\n",
       "    </tr>\n",
       "    <tr>\n",
       "      <th>369</th>\n",
       "      <td>2018-En-03488</td>\n",
       "      <td>I wish EVERYONE could see how #MSNBC #CNN talk...</td>\n",
       "      <td>anger</td>\n",
       "      <td>1: low amount of anger can be inferred</td>\n",
       "      <td>anger</td>\n",
       "      <td>0</td>\n",
       "      <td>1</td>\n",
       "    </tr>\n",
       "    <tr>\n",
       "      <th>...</th>\n",
       "      <td>...</td>\n",
       "      <td>...</td>\n",
       "      <td>...</td>\n",
       "      <td>...</td>\n",
       "      <td>...</td>\n",
       "      <td>...</td>\n",
       "      <td>...</td>\n",
       "    </tr>\n",
       "    <tr>\n",
       "      <th>55</th>\n",
       "      <td>2018-En-00823</td>\n",
       "      <td>Only halfway through #madeforlove by @AlissaNu...</td>\n",
       "      <td>joy</td>\n",
       "      <td>3: high amount of joy can be inferred</td>\n",
       "      <td>joy</td>\n",
       "      <td>2</td>\n",
       "      <td>3</td>\n",
       "    </tr>\n",
       "    <tr>\n",
       "      <th>266</th>\n",
       "      <td>2018-En-01671</td>\n",
       "      <td>Nigga write me talking bout I dreamt about you...</td>\n",
       "      <td>sadness</td>\n",
       "      <td>0: no sadness can be inferred</td>\n",
       "      <td>sadness</td>\n",
       "      <td>3</td>\n",
       "      <td>0</td>\n",
       "    </tr>\n",
       "    <tr>\n",
       "      <th>207</th>\n",
       "      <td>2018-En-00657</td>\n",
       "      <td>Damn I'm tired as hell I never get a off day d...</td>\n",
       "      <td>sadness</td>\n",
       "      <td>2: moderate amount of sadness can be inferred</td>\n",
       "      <td>sadness</td>\n",
       "      <td>3</td>\n",
       "      <td>2</td>\n",
       "    </tr>\n",
       "    <tr>\n",
       "      <th>235</th>\n",
       "      <td>2018-En-03719</td>\n",
       "      <td>The blackest abyss of despair, Alonzo</td>\n",
       "      <td>sadness</td>\n",
       "      <td>2: moderate amount of sadness can be inferred</td>\n",
       "      <td>sadness</td>\n",
       "      <td>3</td>\n",
       "      <td>2</td>\n",
       "    </tr>\n",
       "    <tr>\n",
       "      <th>176</th>\n",
       "      <td>2018-En-00405</td>\n",
       "      <td>Media is so focused on bad news that we forget...</td>\n",
       "      <td>joy</td>\n",
       "      <td>1: low amount of joy can be inferred</td>\n",
       "      <td>joy</td>\n",
       "      <td>2</td>\n",
       "      <td>1</td>\n",
       "    </tr>\n",
       "  </tbody>\n",
       "</table>\n",
       "<p>1464 rows × 7 columns</p>\n",
       "</div>"
      ],
      "text/plain": [
       "                ID                                              Tweet  \\\n",
       "321  2018-En-01824                  God this match is dull #Wimbledon   \n",
       "62   2018-En-03227  Not only has my flight been delayed numerous t...   \n",
       "327  2018-En-00695  @austin_j_powers @I_am_bumface @R9Rai @Holborn...   \n",
       "166  2018-En-03038  James Clapper 'scary and disturbing'.  #25thAm...   \n",
       "369  2018-En-03488  I wish EVERYONE could see how #MSNBC #CNN talk...   \n",
       "..             ...                                                ...   \n",
       "55   2018-En-00823  Only halfway through #madeforlove by @AlissaNu...   \n",
       "266  2018-En-01671  Nigga write me talking bout I dreamt about you...   \n",
       "207  2018-En-00657  Damn I'm tired as hell I never get a off day d...   \n",
       "235  2018-En-03719              The blackest abyss of despair, Alonzo   \n",
       "176  2018-En-00405  Media is so focused on bad news that we forget...   \n",
       "\n",
       "    Affect Dimension                                Intensity Class Category  \\\n",
       "321            anger         1: low amount of anger can be inferred    anger   \n",
       "62              fear          1: low amount of fear can be inferred     fear   \n",
       "327             fear          1: low amount of fear can be inferred     fear   \n",
       "166             fear     2: moderate amount of fear can be inferred     fear   \n",
       "369            anger         1: low amount of anger can be inferred    anger   \n",
       "..               ...                                            ...      ...   \n",
       "55               joy          3: high amount of joy can be inferred      joy   \n",
       "266          sadness                  0: no sadness can be inferred  sadness   \n",
       "207          sadness  2: moderate amount of sadness can be inferred  sadness   \n",
       "235          sadness  2: moderate amount of sadness can be inferred  sadness   \n",
       "176              joy           1: low amount of joy can be inferred      joy   \n",
       "\n",
       "     Label  Intensity  \n",
       "321      0          1  \n",
       "62       1          1  \n",
       "327      1          1  \n",
       "166      1          2  \n",
       "369      0          1  \n",
       "..     ...        ...  \n",
       "55       2          3  \n",
       "266      3          0  \n",
       "207      3          2  \n",
       "235      3          2  \n",
       "176      2          1  \n",
       "\n",
       "[1464 rows x 7 columns]"
      ]
     },
     "execution_count": 9,
     "metadata": {},
     "output_type": "execute_result"
    }
   ],
   "source": [
    "DEV_DATA[\"Category\"] = DEV_DATA[\"Affect Dimension\"]\n",
    "DEV_DATA[\"Label\"] = DEV_DATA[\"Affect Dimension\"].apply(lambda x: EMOTIONS_LABEL[x])\n",
    "DEV_DATA[\"Intensity\"] = DEV_DATA[\"Intensity Class\"].apply(lambda x: int(x[0]))\n",
    "DEV_DATA"
   ]
  },
  {
   "cell_type": "markdown",
   "metadata": {},
   "source": [
    "## Tweet cleaning"
   ]
  },
  {
   "cell_type": "code",
   "execution_count": 10,
   "metadata": {},
   "outputs": [
    {
     "name": "stderr",
     "output_type": "stream",
     "text": [
      "[nltk_data] Downloading package wordnet to /home/cwh/nltk_data...\n",
      "[nltk_data]   Package wordnet is already up-to-date!\n"
     ]
    }
   ],
   "source": [
    "#For Pre-Processing\n",
    "import emoji\n",
    "from bs4 import BeautifulSoup\n",
    "from nltk.stem import WordNetLemmatizer, SnowballStemmer\n",
    "from nltk.corpus import stopwords\n",
    "from tqdm import tqdm\n",
    "from nltk.tokenize import RegexpTokenizer \n",
    "from nltk.tokenize import word_tokenize\n",
    "\n",
    "import nltk\n",
    "nltk.download('wordnet')\n",
    "\n",
    "stemmer = SnowballStemmer(\"english\")\n",
    "lemmatizer = WordNetLemmatizer()\n",
    "stop_words = set(stopwords.words('english'))\n",
    "\n",
    "# For visualizing\n",
    "import seaborn as sns\n",
    "import matplotlib.pyplot as plt"
   ]
  },
  {
   "cell_type": "code",
   "execution_count": 11,
   "metadata": {},
   "outputs": [],
   "source": [
    "def decode_emoji(text):\n",
    "    output = []\n",
    "    for t in emoji.demojize(text).split():\n",
    "        output.extend(t.split(\"_\"))\n",
    "    return ' '.join(output)\n",
    "\n",
    "def decode_HTML(text):\n",
    "    return BeautifulSoup(text, 'lxml').get_text()\n",
    "\n",
    "def remove_mention(text):\n",
    "    return re.sub(r'@[A-Za-z0-9]+', '', text)\n",
    "    \n",
    "def remove_URL(text):\n",
    "    return re.sub(r\"http\\S+\", \"\", text)\n",
    "\n",
    "def remove_punctuation(text):\n",
    "    return re.sub(r'[^\\w\\s]', ' ', text)\n",
    "\n",
    "def correct_repeatted_letters(text):\n",
    "    return re.sub(r'(.)\\1+', r'\\1\\1', text)\n",
    "\n",
    "def to_lowercase(text):\n",
    "    return ' '.join([w.lower() for w in text.split()])\n",
    " \n",
    "def lemmatize_stemming(text):\n",
    "    return ' '.join([stemmer.stem(lemmatizer.lemmatize(w, pos='v'))\n",
    "                     for w in text.split()])\n",
    "\n",
    "def remove_stop_words(text):\n",
    "    return ' '.join([w for w in text.split() if w not in stop_words])"
   ]
  },
  {
   "cell_type": "code",
   "execution_count": 12,
   "metadata": {},
   "outputs": [],
   "source": [
    "def pre_process(text):\n",
    "    text = decode_emoji(text)\n",
    "    text = decode_HTML(text)\n",
    "    text = remove_mention(text)\n",
    "    text = remove_URL(text)\n",
    "    text = remove_punctuation(text)\n",
    "    text = correct_repeatted_letters(text)\n",
    "    text = to_lowercase(text)       \n",
    "    text = lemmatize_stemming(text)\n",
    "    text = remove_stop_words(text)\n",
    "    return text"
   ]
  },
  {
   "cell_type": "code",
   "execution_count": 13,
   "metadata": {},
   "outputs": [
    {
     "name": "stdout",
     "output_type": "stream",
     "text": [
      "BEFORE: Incredibly shocked and disappointed with @united customer service. Really making me rethink flying with them in the future. #unhappy\n",
      "AFTER : incred shock disappoint custom servic realli make rethink fli futur unhappi\n",
      "\n",
      "BEFORE: If yiu don't respond .o an email within 7 days, you willxbe killed by an animated gif of the girl froa The Ri.g.\n",
      "AFTER : yiu respond email within 7 day willxb kill anim gif girl froa ri g\n",
      "\n",
      "BEFORE: Watch this amazing live.ly broadcast by @maisiev #lively #musically\n",
      "AFTER : watch amaz live ly broadcast live music\n",
      "\n",
      "BEFORE: But I got to see her last when she was lively and talkative and I was able to tell her I loved her so that's what matters.\n",
      "AFTER : get see last live talkat abl tell love matter\n",
      "\n",
      "BEFORE: @ThomasHCrown @laurakfillault As a historic evangelical, I wonder if the Donatists had a point? What dreadful clergy in my fmr. circles.\n",
      "AFTER : histor evangel wonder donatist point dread clergi fmr circl\n",
      "\n"
     ]
    }
   ],
   "source": [
    "for t in TRAIN_DATA[\"Tweet\"][:5]:\n",
    "    print(\"BEFORE:\", t)\n",
    "    print(\"AFTER :\", pre_process(t))\n",
    "    print()"
   ]
  },
  {
   "cell_type": "code",
   "execution_count": 14,
   "metadata": {},
   "outputs": [
    {
     "data": {
      "text/html": [
       "<div>\n",
       "<style scoped>\n",
       "    .dataframe tbody tr th:only-of-type {\n",
       "        vertical-align: middle;\n",
       "    }\n",
       "\n",
       "    .dataframe tbody tr th {\n",
       "        vertical-align: top;\n",
       "    }\n",
       "\n",
       "    .dataframe thead th {\n",
       "        text-align: right;\n",
       "    }\n",
       "</style>\n",
       "<table border=\"1\" class=\"dataframe\">\n",
       "  <thead>\n",
       "    <tr style=\"text-align: right;\">\n",
       "      <th></th>\n",
       "      <th>ID</th>\n",
       "      <th>Tweet</th>\n",
       "      <th>Affect Dimension</th>\n",
       "      <th>Intensity Class</th>\n",
       "      <th>Category</th>\n",
       "      <th>Label</th>\n",
       "      <th>Intensity</th>\n",
       "      <th>Text</th>\n",
       "      <th>Text_len</th>\n",
       "    </tr>\n",
       "  </thead>\n",
       "  <tbody>\n",
       "    <tr>\n",
       "      <th>526</th>\n",
       "      <td>2017-En-41199</td>\n",
       "      <td>Incredibly shocked and disappointed with @unit...</td>\n",
       "      <td>sadness</td>\n",
       "      <td>3: high amount of sadness can be inferred</td>\n",
       "      <td>sadness</td>\n",
       "      <td>3</td>\n",
       "      <td>3</td>\n",
       "      <td>incred shock disappoint custom servic realli m...</td>\n",
       "      <td>11</td>\n",
       "    </tr>\n",
       "    <tr>\n",
       "      <th>494</th>\n",
       "      <td>2017-En-30873</td>\n",
       "      <td>If yiu don't respond .o an email within 7 days...</td>\n",
       "      <td>joy</td>\n",
       "      <td>0: no joy can be inferred</td>\n",
       "      <td>joy</td>\n",
       "      <td>2</td>\n",
       "      <td>0</td>\n",
       "      <td>yiu respond email within 7 day willxb kill ani...</td>\n",
       "      <td>14</td>\n",
       "    </tr>\n",
       "    <tr>\n",
       "      <th>724</th>\n",
       "      <td>2017-En-30332</td>\n",
       "      <td>Watch this amazing live.ly broadcast by @maisi...</td>\n",
       "      <td>joy</td>\n",
       "      <td>2: moderate amount of joy can be inferred</td>\n",
       "      <td>joy</td>\n",
       "      <td>2</td>\n",
       "      <td>2</td>\n",
       "      <td>watch amaz live ly broadcast live music</td>\n",
       "      <td>7</td>\n",
       "    </tr>\n",
       "    <tr>\n",
       "      <th>879</th>\n",
       "      <td>2017-En-31279</td>\n",
       "      <td>But I got to see her last when she was lively ...</td>\n",
       "      <td>joy</td>\n",
       "      <td>0: no joy can be inferred</td>\n",
       "      <td>joy</td>\n",
       "      <td>2</td>\n",
       "      <td>0</td>\n",
       "      <td>get see last live talkat abl tell love matter</td>\n",
       "      <td>9</td>\n",
       "    </tr>\n",
       "    <tr>\n",
       "      <th>2095</th>\n",
       "      <td>2017-En-21925</td>\n",
       "      <td>@ThomasHCrown @laurakfillault As a historic ev...</td>\n",
       "      <td>fear</td>\n",
       "      <td>0: no fear can be inferred</td>\n",
       "      <td>fear</td>\n",
       "      <td>1</td>\n",
       "      <td>0</td>\n",
       "      <td>histor evangel wonder donatist point dread cle...</td>\n",
       "      <td>9</td>\n",
       "    </tr>\n",
       "  </tbody>\n",
       "</table>\n",
       "</div>"
      ],
      "text/plain": [
       "                 ID                                              Tweet  \\\n",
       "526   2017-En-41199  Incredibly shocked and disappointed with @unit...   \n",
       "494   2017-En-30873  If yiu don't respond .o an email within 7 days...   \n",
       "724   2017-En-30332  Watch this amazing live.ly broadcast by @maisi...   \n",
       "879   2017-En-31279  But I got to see her last when she was lively ...   \n",
       "2095  2017-En-21925  @ThomasHCrown @laurakfillault As a historic ev...   \n",
       "\n",
       "     Affect Dimension                            Intensity Class Category  \\\n",
       "526           sadness  3: high amount of sadness can be inferred  sadness   \n",
       "494               joy                  0: no joy can be inferred      joy   \n",
       "724               joy  2: moderate amount of joy can be inferred      joy   \n",
       "879               joy                  0: no joy can be inferred      joy   \n",
       "2095             fear                 0: no fear can be inferred     fear   \n",
       "\n",
       "      Label  Intensity                                               Text  \\\n",
       "526       3          3  incred shock disappoint custom servic realli m...   \n",
       "494       2          0  yiu respond email within 7 day willxb kill ani...   \n",
       "724       2          2            watch amaz live ly broadcast live music   \n",
       "879       2          0      get see last live talkat abl tell love matter   \n",
       "2095      1          0  histor evangel wonder donatist point dread cle...   \n",
       "\n",
       "      Text_len  \n",
       "526         11  \n",
       "494         14  \n",
       "724          7  \n",
       "879          9  \n",
       "2095         9  "
      ]
     },
     "execution_count": 14,
     "metadata": {},
     "output_type": "execute_result"
    }
   ],
   "source": [
    "# Train data cleaning\n",
    "TRAIN_DATA[\"Text\"] = TRAIN_DATA[\"Tweet\"].apply(lambda s: pre_process(s))\n",
    "TRAIN_DATA[\"Text_len\"] = TRAIN_DATA[\"Text\"].apply(lambda s: len(s.split()))\n",
    "TRAIN_DATA.head(5)"
   ]
  },
  {
   "cell_type": "code",
   "execution_count": 15,
   "metadata": {},
   "outputs": [
    {
     "data": {
      "text/html": [
       "<div>\n",
       "<style scoped>\n",
       "    .dataframe tbody tr th:only-of-type {\n",
       "        vertical-align: middle;\n",
       "    }\n",
       "\n",
       "    .dataframe tbody tr th {\n",
       "        vertical-align: top;\n",
       "    }\n",
       "\n",
       "    .dataframe thead th {\n",
       "        text-align: right;\n",
       "    }\n",
       "</style>\n",
       "<table border=\"1\" class=\"dataframe\">\n",
       "  <thead>\n",
       "    <tr style=\"text-align: right;\">\n",
       "      <th></th>\n",
       "      <th>ID</th>\n",
       "      <th>Tweet</th>\n",
       "      <th>Affect Dimension</th>\n",
       "      <th>Intensity Class</th>\n",
       "      <th>Category</th>\n",
       "      <th>Label</th>\n",
       "      <th>Intensity</th>\n",
       "      <th>Text</th>\n",
       "      <th>Text_len</th>\n",
       "    </tr>\n",
       "  </thead>\n",
       "  <tbody>\n",
       "    <tr>\n",
       "      <th>321</th>\n",
       "      <td>2018-En-01824</td>\n",
       "      <td>God this match is dull #Wimbledon</td>\n",
       "      <td>anger</td>\n",
       "      <td>1: low amount of anger can be inferred</td>\n",
       "      <td>anger</td>\n",
       "      <td>0</td>\n",
       "      <td>1</td>\n",
       "      <td>god match dull wimbledon</td>\n",
       "      <td>4</td>\n",
       "    </tr>\n",
       "    <tr>\n",
       "      <th>62</th>\n",
       "      <td>2018-En-03227</td>\n",
       "      <td>Not only has my flight been delayed numerous t...</td>\n",
       "      <td>fear</td>\n",
       "      <td>1: low amount of fear can be inferred</td>\n",
       "      <td>fear</td>\n",
       "      <td>1</td>\n",
       "      <td>1</td>\n",
       "      <td>onli flight delay numer time provid snack cart...</td>\n",
       "      <td>9</td>\n",
       "    </tr>\n",
       "    <tr>\n",
       "      <th>327</th>\n",
       "      <td>2018-En-00695</td>\n",
       "      <td>@austin_j_powers @I_am_bumface @R9Rai @Holborn...</td>\n",
       "      <td>fear</td>\n",
       "      <td>1: low amount of fear can be inferred</td>\n",
       "      <td>fear</td>\n",
       "      <td>1</td>\n",
       "      <td>1</td>\n",
       "      <td>j power bumfac absolut shock behavour</td>\n",
       "      <td>6</td>\n",
       "    </tr>\n",
       "    <tr>\n",
       "      <th>166</th>\n",
       "      <td>2018-En-03038</td>\n",
       "      <td>James Clapper 'scary and disturbing'.  #25thAm...</td>\n",
       "      <td>fear</td>\n",
       "      <td>2: moderate amount of fear can be inferred</td>\n",
       "      <td>fear</td>\n",
       "      <td>1</td>\n",
       "      <td>2</td>\n",
       "      <td>jam clapper scari disturb 25thamendmentnow imp...</td>\n",
       "      <td>9</td>\n",
       "    </tr>\n",
       "    <tr>\n",
       "      <th>369</th>\n",
       "      <td>2018-En-03488</td>\n",
       "      <td>I wish EVERYONE could see how #MSNBC #CNN talk...</td>\n",
       "      <td>anger</td>\n",
       "      <td>1: low amount of anger can be inferred</td>\n",
       "      <td>anger</td>\n",
       "      <td>0</td>\n",
       "      <td>1</td>\n",
       "      <td>wish everyon could see msnbc cnn talk trump sp...</td>\n",
       "      <td>13</td>\n",
       "    </tr>\n",
       "  </tbody>\n",
       "</table>\n",
       "</div>"
      ],
      "text/plain": [
       "                ID                                              Tweet  \\\n",
       "321  2018-En-01824                  God this match is dull #Wimbledon   \n",
       "62   2018-En-03227  Not only has my flight been delayed numerous t...   \n",
       "327  2018-En-00695  @austin_j_powers @I_am_bumface @R9Rai @Holborn...   \n",
       "166  2018-En-03038  James Clapper 'scary and disturbing'.  #25thAm...   \n",
       "369  2018-En-03488  I wish EVERYONE could see how #MSNBC #CNN talk...   \n",
       "\n",
       "    Affect Dimension                             Intensity Class Category  \\\n",
       "321            anger      1: low amount of anger can be inferred    anger   \n",
       "62              fear       1: low amount of fear can be inferred     fear   \n",
       "327             fear       1: low amount of fear can be inferred     fear   \n",
       "166             fear  2: moderate amount of fear can be inferred     fear   \n",
       "369            anger      1: low amount of anger can be inferred    anger   \n",
       "\n",
       "     Label  Intensity                                               Text  \\\n",
       "321      0          1                           god match dull wimbledon   \n",
       "62       1          1  onli flight delay numer time provid snack cart...   \n",
       "327      1          1              j power bumfac absolut shock behavour   \n",
       "166      1          2  jam clapper scari disturb 25thamendmentnow imp...   \n",
       "369      0          1  wish everyon could see msnbc cnn talk trump sp...   \n",
       "\n",
       "     Text_len  \n",
       "321         4  \n",
       "62          9  \n",
       "327         6  \n",
       "166         9  \n",
       "369        13  "
      ]
     },
     "execution_count": 15,
     "metadata": {},
     "output_type": "execute_result"
    }
   ],
   "source": [
    "# Dev data cleaning\n",
    "DEV_DATA[\"Text\"] = DEV_DATA[\"Tweet\"].apply(lambda s: pre_process(s))\n",
    "DEV_DATA[\"Text_len\"] = DEV_DATA[\"Text\"].apply(lambda s: len(s.split()))\n",
    "DEV_DATA.head(5)"
   ]
  },
  {
   "cell_type": "code",
   "execution_count": 16,
   "metadata": {},
   "outputs": [
    {
     "name": "stdout",
     "output_type": "stream",
     "text": [
      "count    7102.000000\n",
      "mean        9.513377\n",
      "std         4.402350\n",
      "min         1.000000\n",
      "25%         6.000000\n",
      "50%         9.000000\n",
      "75%        12.000000\n",
      "max        79.000000\n",
      "Name: Text_len, dtype: float64\n"
     ]
    },
    {
     "data": {
      "image/png": "[encoded data removed]",
      "text/plain": [
       "<Figure size 432x288 with 1 Axes>"
      ]
     },
     "metadata": {
      "needs_background": "light"
     },
     "output_type": "display_data"
    }
   ],
   "source": [
    "print(TRAIN_DATA[\"Text_len\"].describe())\n",
    "\n",
    "plt.hist(TRAIN_DATA[\"Text_len\"], color='blue', edgecolor='black')\n",
    "plt.title('Histogram of cleaned tweet length')\n",
    "plt.xlabel('length (word)')\n",
    "plt.ylabel('tweets')\n",
    "plt.show()"
   ]
  },
  {
   "cell_type": "code",
   "execution_count": 17,
   "metadata": {},
   "outputs": [
    {
     "name": "stdout",
     "output_type": "stream",
     "text": [
      "BEFORE: i will never watch greys anatomy ever ever ever ever ever again if Shonda Rimes takes away another OG character☹️☹️☹️☹️☹️☹️☹️☹️☹️☹️ #fuming\n",
      "AFTER : never watch grey anatomi ever ever ever ever ever shonda rim take away anoth og charact frown face selector frown face selector frown face selector frown face selector frown face selector frown face selector frown face selector frown face selector frown face selector frown face selector fume\n",
      "\n",
      "BEFORE: Good morning, Trondheim! #optimism #productivity ⛅️❤️🇳🇴🏢💻🖥🏋🏻💪🏼📺🍿\n",
      "AFTER : good morn trondheim optim product sun behind cloud red heart selector norway offic build laptop comput desktop comput person lift weight light skin tone flex bicep medium light skin tone televis popcorn\n",
      "\n",
      "BEFORE: i will never watch greys anatomy ever ever ever ever ever again if Shonda Rimes takes away another OG character☹️☹️☹️☹️☹️☹️☹️☹️☹️☹️ \n",
      "AFTER : never watch grey anatomi ever ever ever ever ever shonda rim take away anoth og charact frown face selector frown face selector frown face selector frown face selector frown face selector frown face selector frown face selector frown face selector frown face selector frown face selector\n",
      "\n",
      "BEFORE: @priny_baby happppy happppyyyyyy happppppyyyyy haaapppyyyy birthday best friend!! Love you lots 💖💖💖💖💖💖💖🎉🎊 #chapter22 #bdaygirl #happy #love\n",
      "AFTER : babi happi happyy happyy haappyy birthday best friend love lot sparkl heart sparkl heart sparkl heart sparkl heart sparkl heart sparkl heart sparkl heart parti popper confetti ball chapter22 bdaygirl happi love\n",
      "\n",
      "BEFORE: semores: let's get this. #mirth #SAW #keepthetradition 💜💛⚛🏵🍇🍋🌼🐤🐥👚😈😈👾🧀\n",
      "AFTER : semor let get mirth saw keepthetradit purpl heart yellow heart atom symbol rosett grape lemon blossom babi chick front face babi chick woman cloth smile face horn smile face horn alien monster chees wedg\n",
      "\n",
      "BEFORE: Nahhhhhh @konanplaydirty snap story has got me bussing up 😂😂😂😂😂😂😂😂😂😂😂😂😂😂\n",
      "AFTER : nahh snap stori get buss face tear joy face tear joy face tear joy face tear joy face tear joy face tear joy face tear joy face tear joy face tear joy face tear joy face tear joy face tear joy face tear joy face tear joy\n",
      "\n",
      "BEFORE: Think I really broke young bull hurt 😂😂😭😭 u can tell by how bitter and mad he is 😊😊😩😩\n",
      "AFTER : think realli break young bull hurt face tear joy face tear joy loud cri face loud cri face u tell bitter mad smile face smile eye smile face smile eye weari face weari face\n",
      "\n",
      "BEFORE: Trying to think positive, and not let this situation discourage me ✨✨✨✨✨✨✨✨✨✨✨✨✨✨✨✨✨✨✨✨✨✨✨✨✨✨✨✨✨✨✨✨✨✨✨✨✨✨✨✨✨✨✨✨✨✨✨✨✨✨✨✨✨✨✨✨✨✨✨✨✨✨✨✨✨✨✨✨✨✨✨✨✨\n",
      "AFTER : tri think posit let situat discourag sparkl sparkl sparkl sparkl sparkl sparkl sparkl sparkl sparkl sparkl sparkl sparkl sparkl sparkl sparkl sparkl sparkl sparkl sparkl sparkl sparkl sparkl sparkl sparkl sparkl sparkl sparkl sparkl sparkl sparkl sparkl sparkl sparkl sparkl sparkl sparkl sparkl sparkl sparkl sparkl sparkl sparkl sparkl sparkl sparkl sparkl sparkl sparkl sparkl sparkl sparkl sparkl sparkl sparkl sparkl sparkl sparkl sparkl sparkl sparkl sparkl sparkl sparkl sparkl sparkl sparkl sparkl sparkl sparkl sparkl sparkl sparkl sparkl\n",
      "\n",
      "BEFORE: @priny_baby happppy happppyyyyyy happppppyyyyy haaapppyyyy birthday best friend!! Love you lots 💖💖💖💖💖💖💖🎉🎊 #chapter22 #bdaygirl  #love\n",
      "AFTER : babi happi happyy happyy haappyy birthday best friend love lot sparkl heart sparkl heart sparkl heart sparkl heart sparkl heart sparkl heart sparkl heart parti popper confetti ball chapter22 bdaygirl love\n",
      "\n",
      "BEFORE: Fast and furious 6 this Monday 10 pm on mbc 2 😍😍😍😍😍😍😍\n",
      "AFTER : fast furious 6 monday 10 pm mbc 2 smile face heart eye smile face heart eye smile face heart eye smile face heart eye smile face heart eye smile face heart eye smile face heart eye\n",
      "\n"
     ]
    }
   ],
   "source": [
    "for i, t in TRAIN_DATA.iterrows():\n",
    "    if t[\"Text_len\"] > 30:\n",
    "        print(\"BEFORE:\", t[\"Tweet\"])\n",
    "        print(\"AFTER :\", t[\"Text\"])\n",
    "        print()"
   ]
  },
  {
   "cell_type": "markdown",
   "metadata": {},
   "source": [
    "## Retrive pre-trained GloVe word embedding"
   ]
  },
  {
   "cell_type": "code",
   "execution_count": 18,
   "metadata": {},
   "outputs": [
    {
     "name": "stderr",
     "output_type": "stream",
     "text": [
      "  0%|          | 861/1193515 [00:00<02:18, 8603.81it/s]"
     ]
    },
    {
     "name": "stdout",
     "output_type": "stream",
     "text": [
      "loading word embeddings from GloVe...\n"
     ]
    },
    {
     "name": "stderr",
     "output_type": "stream",
     "text": [
      "100%|██████████| 1193515/1193515 [01:45<00:00, 11325.08it/s]"
     ]
    },
    {
     "name": "stdout",
     "output_type": "stream",
     "text": [
      "found 1193514 word vectors\n"
     ]
    },
    {
     "name": "stderr",
     "output_type": "stream",
     "text": [
      "\n"
     ]
    }
   ],
   "source": [
    "# zip_file_url = \"http://nlp.stanford.edu/data/glove.twitter.27B.zip\"\n",
    "print('loading word embeddings from GloVe...')\n",
    "\n",
    "embeddings_index = {}\n",
    "f = codecs.open('../gloVe/glove.twitter.27B.200d.txt', encoding='utf-8')\n",
    "\n",
    "for line in tqdm(f, total=1193515):\n",
    "    values = line.rstrip().rsplit(' ')\n",
    "    word = values[0]\n",
    "    coefs = np.asarray(values[1:], dtype='float32')\n",
    "    embeddings_index[word] = coefs\n",
    "f.close()\n",
    "\n",
    "print('found %s word vectors' % len(embeddings_index))"
   ]
  },
  {
   "cell_type": "markdown",
   "metadata": {},
   "source": [
    "## tokenzing data"
   ]
  },
  {
   "cell_type": "code",
   "execution_count": 19,
   "metadata": {},
   "outputs": [
    {
     "name": "stdout",
     "output_type": "stream",
     "text": [
      "dictionary size:  10000\n"
     ]
    }
   ],
   "source": [
    "counter = collections.Counter(word for text in TRAIN_DATA['Text'] for word in text.split())\n",
    "words_list = sorted(counter.items(), key=lambda x:x[1], reverse=True)\n",
    "word_index = {word[0]: i+1 for i, word in enumerate(words_list)}\n",
    "print(\"dictionary size: \", len(word_index))"
   ]
  },
  {
   "cell_type": "code",
   "execution_count": 20,
   "metadata": {},
   "outputs": [
    {
     "name": "stdout",
     "output_type": "stream",
     "text": [
      "preparing embedding matrix...\n",
      "number of null word embeddings: 2867\n",
      "sample words not found:  ['overdos' 'pinafor' 'nojobsinbiolog' '3499' 'debates2016' 'lovinle'\n",
      " 'endlessposs' 'willxb' 'ruthann' 'milleni']\n"
     ]
    }
   ],
   "source": [
    "#embedding matrix\n",
    "print('preparing embedding matrix...')\n",
    "\n",
    "words_not_found = []\n",
    "nb_words = len(word_index) + 1\n",
    "embed_dim = 200\n",
    "embedding_matrix = np.zeros((nb_words, embed_dim))\n",
    "\n",
    "for word, i in word_index.items():\n",
    "    if i >= nb_words:\n",
    "        continue\n",
    "    embedding_vector = embeddings_index.get(word)\n",
    "    if (embedding_vector is not None) and len(embedding_vector) > 0:\n",
    "        # words not found in embedding index will be all-zeros.\n",
    "        embedding_matrix[i] = embedding_vector\n",
    "    else:\n",
    "        words_not_found.append(word)\n",
    "\n",
    "print('number of null word embeddings: %d' % np.sum(np.sum(embedding_matrix, axis=1) == 0))\n",
    "print(\"sample words not found: \", np.random.choice(words_not_found, 10))"
   ]
  },
  {
   "cell_type": "code",
   "execution_count": 21,
   "metadata": {},
   "outputs": [],
   "source": [
    "def words_to_seq(words):\n",
    "    return np.array([word_index.get(word, 0) for word in words])\n",
    "\n",
    "def tokenize(data):\n",
    "    X_data = []\n",
    "    y_data = []\n",
    "    \n",
    "    for X, y in zip(data[\"Tweet\"], data[\"Label\"]):\n",
    "        words = pre_process(X).split()\n",
    "        if len(words) > 0:\n",
    "            X_data.append(words_to_seq((words)))\n",
    "            y_data.append(y)\n",
    "            \n",
    "    return X_data, y_data"
   ]
  },
  {
   "cell_type": "code",
   "execution_count": 22,
   "metadata": {},
   "outputs": [],
   "source": [
    "X_train, y_train = tokenize(TRAIN_DATA)\n",
    "X_dev, y_dev = tokenize(DEV_DATA)"
   ]
  },
  {
   "cell_type": "code",
   "execution_count": 23,
   "metadata": {},
   "outputs": [
    {
     "data": {
      "text/plain": [
       "[0.23950999718389185,\n",
       " 0.31709377640101377,\n",
       " 0.22754153759504364,\n",
       " 0.21585468882005068]"
      ]
     },
     "execution_count": 23,
     "metadata": {},
     "output_type": "execute_result"
    }
   ],
   "source": [
    "label_distribution = collections.Counter(y_train)\n",
    "class_weights = [label_distribution[i] / sum(label_distribution.values()) for i in range(4)]\n",
    "class_weights"
   ]
  },
  {
   "cell_type": "markdown",
   "metadata": {},
   "source": [
    "## LSTM Model"
   ]
  },
  {
   "cell_type": "code",
   "execution_count": 24,
   "metadata": {},
   "outputs": [],
   "source": [
    "import torch.nn as nn\n",
    "from torch.nn.utils.rnn import pad_sequence, pack_padded_sequence, pad_packed_sequence\n",
    "\n",
    "class LSTM(nn.Module):\n",
    "\n",
    "    def __init__(self, hidden_dim, no_layers, dropout, train_emb):\n",
    "        super(LSTM, self).__init__()\n",
    "        self.no_layers = no_layers\n",
    "        self.hidden_dim = hidden_dim\n",
    "\n",
    "        self.embedding = nn.Embedding.from_pretrained(torch.FloatTensor(embedding_matrix))\n",
    "        self.embedding.weight.requires_grad = train_emb\n",
    "        \n",
    "        self.dimension = hidden_dim\n",
    "        self.lstm = nn.LSTM(input_size=embed_dim,\n",
    "                            hidden_size=self.dimension,\n",
    "                            num_layers=self.no_layers,\n",
    "                            batch_first=True)\n",
    "        self.drop = nn.Dropout(p=dropout)\n",
    "\n",
    "        self.fc = nn.Linear(self.hidden_dim, 4)\n",
    "\n",
    "    def forward(self, text):\n",
    "\n",
    "        text_len = np.array([len(t) for t in text]) \n",
    "        \n",
    "        padded_input = pad_sequence(text, batch_first=True)\n",
    "        embbed_input = self.embedding(padded_input)\n",
    "        packed_input = pack_padded_sequence(embbed_input, text_len, batch_first=True, enforce_sorted=False)\n",
    "        packed_output, _ = self.lstm(packed_input)\n",
    "        output, output_len = pad_packed_sequence(packed_output, batch_first=True)\n",
    "\n",
    "        out_forward = torch.cat([torch.mean(t[:l], 0, keepdim=True) for (t, l) in zip(output, output_len)])\n",
    "        text_fea = self.drop(out_forward)\n",
    "\n",
    "        text_fea = self.fc(text_fea)\n",
    "        text_fea = torch.squeeze(text_fea, 1)\n",
    "        text_out = torch.sigmoid(text_fea)\n",
    "\n",
    "        return text_out  "
   ]
  },
  {
   "cell_type": "markdown",
   "metadata": {},
   "source": [
    "## bi-LSTM model"
   ]
  },
  {
   "cell_type": "code",
   "execution_count": 25,
   "metadata": {},
   "outputs": [],
   "source": [
    "import torch.nn as nn\n",
    "from torch.nn.utils.rnn import pad_sequence, pack_padded_sequence, pad_packed_sequence\n",
    "\n",
    "class bi_LSTM(nn.Module):\n",
    "\n",
    "    def __init__(self, hidden_dim, no_layers, dropout, train_emb):\n",
    "        super(bi_LSTM, self).__init__()\n",
    "        self.no_layers = no_layers\n",
    "        self.hidden_dim = hidden_dim\n",
    "\n",
    "        self.embedding = nn.Embedding.from_pretrained(torch.FloatTensor(embedding_matrix))\n",
    "        self.embedding.weight.requires_grad = train_emb\n",
    "        \n",
    "        self.dimension = hidden_dim\n",
    "        self.lstm = nn.LSTM(input_size=embed_dim,\n",
    "                            hidden_size=self.dimension,\n",
    "                            num_layers=self.no_layers,\n",
    "                            batch_first=True,\n",
    "                            bidirectional=True)\n",
    "        self.drop = nn.Dropout(p=dropout)\n",
    "        self.fc = nn.Linear(2 * self.hidden_dim, 4)\n",
    "\n",
    "    def forward(self, text):\n",
    "\n",
    "        text_len = np.array([len(t) for t in text]) \n",
    "        \n",
    "        padded_input = pad_sequence(text, batch_first=True)\n",
    "        embbed_input = self.embedding(padded_input)\n",
    "        packed_input = pack_padded_sequence(embbed_input, text_len, batch_first=True, enforce_sorted=False)\n",
    "        packed_output, _ = self.lstm(packed_input)\n",
    "        output, output_len = pad_packed_sequence(packed_output, batch_first=True)\n",
    "\n",
    "        \n",
    "        out_forward = torch.cat([torch.mean(t[:l, :self.dimension], 0, keepdim=True) for (t, l) in zip(output, output_len)])\n",
    "        out_reverse = torch.cat([torch.mean(t[-l:, self.dimension:], 0, keepdim=True) for (t, l) in zip(output, output_len)])             \n",
    "        out_reduced = torch.cat((out_forward, out_reverse), 1)\n",
    "        text_fea = self.drop(out_reduced)\n",
    "\n",
    "        text_fea = self.fc(text_fea)\n",
    "        text_fea = torch.squeeze(text_fea, 1)\n",
    "        text_out = torch.sigmoid(text_fea)\n",
    "\n",
    "        return text_out"
   ]
  },
  {
   "cell_type": "code",
   "execution_count": null,
   "metadata": {},
   "outputs": [],
   "source": []
  },
  {
   "cell_type": "markdown",
   "metadata": {},
   "source": [
    "## Main training function"
   ]
  },
  {
   "cell_type": "code",
   "execution_count": 26,
   "metadata": {},
   "outputs": [],
   "source": [
    "def train(model, verbose=True):\n",
    "    \n",
    "    # shared settings\n",
    "    epochs = 20\n",
    "    batch_size = 100\n",
    "    criterion = nn.CrossEntropyLoss(weight=torch.FloatTensor(class_weights))\n",
    "    clip = 5\n",
    "\n",
    "    valid_loss_min = np.Inf\n",
    "    epoch_tr_loss,epoch_vl_loss = [],[]\n",
    "    epoch_tr_acc,epoch_vl_acc = [],[]\n",
    "\n",
    "    for epoch in tqdm(range(epochs)):\n",
    "        train_losses = []\n",
    "        train_acc = 0.0\n",
    "        model.train()\n",
    "\n",
    "        for start in range(0, len(X_train), batch_size):\n",
    "\n",
    "            inputs = [torch.from_numpy(t) for t in X_train[start: start+batch_size]]\n",
    "            labels = torch.Tensor(y_train[start: start+batch_size]).long()\n",
    "\n",
    "            optimizer.zero_grad()\n",
    "            output = model(inputs)\n",
    "            loss = criterion(output, labels)\n",
    "            loss.backward()\n",
    "            optimizer.step()\n",
    "\n",
    "            train_losses.append(loss.item())\n",
    "            train_acc += acc(output, labels)\n",
    "\n",
    "            #`clip_grad_norm` helps prevent the exploding gradient problem in RNNs / LSTMs.\n",
    "            nn.utils.clip_grad_norm_(model.parameters(), clip)\n",
    "\n",
    "        with torch.no_grad():\n",
    "            val_losses = []\n",
    "            val_acc = 0.0\n",
    "            model.eval()\n",
    "\n",
    "            for start in range(0, len(X_dev), batch_size): \n",
    "                v_inputs = [torch.from_numpy(t) for t in X_dev[start: start+batch_size]]\n",
    "                v_labels = torch.Tensor(y_dev[start: start+batch_size]).long()\n",
    "\n",
    "                output = model(v_inputs)\n",
    "                val_loss = criterion(output, v_labels)\n",
    "\n",
    "                val_losses.append(val_loss.item())\n",
    "                accuracy = acc(output, v_labels)\n",
    "                val_acc += accuracy\n",
    "\n",
    "        epoch_train_loss = np.mean(train_losses)\n",
    "        epoch_val_loss = np.mean(val_losses)\n",
    "        epoch_train_acc = train_acc/len(X_train)\n",
    "        epoch_val_acc = val_acc/len(X_dev)\n",
    "        epoch_tr_loss.append(epoch_train_loss)\n",
    "        epoch_vl_loss.append(epoch_val_loss)\n",
    "        epoch_tr_acc.append(epoch_train_acc)\n",
    "        epoch_vl_acc.append(epoch_val_acc)\n",
    "\n",
    "\n",
    "        if verbose:\n",
    "            print(25*'==')\n",
    "            print(f'Epoch {epoch+1}') \n",
    "            print(f'train_loss : {epoch_train_loss} val_loss : {epoch_val_loss}')\n",
    "            print(f'train_accuracy : {epoch_train_acc*100} val_accuracy : {epoch_val_acc*100}')\n",
    "\n",
    "        if epoch_val_loss <= valid_loss_min:\n",
    "            # update model state only when the validation loss decreased\n",
    "            torch.save(model.state_dict(), WORKING_PATH)\n",
    "            if verbose:\n",
    "                print('Validation loss decreased ({:.6f} --> {:.6f}).  Saving model ...'.format(valid_loss_min,epoch_val_loss))\n",
    "            valid_loss_min = epoch_val_loss\n",
    " \n",
    "    if verbose:\n",
    "        # plot acc, loss per epoche\n",
    "        plot_acc_loss(epoch_tr_acc, epoch_vl_acc, epoch_tr_loss, epoch_vl_loss)\n",
    "\n",
    "    # report dev acc\n",
    "    return report(model, verbose)"
   ]
  },
  {
   "cell_type": "markdown",
   "metadata": {},
   "source": [
    "## Helper functions"
   ]
  },
  {
   "cell_type": "code",
   "execution_count": 27,
   "metadata": {},
   "outputs": [],
   "source": [
    "# function to predict accuracy\n",
    "def acc(pred, label):\n",
    "    pred = torch.argmax(pred, 1)\n",
    "    return torch.sum(pred == label).item()"
   ]
  },
  {
   "cell_type": "code",
   "execution_count": 28,
   "metadata": {},
   "outputs": [],
   "source": [
    "# function to plot the accuracy and loss\n",
    "def plot_acc_loss(tr_acc, vl_acc, tr_loss, vl_loss):\n",
    "    fig = plt.figure(figsize = (20, 6))\n",
    "    plt.subplot(1, 2, 1)\n",
    "    plt.plot(tr_acc, label='Train Acc')\n",
    "    plt.plot(vl_acc, label='Validation Acc')\n",
    "    plt.title(\"Accuracy\")\n",
    "    plt.legend()\n",
    "    plt.grid()\n",
    "\n",
    "    plt.subplot(1, 2, 2)\n",
    "    plt.plot(tr_loss, label='Train loss')\n",
    "    plt.plot(vl_loss, label='Validation loss')\n",
    "    plt.title(\"Loss\")\n",
    "    plt.legend()\n",
    "    plt.grid()\n",
    "\n",
    "    plt.show()"
   ]
  },
  {
   "cell_type": "code",
   "execution_count": 29,
   "metadata": {},
   "outputs": [],
   "source": [
    "# function to report the accuracy on dev set\n",
    "def report(model, verbose=True):\n",
    "    saved_model = model\n",
    "    saved_model.load_state_dict(torch.load(WORKING_PATH))\n",
    "    saved_model.eval()\n",
    "\n",
    "    inputs = v_inputs = [torch.from_numpy(t) for t in X_dev]\n",
    "    output = saved_model(inputs)\n",
    "    y_pred = torch.argmax(output, 1).data.numpy()\n",
    "\n",
    "    if verbose:\n",
    "        print(classification_report(y_dev, y_pred, target_names=EMOTIONS))\n",
    "        print(\"Accuracy=\", accuracy_score(y_dev, y_pred))\n",
    "    return accuracy_score(y_dev, y_pred)"
   ]
  },
  {
   "cell_type": "code",
   "execution_count": 30,
   "metadata": {},
   "outputs": [],
   "source": [
    "! mkdir -p ./LSTM_working\n",
    "WORKING_PATH = 'LSTM_working/state_dict.pt'"
   ]
  },
  {
   "cell_type": "code",
   "execution_count": null,
   "metadata": {},
   "outputs": [],
   "source": []
  },
  {
   "cell_type": "markdown",
   "metadata": {},
   "source": [
    "## Experiments: fix / train embedding layer"
   ]
  },
  {
   "cell_type": "code",
   "execution_count": 31,
   "metadata": {},
   "outputs": [
    {
     "name": "stderr",
     "output_type": "stream",
     "text": [
      "\r",
      "  0%|          | 0/20 [00:00<?, ?it/s]"
     ]
    },
    {
     "name": "stdout",
     "output_type": "stream",
     "text": [
      "==================================================\n",
      "bi_LSTM(\n",
      "  (embedding): Embedding(10001, 200)\n",
      "  (lstm): LSTM(200, 64, num_layers=2, batch_first=True, bidirectional=True)\n",
      "  (drop): Dropout(p=0, inplace=False)\n",
      "  (fc): Linear(in_features=128, out_features=4, bias=True)\n",
      ")\n"
     ]
    },
    {
     "name": "stderr",
     "output_type": "stream",
     "text": [
      "/home/cwh/anaconda2/envs/p36workshop/lib/python3.6/site-packages/torch/autograd/__init__.py:132: UserWarning: CUDA initialization: The NVIDIA driver on your system is too old (found version 9010). Please update your GPU driver by downloading and installing a new version from the URL: http://www.nvidia.com/Download/index.aspx Alternatively, go to: https://pytorch.org to install a PyTorch version that has been compiled with your version of the CUDA driver. (Triggered internally at  /opt/conda/conda-bld/pytorch_1603729035996/work/c10/cuda/CUDAFunctions.cpp:100.)\n",
      "  allow_unreachable=True)  # allow_unreachable flag\n",
      "  5%|▌         | 1/20 [00:08<02:38,  8.35s/it]"
     ]
    },
    {
     "name": "stdout",
     "output_type": "stream",
     "text": [
      "==================================================\n",
      "Epoch 1\n",
      "train_loss : 1.3144685741927888 val_loss : 1.3104650815327963\n",
      "train_accuracy : 34.79301605181639 val_accuracy : 37.52563226247437\n",
      "Validation loss decreased (inf --> 1.310465).  Saving model ...\n"
     ]
    },
    {
     "name": "stderr",
     "output_type": "stream",
     "text": [
      "\r",
      " 10%|█         | 2/20 [00:18<02:42,  9.01s/it]"
     ]
    },
    {
     "name": "stdout",
     "output_type": "stream",
     "text": [
      "==================================================\n",
      "Epoch 2\n",
      "train_loss : 1.1666828592618306 val_loss : 1.3180908679962158\n",
      "train_accuracy : 52.94283300478738 val_accuracy : 38.82433356117566\n"
     ]
    },
    {
     "name": "stderr",
     "output_type": "stream",
     "text": [
      "\r",
      " 15%|█▌        | 3/20 [00:30<02:45,  9.76s/it]"
     ]
    },
    {
     "name": "stdout",
     "output_type": "stream",
     "text": [
      "==================================================\n",
      "Epoch 3\n",
      "train_loss : 1.0942936109171972 val_loss : 1.2956202983856202\n",
      "train_accuracy : 59.36355956068713 val_accuracy : 40.87491455912509\n",
      "Validation loss decreased (1.310465 --> 1.295620).  Saving model ...\n"
     ]
    },
    {
     "name": "stderr",
     "output_type": "stream",
     "text": [
      "\r",
      " 20%|██        | 4/20 [00:38<02:28,  9.31s/it]"
     ]
    },
    {
     "name": "stdout",
     "output_type": "stream",
     "text": [
      "==================================================\n",
      "Epoch 4\n",
      "train_loss : 1.029470257461071 val_loss : 1.2875637928644816\n",
      "train_accuracy : 68.24838073782034 val_accuracy : 42.652084757347914\n",
      "Validation loss decreased (1.295620 --> 1.287564).  Saving model ...\n"
     ]
    },
    {
     "name": "stderr",
     "output_type": "stream",
     "text": [
      "\r",
      " 25%|██▌       | 5/20 [00:47<02:15,  9.05s/it]"
     ]
    },
    {
     "name": "stdout",
     "output_type": "stream",
     "text": [
      "==================================================\n",
      "Epoch 5\n",
      "train_loss : 0.9826154361168543 val_loss : 1.2821324268976848\n",
      "train_accuracy : 74.11996620670234 val_accuracy : 43.19890635680109\n",
      "Validation loss decreased (1.287564 --> 1.282132).  Saving model ...\n"
     ]
    },
    {
     "name": "stderr",
     "output_type": "stream",
     "text": [
      "\r",
      " 30%|███       | 6/20 [00:55<02:03,  8.82s/it]"
     ]
    },
    {
     "name": "stdout",
     "output_type": "stream",
     "text": [
      "==================================================\n",
      "Epoch 6\n",
      "train_loss : 0.9569253308905495 val_loss : 1.2891903877258302\n",
      "train_accuracy : 76.9923965080259 val_accuracy : 43.609022556390975\n"
     ]
    },
    {
     "name": "stderr",
     "output_type": "stream",
     "text": [
      "\r",
      " 35%|███▌      | 7/20 [01:03<01:52,  8.66s/it]"
     ]
    },
    {
     "name": "stdout",
     "output_type": "stream",
     "text": [
      "==================================================\n",
      "Epoch 7\n",
      "train_loss : 0.9449827935960557 val_loss : 1.276290233929952\n",
      "train_accuracy : 77.80906786820614 val_accuracy : 44.2241968557758\n",
      "Validation loss decreased (1.282132 --> 1.276290).  Saving model ...\n"
     ]
    },
    {
     "name": "stderr",
     "output_type": "stream",
     "text": [
      "\r",
      " 40%|████      | 8/20 [01:12<01:43,  8.65s/it]"
     ]
    },
    {
     "name": "stdout",
     "output_type": "stream",
     "text": [
      "==================================================\n",
      "Epoch 8\n",
      "train_loss : 0.9160542794399791 val_loss : 1.2834818363189697\n",
      "train_accuracy : 80.89270627992114 val_accuracy : 43.882433356117566\n"
     ]
    },
    {
     "name": "stderr",
     "output_type": "stream",
     "text": [
      "\r",
      " 45%|████▌     | 9/20 [01:21<01:36,  8.80s/it]"
     ]
    },
    {
     "name": "stdout",
     "output_type": "stream",
     "text": [
      "==================================================\n",
      "Epoch 9\n",
      "train_loss : 0.8986195665266778 val_loss : 1.289430832862854\n",
      "train_accuracy : 83.1315122500704 val_accuracy : 43.81408065618592\n"
     ]
    },
    {
     "name": "stderr",
     "output_type": "stream",
     "text": [
      "\r",
      " 50%|█████     | 10/20 [01:30<01:28,  8.88s/it]"
     ]
    },
    {
     "name": "stdout",
     "output_type": "stream",
     "text": [
      "==================================================\n",
      "Epoch 10\n",
      "train_loss : 0.8862700396113925 val_loss : 1.2695786555608113\n",
      "train_accuracy : 84.13123063925654 val_accuracy : 45.04442925495557\n",
      "Validation loss decreased (1.276290 --> 1.269579).  Saving model ...\n"
     ]
    },
    {
     "name": "stderr",
     "output_type": "stream",
     "text": [
      "\r",
      " 55%|█████▌    | 11/20 [01:38<01:18,  8.70s/it]"
     ]
    },
    {
     "name": "stdout",
     "output_type": "stream",
     "text": [
      "==================================================\n",
      "Epoch 11\n",
      "train_loss : 0.8785302109188504 val_loss : 1.2817859252293904\n",
      "train_accuracy : 85.2013517319065 val_accuracy : 44.83937115516063\n"
     ]
    },
    {
     "name": "stderr",
     "output_type": "stream",
     "text": [
      "\r",
      " 60%|██████    | 12/20 [01:47<01:08,  8.57s/it]"
     ]
    },
    {
     "name": "stdout",
     "output_type": "stream",
     "text": [
      "==================================================\n",
      "Epoch 12\n",
      "train_loss : 0.8902681544423103 val_loss : 1.276410492261251\n",
      "train_accuracy : 83.97634469163616 val_accuracy : 44.70266575529733\n"
     ]
    },
    {
     "name": "stderr",
     "output_type": "stream",
     "text": [
      "\r",
      " 65%|██████▌   | 13/20 [01:55<00:59,  8.51s/it]"
     ]
    },
    {
     "name": "stdout",
     "output_type": "stream",
     "text": [
      "==================================================\n",
      "Epoch 13\n",
      "train_loss : 0.8743544386492835 val_loss : 1.270708934466044\n",
      "train_accuracy : 85.35623767952688 val_accuracy : 45.04442925495557\n"
     ]
    },
    {
     "name": "stderr",
     "output_type": "stream",
     "text": [
      "\r",
      " 70%|███████   | 14/20 [02:03<00:50,  8.43s/it]"
     ]
    },
    {
     "name": "stdout",
     "output_type": "stream",
     "text": [
      "==================================================\n",
      "Epoch 14\n",
      "train_loss : 0.8688610229227278 val_loss : 1.278005568186442\n",
      "train_accuracy : 85.76457335961702 val_accuracy : 43.95078605604921\n"
     ]
    },
    {
     "name": "stderr",
     "output_type": "stream",
     "text": [
      "\r",
      " 75%|███████▌  | 15/20 [02:12<00:42,  8.41s/it]"
     ]
    },
    {
     "name": "stdout",
     "output_type": "stream",
     "text": [
      "==================================================\n",
      "Epoch 15\n",
      "train_loss : 0.8699434250593185 val_loss : 1.2759692827860514\n",
      "train_accuracy : 85.4266403829907 val_accuracy : 45.04442925495557\n"
     ]
    },
    {
     "name": "stderr",
     "output_type": "stream",
     "text": [
      "\r",
      " 80%|████████  | 16/20 [02:20<00:33,  8.34s/it]"
     ]
    },
    {
     "name": "stdout",
     "output_type": "stream",
     "text": [
      "==================================================\n",
      "Epoch 16\n",
      "train_loss : 0.858181417816215 val_loss : 1.2843653678894043\n",
      "train_accuracy : 87.08814418473669 val_accuracy : 43.81408065618592\n"
     ]
    },
    {
     "name": "stderr",
     "output_type": "stream",
     "text": [
      "\r",
      " 85%|████████▌ | 17/20 [02:28<00:25,  8.35s/it]"
     ]
    },
    {
     "name": "stdout",
     "output_type": "stream",
     "text": [
      "==================================================\n",
      "Epoch 17\n",
      "train_loss : 0.8511214297678735 val_loss : 1.2729243596394857\n",
      "train_accuracy : 87.9892987890735 val_accuracy : 44.97607655502392\n"
     ]
    },
    {
     "name": "stderr",
     "output_type": "stream",
     "text": [
      "\r",
      " 90%|█████████ | 18/20 [02:38<00:17,  8.82s/it]"
     ]
    },
    {
     "name": "stdout",
     "output_type": "stream",
     "text": [
      "==================================================\n",
      "Epoch 18\n",
      "train_loss : 0.8440720372729831 val_loss : 1.3011129061381022\n",
      "train_accuracy : 88.74964798648269 val_accuracy : 42.378673957621324\n"
     ]
    },
    {
     "name": "stderr",
     "output_type": "stream",
     "text": [
      "\r",
      " 95%|█████████▌| 19/20 [02:47<00:08,  8.72s/it]"
     ]
    },
    {
     "name": "stdout",
     "output_type": "stream",
     "text": [
      "==================================================\n",
      "Epoch 19\n",
      "train_loss : 0.845709471238984 val_loss : 1.2766796191533407\n",
      "train_accuracy : 88.52435933539849 val_accuracy : 43.26725905673274\n"
     ]
    },
    {
     "name": "stderr",
     "output_type": "stream",
     "text": [
      "100%|██████████| 20/20 [02:55<00:00,  8.76s/it]"
     ]
    },
    {
     "name": "stdout",
     "output_type": "stream",
     "text": [
      "==================================================\n",
      "Epoch 20\n",
      "train_loss : 0.8392094920078913 val_loss : 1.2840186834335328\n",
      "train_accuracy : 89.15798366657279 val_accuracy : 43.81408065618592\n"
     ]
    },
    {
     "name": "stderr",
     "output_type": "stream",
     "text": [
      "\n"
     ]
    },
    {
     "data": {
      "image/png": "[encoded data removed]",
      "text/plain": [
       "<Figure size 1440x432 with 2 Axes>"
      ]
     },
     "metadata": {
      "needs_background": "light"
     },
     "output_type": "display_data"
    },
    {
     "name": "stdout",
     "output_type": "stream",
     "text": [
      "              precision    recall  f1-score   support\n",
      "\n",
      "       anger       0.45      0.36      0.40       388\n",
      "        fear       0.38      0.60      0.46       389\n",
      "         joy       0.62      0.57      0.59       290\n",
      "     sadness       0.45      0.30      0.36       396\n",
      "\n",
      "    accuracy                           0.45      1463\n",
      "   macro avg       0.47      0.46      0.46      1463\n",
      "weighted avg       0.46      0.45      0.45      1463\n",
      "\n",
      "Accuracy= 0.4504442925495557\n",
      "parameters: 64 2 0 0.002 0.0005\n",
      "Accuracy: 0.4504442925495557\n",
      "==================================================\n"
     ]
    }
   ],
   "source": [
    "# FIX embedding\n",
    "hidden_dim = 64\n",
    "no_layers = 2\n",
    "dropout = 0\n",
    "train_emb = False\n",
    "\n",
    "model = bi_LSTM(hidden_dim, no_layers, dropout, train_emb)\n",
    "\n",
    "lr = 0.002\n",
    "w_decay = 5e-4\n",
    "optimizer = torch.optim.AdamW(model.parameters(), lr=lr, weight_decay=w_decay)\n",
    "\n",
    "print(25*'==')\n",
    "print(model)\n",
    "model_acc = train(model, verbose=True)\n",
    "print(\"parameters:\", hidden_dim, no_layers, dropout, lr, w_decay)\n",
    "print(\"Accuracy:\", model_acc)\n",
    "print(25*'==')"
   ]
  },
  {
   "cell_type": "code",
   "execution_count": 32,
   "metadata": {},
   "outputs": [
    {
     "name": "stderr",
     "output_type": "stream",
     "text": [
      "\r",
      "  0%|          | 0/20 [00:00<?, ?it/s]"
     ]
    },
    {
     "name": "stdout",
     "output_type": "stream",
     "text": [
      "==================================================\n",
      "bi_LSTM(\n",
      "  (embedding): Embedding(10001, 200)\n",
      "  (lstm): LSTM(200, 64, num_layers=2, batch_first=True, bidirectional=True)\n",
      "  (drop): Dropout(p=0, inplace=False)\n",
      "  (fc): Linear(in_features=128, out_features=4, bias=True)\n",
      ")\n"
     ]
    },
    {
     "name": "stderr",
     "output_type": "stream",
     "text": [
      "\r",
      "  5%|▌         | 1/20 [00:10<03:10, 10.01s/it]"
     ]
    },
    {
     "name": "stdout",
     "output_type": "stream",
     "text": [
      "==================================================\n",
      "Epoch 1\n",
      "train_loss : 1.2811476472351286 val_loss : 1.2960429191589355\n",
      "train_accuracy : 37.834412841453116 val_accuracy : 38.14080656185919\n",
      "Validation loss decreased (inf --> 1.296043).  Saving model ...\n"
     ]
    },
    {
     "name": "stderr",
     "output_type": "stream",
     "text": [
      "\r",
      " 10%|█         | 2/20 [00:19<02:59,  9.97s/it]"
     ]
    },
    {
     "name": "stdout",
     "output_type": "stream",
     "text": [
      "==================================================\n",
      "Epoch 2\n",
      "train_loss : 1.028768020371596 val_loss : 1.2746428489685058\n",
      "train_accuracy : 70.45902562658407 val_accuracy : 44.2241968557758\n",
      "Validation loss decreased (1.296043 --> 1.274643).  Saving model ...\n"
     ]
    },
    {
     "name": "stderr",
     "output_type": "stream",
     "text": [
      "\r",
      " 15%|█▌        | 3/20 [00:29<02:49,  9.97s/it]"
     ]
    },
    {
     "name": "stdout",
     "output_type": "stream",
     "text": [
      "==================================================\n",
      "Epoch 3\n",
      "train_loss : 0.8750248435470793 val_loss : 1.2641589562098186\n",
      "train_accuracy : 86.87693607434525 val_accuracy : 46.069719753930286\n",
      "Validation loss decreased (1.274643 --> 1.264159).  Saving model ...\n"
     ]
    },
    {
     "name": "stderr",
     "output_type": "stream",
     "text": [
      "\r",
      " 20%|██        | 4/20 [00:39<02:38,  9.93s/it]"
     ]
    },
    {
     "name": "stdout",
     "output_type": "stream",
     "text": [
      "==================================================\n",
      "Epoch 4\n",
      "train_loss : 0.8198948692944314 val_loss : 1.2649362405141196\n",
      "train_accuracy : 91.88960856096874 val_accuracy : 46.069719753930286\n"
     ]
    },
    {
     "name": "stderr",
     "output_type": "stream",
     "text": [
      "\r",
      " 25%|██▌       | 5/20 [00:49<02:28,  9.92s/it]"
     ]
    },
    {
     "name": "stdout",
     "output_type": "stream",
     "text": [
      "==================================================\n",
      "Epoch 5\n",
      "train_loss : 0.8036656909518771 val_loss : 1.2604887008666992\n",
      "train_accuracy : 93.3399042523233 val_accuracy : 46.274777853725226\n",
      "Validation loss decreased (1.264159 --> 1.260489).  Saving model ...\n"
     ]
    },
    {
     "name": "stderr",
     "output_type": "stream",
     "text": [
      "\r",
      " 30%|███       | 6/20 [00:59<02:19,  9.98s/it]"
     ]
    },
    {
     "name": "stdout",
     "output_type": "stream",
     "text": [
      "==================================================\n",
      "Epoch 6\n",
      "train_loss : 0.7971597553955184 val_loss : 1.2616830269495647\n",
      "train_accuracy : 93.9735285834976 val_accuracy : 46.75324675324675\n"
     ]
    },
    {
     "name": "stderr",
     "output_type": "stream",
     "text": [
      "\r",
      " 35%|███▌      | 7/20 [01:11<02:17, 10.55s/it]"
     ]
    },
    {
     "name": "stdout",
     "output_type": "stream",
     "text": [
      "==================================================\n",
      "Epoch 7\n",
      "train_loss : 0.7934705540537834 val_loss : 1.2663720925649007\n",
      "train_accuracy : 94.3537031822022 val_accuracy : 45.59125085440875\n"
     ]
    },
    {
     "name": "stderr",
     "output_type": "stream",
     "text": [
      "\r",
      " 40%|████      | 8/20 [01:21<02:04, 10.38s/it]"
     ]
    },
    {
     "name": "stdout",
     "output_type": "stream",
     "text": [
      "==================================================\n",
      "Epoch 8\n",
      "train_loss : 0.786180805000994 val_loss : 1.2645578463872273\n",
      "train_accuracy : 95.09997183891862 val_accuracy : 46.13807245386193\n"
     ]
    },
    {
     "name": "stderr",
     "output_type": "stream",
     "text": [
      "\r",
      " 45%|████▌     | 9/20 [01:31<01:52, 10.21s/it]"
     ]
    },
    {
     "name": "stdout",
     "output_type": "stream",
     "text": [
      "==================================================\n",
      "Epoch 9\n",
      "train_loss : 0.7797850420077642 val_loss : 1.2694366296132407\n",
      "train_accuracy : 95.77583779217122 val_accuracy : 45.522898154477105\n"
     ]
    },
    {
     "name": "stderr",
     "output_type": "stream",
     "text": [
      "\r",
      " 50%|█████     | 10/20 [01:41<01:40, 10.08s/it]"
     ]
    },
    {
     "name": "stdout",
     "output_type": "stream",
     "text": [
      "==================================================\n",
      "Epoch 10\n",
      "train_loss : 0.7788184632857641 val_loss : 1.2689793666203817\n",
      "train_accuracy : 95.77583779217122 val_accuracy : 45.79630895420369\n"
     ]
    },
    {
     "name": "stderr",
     "output_type": "stream",
     "text": [
      "\r",
      " 55%|█████▌    | 11/20 [01:51<01:30, 10.04s/it]"
     ]
    },
    {
     "name": "stdout",
     "output_type": "stream",
     "text": [
      "==================================================\n",
      "Epoch 11\n",
      "train_loss : 0.7776014564765824 val_loss : 1.2662143548329672\n",
      "train_accuracy : 95.88848211771332 val_accuracy : 45.933014354066984\n"
     ]
    },
    {
     "name": "stderr",
     "output_type": "stream",
     "text": [
      "\r",
      " 60%|██████    | 12/20 [02:00<01:19,  9.95s/it]"
     ]
    },
    {
     "name": "stdout",
     "output_type": "stream",
     "text": [
      "==================================================\n",
      "Epoch 12\n",
      "train_loss : 0.7766653315888511 val_loss : 1.271760352452596\n",
      "train_accuracy : 95.8603210363278 val_accuracy : 46.274777853725226\n"
     ]
    },
    {
     "name": "stderr",
     "output_type": "stream",
     "text": [
      "\r",
      " 65%|██████▌   | 13/20 [02:10<01:09,  9.89s/it]"
     ]
    },
    {
     "name": "stdout",
     "output_type": "stream",
     "text": [
      "==================================================\n",
      "Epoch 13\n",
      "train_loss : 0.7750023975968361 val_loss : 1.2767491817474366\n",
      "train_accuracy : 96.09969022810476 val_accuracy : 44.77101845522898\n"
     ]
    },
    {
     "name": "stderr",
     "output_type": "stream",
     "text": [
      "\r",
      " 70%|███████   | 14/20 [02:20<00:59,  9.85s/it]"
     ]
    },
    {
     "name": "stdout",
     "output_type": "stream",
     "text": [
      "==================================================\n",
      "Epoch 14\n",
      "train_loss : 0.7740400061011314 val_loss : 1.2724019845326742\n",
      "train_accuracy : 96.09969022810476 val_accuracy : 45.79630895420369\n"
     ]
    },
    {
     "name": "stderr",
     "output_type": "stream",
     "text": [
      "\r",
      " 75%|███████▌  | 15/20 [02:30<00:49,  9.83s/it]"
     ]
    },
    {
     "name": "stdout",
     "output_type": "stream",
     "text": [
      "==================================================\n",
      "Epoch 15\n",
      "train_loss : 0.7746913342012299 val_loss : 1.2735971689224244\n",
      "train_accuracy : 96.04336806533371 val_accuracy : 44.087491455912506\n"
     ]
    },
    {
     "name": "stderr",
     "output_type": "stream",
     "text": [
      "\r",
      " 80%|████████  | 16/20 [02:40<00:39,  9.85s/it]"
     ]
    },
    {
     "name": "stdout",
     "output_type": "stream",
     "text": [
      "==================================================\n",
      "Epoch 16\n",
      "train_loss : 0.7806540644831128 val_loss : 1.2656501849492392\n",
      "train_accuracy : 95.52238805970148 val_accuracy : 45.65960355434039\n"
     ]
    },
    {
     "name": "stderr",
     "output_type": "stream",
     "text": [
      "\r",
      " 85%|████████▌ | 17/20 [02:49<00:29,  9.85s/it]"
     ]
    },
    {
     "name": "stdout",
     "output_type": "stream",
     "text": [
      "==================================================\n",
      "Epoch 17\n",
      "train_loss : 0.8024889512194527 val_loss : 1.2679023583730062\n",
      "train_accuracy : 91.65023936919178 val_accuracy : 45.38619275461381\n"
     ]
    },
    {
     "name": "stderr",
     "output_type": "stream",
     "text": [
      "\r",
      " 90%|█████████ | 18/20 [03:00<00:19,  9.98s/it]"
     ]
    },
    {
     "name": "stdout",
     "output_type": "stream",
     "text": [
      "==================================================\n",
      "Epoch 18\n",
      "train_loss : 0.780377183523443 val_loss : 1.2674158573150636\n",
      "train_accuracy : 95.62095184455083 val_accuracy : 45.86466165413533\n"
     ]
    },
    {
     "name": "stderr",
     "output_type": "stream",
     "text": [
      "\r",
      " 95%|█████████▌| 19/20 [03:10<00:09,  9.99s/it]"
     ]
    },
    {
     "name": "stdout",
     "output_type": "stream",
     "text": [
      "==================================================\n",
      "Epoch 19\n",
      "train_loss : 0.7739768293168809 val_loss : 1.2659369548161825\n",
      "train_accuracy : 96.09969022810476 val_accuracy : 45.317840054682165\n"
     ]
    },
    {
     "name": "stderr",
     "output_type": "stream",
     "text": [
      "100%|██████████| 20/20 [03:19<00:00, 10.00s/it]"
     ]
    },
    {
     "name": "stdout",
     "output_type": "stream",
     "text": [
      "==================================================\n",
      "Epoch 20\n",
      "train_loss : 0.7721841873394119 val_loss : 1.2636831760406495\n",
      "train_accuracy : 96.38130104196001 val_accuracy : 45.79630895420369\n"
     ]
    },
    {
     "name": "stderr",
     "output_type": "stream",
     "text": [
      "\n"
     ]
    },
    {
     "data": {
      "image/png": "[encoded data removed]",
      "text/plain": [
       "<Figure size 1440x432 with 2 Axes>"
      ]
     },
     "metadata": {
      "needs_background": "light"
     },
     "output_type": "display_data"
    },
    {
     "name": "stdout",
     "output_type": "stream",
     "text": [
      "              precision    recall  f1-score   support\n",
      "\n",
      "       anger       0.48      0.38      0.42       388\n",
      "        fear       0.39      0.59      0.47       389\n",
      "         joy       0.59      0.64      0.62       290\n",
      "     sadness       0.46      0.29      0.35       396\n",
      "\n",
      "    accuracy                           0.46      1463\n",
      "   macro avg       0.48      0.47      0.47      1463\n",
      "weighted avg       0.47      0.46      0.45      1463\n",
      "\n",
      "Accuracy= 0.46274777853725224\n",
      "parameters: 64 2 0 0.002 0.0005\n",
      "Accuracy: 0.46274777853725224\n",
      "==================================================\n"
     ]
    }
   ],
   "source": [
    "# TRAIN embedding\n",
    "hidden_dim = 64\n",
    "no_layers = 2\n",
    "dropout = 0\n",
    "train_emb = True\n",
    "\n",
    "model = bi_LSTM(hidden_dim, no_layers, dropout, train_emb)\n",
    "\n",
    "lr = 0.002\n",
    "w_decay = 5e-4\n",
    "optimizer = torch.optim.AdamW(model.parameters(), lr=lr, weight_decay=w_decay)\n",
    "\n",
    "print(25*'==')\n",
    "print(model)\n",
    "model_acc = train(model, verbose=True)\n",
    "print(\"parameters:\", hidden_dim, no_layers, dropout, lr, w_decay)\n",
    "print(\"Accuracy:\", model_acc)\n",
    "print(25*'==')"
   ]
  },
  {
   "cell_type": "markdown",
   "metadata": {},
   "source": [
    "## Experiments: LSTM / bi-LSTM"
   ]
  },
  {
   "cell_type": "code",
   "execution_count": 33,
   "metadata": {},
   "outputs": [
    {
     "name": "stderr",
     "output_type": "stream",
     "text": [
      "\r",
      "  0%|          | 0/20 [00:00<?, ?it/s]"
     ]
    },
    {
     "name": "stdout",
     "output_type": "stream",
     "text": [
      "==================================================\n",
      "LSTM(\n",
      "  (embedding): Embedding(10001, 200)\n",
      "  (lstm): LSTM(200, 128, num_layers=2, batch_first=True)\n",
      "  (drop): Dropout(p=0, inplace=False)\n",
      "  (fc): Linear(in_features=128, out_features=4, bias=True)\n",
      ")\n"
     ]
    },
    {
     "name": "stderr",
     "output_type": "stream",
     "text": [
      "\r",
      "  5%|▌         | 1/20 [00:08<02:39,  8.39s/it]"
     ]
    },
    {
     "name": "stdout",
     "output_type": "stream",
     "text": [
      "==================================================\n",
      "Epoch 1\n",
      "train_loss : 1.288426039947404 val_loss : 1.31688281695048\n",
      "train_accuracy : 36.38411715009857 val_accuracy : 35.68010936431989\n",
      "Validation loss decreased (inf --> 1.316883).  Saving model ...\n"
     ]
    },
    {
     "name": "stderr",
     "output_type": "stream",
     "text": [
      "\r",
      " 10%|█         | 2/20 [00:16<02:30,  8.34s/it]"
     ]
    },
    {
     "name": "stdout",
     "output_type": "stream",
     "text": [
      "==================================================\n",
      "Epoch 2\n",
      "train_loss : 1.0591672965221934 val_loss : 1.3195258378982544\n",
      "train_accuracy : 65.26330611095466 val_accuracy : 39.98632946001367\n"
     ]
    },
    {
     "name": "stderr",
     "output_type": "stream",
     "text": [
      "\r",
      " 15%|█▌        | 3/20 [00:24<02:21,  8.32s/it]"
     ]
    },
    {
     "name": "stdout",
     "output_type": "stream",
     "text": [
      "==================================================\n",
      "Epoch 3\n",
      "train_loss : 0.9053188098801507 val_loss : 1.2941603899002074\n",
      "train_accuracy : 83.3990425232329 val_accuracy : 40.94326725905673\n",
      "Validation loss decreased (1.316883 --> 1.294160).  Saving model ...\n"
     ]
    },
    {
     "name": "stderr",
     "output_type": "stream",
     "text": [
      "\r",
      " 20%|██        | 4/20 [00:33<02:12,  8.27s/it]"
     ]
    },
    {
     "name": "stdout",
     "output_type": "stream",
     "text": [
      "==================================================\n",
      "Epoch 4\n",
      "train_loss : 0.8306598274244202 val_loss : 1.2996423721313477\n",
      "train_accuracy : 91.17150098563785 val_accuracy : 41.55844155844156\n"
     ]
    },
    {
     "name": "stderr",
     "output_type": "stream",
     "text": [
      "\r",
      " 25%|██▌       | 5/20 [00:41<02:03,  8.25s/it]"
     ]
    },
    {
     "name": "stdout",
     "output_type": "stream",
     "text": [
      "==================================================\n",
      "Epoch 5\n",
      "train_loss : 0.8055010338624319 val_loss : 1.3017862876256308\n",
      "train_accuracy : 93.45254857786539 val_accuracy : 41.55844155844156\n"
     ]
    },
    {
     "name": "stderr",
     "output_type": "stream",
     "text": [
      "\r",
      " 30%|███       | 6/20 [00:49<01:57,  8.39s/it]"
     ]
    },
    {
     "name": "stdout",
     "output_type": "stream",
     "text": [
      "==================================================\n",
      "Epoch 6\n",
      "train_loss : 0.7947563669747777 val_loss : 1.294450004895528\n",
      "train_accuracy : 94.66347507744297 val_accuracy : 41.69514695830485\n"
     ]
    },
    {
     "name": "stderr",
     "output_type": "stream",
     "text": [
      "\r",
      " 35%|███▌      | 7/20 [00:56<01:43,  7.95s/it]"
     ]
    },
    {
     "name": "stdout",
     "output_type": "stream",
     "text": [
      "==================================================\n",
      "Epoch 7\n",
      "train_loss : 0.7882634078462919 val_loss : 1.2981199820836384\n",
      "train_accuracy : 95.07181075753309 val_accuracy : 41.83185235816815\n"
     ]
    },
    {
     "name": "stderr",
     "output_type": "stream",
     "text": [
      "\r",
      " 40%|████      | 8/20 [01:03<01:31,  7.64s/it]"
     ]
    },
    {
     "name": "stdout",
     "output_type": "stream",
     "text": [
      "==================================================\n",
      "Epoch 8\n",
      "train_loss : 0.7825358799762197 val_loss : 1.3005252917607626\n",
      "train_accuracy : 95.60687130385807 val_accuracy : 41.35338345864661\n"
     ]
    },
    {
     "name": "stderr",
     "output_type": "stream",
     "text": [
      "\r",
      " 45%|████▌     | 9/20 [01:10<01:19,  7.21s/it]"
     ]
    },
    {
     "name": "stdout",
     "output_type": "stream",
     "text": [
      "==================================================\n",
      "Epoch 9\n",
      "train_loss : 0.7799058415823512 val_loss : 1.3011082092920938\n",
      "train_accuracy : 95.8603210363278 val_accuracy : 40.328092959671906\n"
     ]
    },
    {
     "name": "stderr",
     "output_type": "stream",
     "text": [
      "\r",
      " 50%|█████     | 10/20 [01:16<01:08,  6.85s/it]"
     ]
    },
    {
     "name": "stdout",
     "output_type": "stream",
     "text": [
      "==================================================\n",
      "Epoch 10\n",
      "train_loss : 0.7777843417392837 val_loss : 1.3053201278050741\n",
      "train_accuracy : 95.8180794142495 val_accuracy : 39.98632946001367\n"
     ]
    },
    {
     "name": "stderr",
     "output_type": "stream",
     "text": [
      "\r",
      " 55%|█████▌    | 11/20 [01:21<00:59,  6.58s/it]"
     ]
    },
    {
     "name": "stdout",
     "output_type": "stream",
     "text": [
      "==================================================\n",
      "Epoch 11\n",
      "train_loss : 0.7743324596020911 val_loss : 1.3080743948618572\n",
      "train_accuracy : 96.1982540129541 val_accuracy : 40.66985645933015\n"
     ]
    },
    {
     "name": "stderr",
     "output_type": "stream",
     "text": [
      "\r",
      " 60%|██████    | 12/20 [01:27<00:51,  6.38s/it]"
     ]
    },
    {
     "name": "stdout",
     "output_type": "stream",
     "text": [
      "==================================================\n",
      "Epoch 12\n",
      "train_loss : 0.7727730042404599 val_loss : 1.312527887026469\n",
      "train_accuracy : 96.32497887918896 val_accuracy : 40.19138755980861\n"
     ]
    },
    {
     "name": "stderr",
     "output_type": "stream",
     "text": [
      "\r",
      " 65%|██████▌   | 13/20 [01:34<00:44,  6.31s/it]"
     ]
    },
    {
     "name": "stdout",
     "output_type": "stream",
     "text": [
      "==================================================\n",
      "Epoch 13\n",
      "train_loss : 0.7718101441860199 val_loss : 1.3127184470494588\n",
      "train_accuracy : 96.32497887918896 val_accuracy : 40.328092959671906\n"
     ]
    },
    {
     "name": "stderr",
     "output_type": "stream",
     "text": [
      "\r",
      " 70%|███████   | 14/20 [01:39<00:37,  6.19s/it]"
     ]
    },
    {
     "name": "stdout",
     "output_type": "stream",
     "text": [
      "==================================================\n",
      "Epoch 14\n",
      "train_loss : 0.7711722710066371 val_loss : 1.3060167868932089\n",
      "train_accuracy : 96.28273725711067 val_accuracy : 40.66985645933015\n"
     ]
    },
    {
     "name": "stderr",
     "output_type": "stream",
     "text": [
      "\r",
      " 75%|███████▌  | 15/20 [01:45<00:30,  6.10s/it]"
     ]
    },
    {
     "name": "stdout",
     "output_type": "stream",
     "text": [
      "==================================================\n",
      "Epoch 15\n",
      "train_loss : 0.7711696806881163 val_loss : 1.3128915627797444\n",
      "train_accuracy : 96.4235426640383 val_accuracy : 39.91797676008203\n"
     ]
    },
    {
     "name": "stderr",
     "output_type": "stream",
     "text": [
      "\r",
      " 80%|████████  | 16/20 [01:51<00:24,  6.04s/it]"
     ]
    },
    {
     "name": "stdout",
     "output_type": "stream",
     "text": [
      "==================================================\n",
      "Epoch 16\n",
      "train_loss : 0.7724526011281543 val_loss : 1.3073453187942505\n",
      "train_accuracy : 96.3108983384962 val_accuracy : 40.66985645933015\n"
     ]
    },
    {
     "name": "stderr",
     "output_type": "stream",
     "text": [
      "\r",
      " 85%|████████▌ | 17/20 [01:57<00:17,  6.00s/it]"
     ]
    },
    {
     "name": "stdout",
     "output_type": "stream",
     "text": [
      "==================================================\n",
      "Epoch 17\n",
      "train_loss : 0.771421879529953 val_loss : 1.3121500889460245\n",
      "train_accuracy : 96.29681779780344 val_accuracy : 40.4647983595352\n"
     ]
    },
    {
     "name": "stderr",
     "output_type": "stream",
     "text": [
      "\r",
      " 90%|█████████ | 18/20 [02:03<00:11,  5.96s/it]"
     ]
    },
    {
     "name": "stdout",
     "output_type": "stream",
     "text": [
      "==================================================\n",
      "Epoch 18\n",
      "train_loss : 0.7720103123121791 val_loss : 1.3074250141779582\n",
      "train_accuracy : 96.39538158265277 val_accuracy : 40.73820915926179\n"
     ]
    },
    {
     "name": "stderr",
     "output_type": "stream",
     "text": [
      "\r",
      " 95%|█████████▌| 19/20 [02:09<00:05,  5.94s/it]"
     ]
    },
    {
     "name": "stdout",
     "output_type": "stream",
     "text": [
      "==================================================\n",
      "Epoch 19\n",
      "train_loss : 0.7705539191762606 val_loss : 1.312755552927653\n",
      "train_accuracy : 96.4235426640383 val_accuracy : 40.80656185919344\n"
     ]
    },
    {
     "name": "stderr",
     "output_type": "stream",
     "text": [
      "100%|██████████| 20/20 [02:15<00:00,  6.76s/it]"
     ]
    },
    {
     "name": "stdout",
     "output_type": "stream",
     "text": [
      "==================================================\n",
      "Epoch 20\n",
      "train_loss : 0.7695004468162855 val_loss : 1.3152901649475097\n",
      "train_accuracy : 96.4235426640383 val_accuracy : 40.6015037593985\n"
     ]
    },
    {
     "name": "stderr",
     "output_type": "stream",
     "text": [
      "\n"
     ]
    },
    {
     "data": {
      "image/png": "[encoded data removed]",
      "text/plain": [
       "<Figure size 1440x432 with 2 Axes>"
      ]
     },
     "metadata": {
      "needs_background": "light"
     },
     "output_type": "display_data"
    },
    {
     "name": "stdout",
     "output_type": "stream",
     "text": [
      "              precision    recall  f1-score   support\n",
      "\n",
      "       anger       0.44      0.32      0.37       388\n",
      "        fear       0.37      0.49      0.42       389\n",
      "         joy       0.50      0.52      0.51       290\n",
      "     sadness       0.36      0.34      0.35       396\n",
      "\n",
      "    accuracy                           0.41      1463\n",
      "   macro avg       0.42      0.42      0.41      1463\n",
      "weighted avg       0.41      0.41      0.41      1463\n",
      "\n",
      "Accuracy= 0.4094326725905673\n",
      "parameters: 128 2 0 0.002 0.0005\n",
      "Accuracy: 0.4094326725905673\n",
      "==================================================\n"
     ]
    }
   ],
   "source": [
    "# TRAIN embedding\n",
    "hidden_dim = 64 * 2\n",
    "no_layers = 2\n",
    "dropout = 0\n",
    "train_emb = True\n",
    "\n",
    "model = LSTM(hidden_dim, no_layers, dropout, train_emb)\n",
    "\n",
    "lr = 0.002\n",
    "w_decay = 5e-4\n",
    "optimizer = torch.optim.AdamW(model.parameters(), lr=lr, weight_decay=w_decay)\n",
    "\n",
    "print(25*'==')\n",
    "print(model)\n",
    "model_acc = train(model, verbose=True)\n",
    "print(\"parameters:\", hidden_dim, no_layers, dropout, lr, w_decay)\n",
    "print(\"Accuracy:\", model_acc)\n",
    "print(25*'==')"
   ]
  },
  {
   "cell_type": "markdown",
   "metadata": {},
   "source": [
    "## Experiments: #hidden nodes, #layers, #dropout"
   ]
  },
  {
   "cell_type": "code",
   "execution_count": 34,
   "metadata": {},
   "outputs": [],
   "source": [
    "best_bilstm_acc = 0\n",
    "best_model = None\n",
    "best_parameters = None\n",
    "BEST_BILSTM_PATH = 'LSTM_working/best_biLSTM_state_dict.pt'"
   ]
  },
  {
   "cell_type": "code",
   "execution_count": 35,
   "metadata": {},
   "outputs": [
    {
     "name": "stderr",
     "output_type": "stream",
     "text": [
      "100%|██████████| 20/20 [01:13<00:00,  3.69s/it]\n",
      "  0%|          | 0/20 [00:00<?, ?it/s]"
     ]
    },
    {
     "name": "stdout",
     "output_type": "stream",
     "text": [
      "parameters: 32 1 0.0 0.002 0.0005\n",
      "Accuracy: 0.3958\n",
      "==================================================\n"
     ]
    },
    {
     "name": "stderr",
     "output_type": "stream",
     "text": [
      "100%|██████████| 20/20 [01:13<00:00,  3.69s/it]\n",
      "  0%|          | 0/20 [00:00<?, ?it/s]"
     ]
    },
    {
     "name": "stdout",
     "output_type": "stream",
     "text": [
      "parameters: 32 1 0.2 0.002 0.0005\n",
      "Accuracy: 0.3917\n",
      "==================================================\n"
     ]
    },
    {
     "name": "stderr",
     "output_type": "stream",
     "text": [
      "100%|██████████| 20/20 [01:13<00:00,  3.70s/it]\n",
      "  0%|          | 0/20 [00:00<?, ?it/s]"
     ]
    },
    {
     "name": "stdout",
     "output_type": "stream",
     "text": [
      "parameters: 32 1 0.4 0.002 0.0005\n",
      "Accuracy: 0.3944\n",
      "==================================================\n"
     ]
    },
    {
     "name": "stderr",
     "output_type": "stream",
     "text": [
      "100%|██████████| 20/20 [01:38<00:00,  4.94s/it]\n",
      "  0%|          | 0/20 [00:00<?, ?it/s]"
     ]
    },
    {
     "name": "stdout",
     "output_type": "stream",
     "text": [
      "parameters: 32 2 0.0 0.002 0.0005\n",
      "Accuracy: 0.4477\n",
      "==================================================\n"
     ]
    },
    {
     "name": "stderr",
     "output_type": "stream",
     "text": [
      "100%|██████████| 20/20 [01:38<00:00,  4.92s/it]\n",
      "  0%|          | 0/20 [00:00<?, ?it/s]"
     ]
    },
    {
     "name": "stdout",
     "output_type": "stream",
     "text": [
      "parameters: 32 2 0.2 0.002 0.0005\n",
      "Accuracy: 0.4614\n",
      "==================================================\n"
     ]
    },
    {
     "name": "stderr",
     "output_type": "stream",
     "text": [
      "100%|██████████| 20/20 [01:38<00:00,  4.93s/it]\n",
      "  0%|          | 0/20 [00:00<?, ?it/s]"
     ]
    },
    {
     "name": "stdout",
     "output_type": "stream",
     "text": [
      "parameters: 32 2 0.4 0.002 0.0005\n",
      "Accuracy: 0.3958\n",
      "==================================================\n"
     ]
    },
    {
     "name": "stderr",
     "output_type": "stream",
     "text": [
      "100%|██████████| 20/20 [02:03<00:00,  6.19s/it]\n",
      "  0%|          | 0/20 [00:00<?, ?it/s]"
     ]
    },
    {
     "name": "stdout",
     "output_type": "stream",
     "text": [
      "parameters: 32 3 0.0 0.002 0.0005\n",
      "Accuracy: 0.4559\n",
      "==================================================\n"
     ]
    },
    {
     "name": "stderr",
     "output_type": "stream",
     "text": [
      "100%|██████████| 20/20 [02:03<00:00,  6.15s/it]\n",
      "  0%|          | 0/20 [00:00<?, ?it/s]"
     ]
    },
    {
     "name": "stdout",
     "output_type": "stream",
     "text": [
      "parameters: 32 3 0.2 0.002 0.0005\n",
      "Accuracy: 0.3103\n",
      "==================================================\n"
     ]
    },
    {
     "name": "stderr",
     "output_type": "stream",
     "text": [
      "100%|██████████| 20/20 [02:12<00:00,  6.61s/it]\n",
      "  0%|          | 0/20 [00:00<?, ?it/s]"
     ]
    },
    {
     "name": "stdout",
     "output_type": "stream",
     "text": [
      "parameters: 32 3 0.4 0.002 0.0005\n",
      "Accuracy: 0.3985\n",
      "==================================================\n"
     ]
    },
    {
     "name": "stderr",
     "output_type": "stream",
     "text": [
      "100%|██████████| 20/20 [02:54<00:00,  8.74s/it]\n",
      "  0%|          | 0/20 [00:00<?, ?it/s]"
     ]
    },
    {
     "name": "stdout",
     "output_type": "stream",
     "text": [
      "parameters: 32 4 0.0 0.002 0.0005\n",
      "Accuracy: 0.3609\n",
      "==================================================\n"
     ]
    },
    {
     "name": "stderr",
     "output_type": "stream",
     "text": [
      "100%|██████████| 20/20 [03:24<00:00, 10.21s/it]\n",
      "  0%|          | 0/20 [00:00<?, ?it/s]"
     ]
    },
    {
     "name": "stdout",
     "output_type": "stream",
     "text": [
      "parameters: 32 4 0.2 0.002 0.0005\n",
      "Accuracy: 0.3172\n",
      "==================================================\n"
     ]
    },
    {
     "name": "stderr",
     "output_type": "stream",
     "text": [
      "100%|██████████| 20/20 [04:18<00:00, 12.91s/it]\n",
      "  0%|          | 0/20 [00:00<?, ?it/s]"
     ]
    },
    {
     "name": "stdout",
     "output_type": "stream",
     "text": [
      "parameters: 32 4 0.4 0.002 0.0005\n",
      "Accuracy: 0.3151\n",
      "==================================================\n"
     ]
    },
    {
     "name": "stderr",
     "output_type": "stream",
     "text": [
      "100%|██████████| 20/20 [05:14<00:00, 15.73s/it]\n",
      "  0%|          | 0/20 [00:00<?, ?it/s]"
     ]
    },
    {
     "name": "stdout",
     "output_type": "stream",
     "text": [
      "parameters: 32 5 0.0 0.002 0.0005\n",
      "Accuracy: 0.2686\n",
      "==================================================\n"
     ]
    },
    {
     "name": "stderr",
     "output_type": "stream",
     "text": [
      "100%|██████████| 20/20 [05:02<00:00, 15.14s/it]\n",
      "  0%|          | 0/20 [00:00<?, ?it/s]"
     ]
    },
    {
     "name": "stdout",
     "output_type": "stream",
     "text": [
      "parameters: 32 5 0.2 0.002 0.0005\n",
      "Accuracy: 0.3117\n",
      "==================================================\n"
     ]
    },
    {
     "name": "stderr",
     "output_type": "stream",
     "text": [
      "100%|██████████| 20/20 [04:36<00:00, 13.84s/it]\n",
      "  0%|          | 0/20 [00:00<?, ?it/s]"
     ]
    },
    {
     "name": "stdout",
     "output_type": "stream",
     "text": [
      "parameters: 32 5 0.4 0.002 0.0005\n",
      "Accuracy: 0.2891\n",
      "==================================================\n"
     ]
    },
    {
     "name": "stderr",
     "output_type": "stream",
     "text": [
      "100%|██████████| 20/20 [02:20<00:00,  7.03s/it]\n",
      "  0%|          | 0/20 [00:00<?, ?it/s]"
     ]
    },
    {
     "name": "stdout",
     "output_type": "stream",
     "text": [
      "parameters: 64 1 0.0 0.002 0.0005\n",
      "Accuracy: 0.3978\n",
      "==================================================\n"
     ]
    },
    {
     "name": "stderr",
     "output_type": "stream",
     "text": [
      "100%|██████████| 20/20 [02:32<00:00,  7.61s/it]\n",
      "  0%|          | 0/20 [00:00<?, ?it/s]"
     ]
    },
    {
     "name": "stdout",
     "output_type": "stream",
     "text": [
      "parameters: 64 1 0.2 0.002 0.0005\n",
      "Accuracy: 0.3985\n",
      "==================================================\n"
     ]
    },
    {
     "name": "stderr",
     "output_type": "stream",
     "text": [
      "100%|██████████| 20/20 [02:19<00:00,  6.95s/it]\n",
      "  0%|          | 0/20 [00:00<?, ?it/s]"
     ]
    },
    {
     "name": "stdout",
     "output_type": "stream",
     "text": [
      "parameters: 64 1 0.4 0.002 0.0005\n",
      "Accuracy: 0.3910\n",
      "==================================================\n"
     ]
    },
    {
     "name": "stderr",
     "output_type": "stream",
     "text": [
      "100%|██████████| 20/20 [03:30<00:00, 10.54s/it]\n",
      "  0%|          | 0/20 [00:00<?, ?it/s]"
     ]
    },
    {
     "name": "stdout",
     "output_type": "stream",
     "text": [
      "parameters: 64 2 0.0 0.002 0.0005\n",
      "Accuracy: 0.4662\n",
      "==================================================\n"
     ]
    },
    {
     "name": "stderr",
     "output_type": "stream",
     "text": [
      "100%|██████████| 20/20 [03:32<00:00, 10.64s/it]\n",
      "  0%|          | 0/20 [00:00<?, ?it/s]"
     ]
    },
    {
     "name": "stdout",
     "output_type": "stream",
     "text": [
      "parameters: 64 2 0.2 0.002 0.0005\n",
      "Accuracy: 0.4668\n",
      "==================================================\n"
     ]
    },
    {
     "name": "stderr",
     "output_type": "stream",
     "text": [
      "100%|██████████| 20/20 [03:35<00:00, 10.76s/it]\n",
      "  0%|          | 0/20 [00:00<?, ?it/s]"
     ]
    },
    {
     "name": "stdout",
     "output_type": "stream",
     "text": [
      "parameters: 64 2 0.4 0.002 0.0005\n",
      "Accuracy: 0.4491\n",
      "==================================================\n"
     ]
    },
    {
     "name": "stderr",
     "output_type": "stream",
     "text": [
      "100%|██████████| 20/20 [04:37<00:00, 13.87s/it]\n",
      "  0%|          | 0/20 [00:00<?, ?it/s]"
     ]
    },
    {
     "name": "stdout",
     "output_type": "stream",
     "text": [
      "parameters: 64 3 0.0 0.002 0.0005\n",
      "Accuracy: 0.3964\n",
      "==================================================\n"
     ]
    },
    {
     "name": "stderr",
     "output_type": "stream",
     "text": [
      "100%|██████████| 20/20 [04:31<00:00, 13.59s/it]\n",
      "  0%|          | 0/20 [00:00<?, ?it/s]"
     ]
    },
    {
     "name": "stdout",
     "output_type": "stream",
     "text": [
      "parameters: 64 3 0.2 0.002 0.0005\n",
      "Accuracy: 0.3889\n",
      "==================================================\n"
     ]
    },
    {
     "name": "stderr",
     "output_type": "stream",
     "text": [
      "100%|██████████| 20/20 [04:24<00:00, 13.25s/it]\n",
      "  0%|          | 0/20 [00:00<?, ?it/s]"
     ]
    },
    {
     "name": "stdout",
     "output_type": "stream",
     "text": [
      "parameters: 64 3 0.4 0.002 0.0005\n",
      "Accuracy: 0.4607\n",
      "==================================================\n"
     ]
    },
    {
     "name": "stderr",
     "output_type": "stream",
     "text": [
      "100%|██████████| 20/20 [05:31<00:00, 16.59s/it]\n",
      "  0%|          | 0/20 [00:00<?, ?it/s]"
     ]
    },
    {
     "name": "stdout",
     "output_type": "stream",
     "text": [
      "parameters: 64 4 0.0 0.002 0.0005\n",
      "Accuracy: 0.3903\n",
      "==================================================\n"
     ]
    },
    {
     "name": "stderr",
     "output_type": "stream",
     "text": [
      "100%|██████████| 20/20 [06:09<00:00, 18.46s/it]\n",
      "  0%|          | 0/20 [00:00<?, ?it/s]"
     ]
    },
    {
     "name": "stdout",
     "output_type": "stream",
     "text": [
      "parameters: 64 4 0.2 0.002 0.0005\n",
      "Accuracy: 0.3527\n",
      "==================================================\n"
     ]
    },
    {
     "name": "stderr",
     "output_type": "stream",
     "text": [
      "100%|██████████| 20/20 [06:12<00:00, 18.63s/it]\n",
      "  0%|          | 0/20 [00:00<?, ?it/s]"
     ]
    },
    {
     "name": "stdout",
     "output_type": "stream",
     "text": [
      "parameters: 64 4 0.4 0.002 0.0005\n",
      "Accuracy: 0.3315\n",
      "==================================================\n"
     ]
    },
    {
     "name": "stderr",
     "output_type": "stream",
     "text": [
      "100%|██████████| 20/20 [07:16<00:00, 21.84s/it]\n",
      "  0%|          | 0/20 [00:00<?, ?it/s]"
     ]
    },
    {
     "name": "stdout",
     "output_type": "stream",
     "text": [
      "parameters: 64 5 0.0 0.002 0.0005\n",
      "Accuracy: 0.3548\n",
      "==================================================\n"
     ]
    },
    {
     "name": "stderr",
     "output_type": "stream",
     "text": [
      "100%|██████████| 20/20 [07:22<00:00, 22.12s/it]\n",
      "  0%|          | 0/20 [00:00<?, ?it/s]"
     ]
    },
    {
     "name": "stdout",
     "output_type": "stream",
     "text": [
      "parameters: 64 5 0.2 0.002 0.0005\n",
      "Accuracy: 0.2809\n",
      "==================================================\n"
     ]
    },
    {
     "name": "stderr",
     "output_type": "stream",
     "text": [
      "100%|██████████| 20/20 [07:30<00:00, 22.52s/it]\n",
      "  0%|          | 0/20 [00:00<?, ?it/s]"
     ]
    },
    {
     "name": "stdout",
     "output_type": "stream",
     "text": [
      "parameters: 64 5 0.4 0.002 0.0005\n",
      "Accuracy: 0.3643\n",
      "==================================================\n"
     ]
    },
    {
     "name": "stderr",
     "output_type": "stream",
     "text": [
      "100%|██████████| 20/20 [03:46<00:00, 11.32s/it]\n",
      "  0%|          | 0/20 [00:00<?, ?it/s]"
     ]
    },
    {
     "name": "stdout",
     "output_type": "stream",
     "text": [
      "parameters: 128 1 0.0 0.002 0.0005\n",
      "Accuracy: 0.4163\n",
      "==================================================\n"
     ]
    },
    {
     "name": "stderr",
     "output_type": "stream",
     "text": [
      "100%|██████████| 20/20 [03:39<00:00, 10.99s/it]\n",
      "  0%|          | 0/20 [00:00<?, ?it/s]"
     ]
    },
    {
     "name": "stdout",
     "output_type": "stream",
     "text": [
      "parameters: 128 1 0.2 0.002 0.0005\n",
      "Accuracy: 0.4033\n",
      "==================================================\n"
     ]
    },
    {
     "name": "stderr",
     "output_type": "stream",
     "text": [
      "100%|██████████| 20/20 [03:41<00:00, 11.10s/it]\n",
      "  0%|          | 0/20 [00:00<?, ?it/s]"
     ]
    },
    {
     "name": "stdout",
     "output_type": "stream",
     "text": [
      "parameters: 128 1 0.4 0.002 0.0005\n",
      "Accuracy: 0.4019\n",
      "==================================================\n"
     ]
    },
    {
     "name": "stderr",
     "output_type": "stream",
     "text": [
      "100%|██████████| 20/20 [05:54<00:00, 17.71s/it]\n",
      "  0%|          | 0/20 [00:00<?, ?it/s]"
     ]
    },
    {
     "name": "stdout",
     "output_type": "stream",
     "text": [
      "parameters: 128 2 0.0 0.002 0.0005\n",
      "Accuracy: 0.4655\n",
      "==================================================\n"
     ]
    },
    {
     "name": "stderr",
     "output_type": "stream",
     "text": [
      "100%|██████████| 20/20 [05:58<00:00, 17.93s/it]\n",
      "  0%|          | 0/20 [00:00<?, ?it/s]"
     ]
    },
    {
     "name": "stdout",
     "output_type": "stream",
     "text": [
      "parameters: 128 2 0.2 0.002 0.0005\n",
      "Accuracy: 0.4675\n",
      "==================================================\n"
     ]
    },
    {
     "name": "stderr",
     "output_type": "stream",
     "text": [
      "100%|██████████| 20/20 [06:04<00:00, 18.23s/it]\n",
      "  0%|          | 0/20 [00:00<?, ?it/s]"
     ]
    },
    {
     "name": "stdout",
     "output_type": "stream",
     "text": [
      "parameters: 128 2 0.4 0.002 0.0005\n",
      "Accuracy: 0.4607\n",
      "==================================================\n"
     ]
    },
    {
     "name": "stderr",
     "output_type": "stream",
     "text": [
      "100%|██████████| 20/20 [08:18<00:00, 24.93s/it]\n",
      "  0%|          | 0/20 [00:00<?, ?it/s]"
     ]
    },
    {
     "name": "stdout",
     "output_type": "stream",
     "text": [
      "parameters: 128 3 0.0 0.002 0.0005\n",
      "Accuracy: 0.4498\n",
      "==================================================\n"
     ]
    },
    {
     "name": "stderr",
     "output_type": "stream",
     "text": [
      "100%|██████████| 20/20 [08:41<00:00, 26.07s/it]\n",
      "  0%|          | 0/20 [00:00<?, ?it/s]"
     ]
    },
    {
     "name": "stdout",
     "output_type": "stream",
     "text": [
      "parameters: 128 3 0.2 0.002 0.0005\n",
      "Accuracy: 0.4539\n",
      "==================================================\n"
     ]
    },
    {
     "name": "stderr",
     "output_type": "stream",
     "text": [
      "100%|██████████| 20/20 [08:43<00:00, 26.20s/it]\n",
      "  0%|          | 0/20 [00:00<?, ?it/s]"
     ]
    },
    {
     "name": "stdout",
     "output_type": "stream",
     "text": [
      "parameters: 128 3 0.4 0.002 0.0005\n",
      "Accuracy: 0.4662\n",
      "==================================================\n"
     ]
    },
    {
     "name": "stderr",
     "output_type": "stream",
     "text": [
      "100%|██████████| 20/20 [11:10<00:00, 33.51s/it]\n",
      "  0%|          | 0/20 [00:00<?, ?it/s]"
     ]
    },
    {
     "name": "stdout",
     "output_type": "stream",
     "text": [
      "parameters: 128 4 0.0 0.002 0.0005\n",
      "Accuracy: 0.4402\n",
      "==================================================\n"
     ]
    },
    {
     "name": "stderr",
     "output_type": "stream",
     "text": [
      "100%|██████████| 20/20 [11:18<00:00, 33.94s/it]\n",
      "  0%|          | 0/20 [00:00<?, ?it/s]"
     ]
    },
    {
     "name": "stdout",
     "output_type": "stream",
     "text": [
      "parameters: 128 4 0.2 0.002 0.0005\n",
      "Accuracy: 0.3964\n",
      "==================================================\n"
     ]
    },
    {
     "name": "stderr",
     "output_type": "stream",
     "text": [
      "100%|██████████| 20/20 [11:16<00:00, 33.83s/it]\n",
      "  0%|          | 0/20 [00:00<?, ?it/s]"
     ]
    },
    {
     "name": "stdout",
     "output_type": "stream",
     "text": [
      "parameters: 128 4 0.4 0.002 0.0005\n",
      "Accuracy: 0.4129\n",
      "==================================================\n"
     ]
    },
    {
     "name": "stderr",
     "output_type": "stream",
     "text": [
      "100%|██████████| 20/20 [13:46<00:00, 41.33s/it]\n",
      "  0%|          | 0/20 [00:00<?, ?it/s]"
     ]
    },
    {
     "name": "stdout",
     "output_type": "stream",
     "text": [
      "parameters: 128 5 0.0 0.002 0.0005\n",
      "Accuracy: 0.3739\n",
      "==================================================\n"
     ]
    },
    {
     "name": "stderr",
     "output_type": "stream",
     "text": [
      "100%|██████████| 20/20 [13:48<00:00, 41.41s/it]\n",
      "  0%|          | 0/20 [00:00<?, ?it/s]"
     ]
    },
    {
     "name": "stdout",
     "output_type": "stream",
     "text": [
      "parameters: 128 5 0.2 0.002 0.0005\n",
      "Accuracy: 0.3390\n",
      "==================================================\n"
     ]
    },
    {
     "name": "stderr",
     "output_type": "stream",
     "text": [
      "100%|██████████| 20/20 [13:54<00:00, 41.71s/it]\n",
      "  0%|          | 0/20 [00:00<?, ?it/s]"
     ]
    },
    {
     "name": "stdout",
     "output_type": "stream",
     "text": [
      "parameters: 128 5 0.4 0.002 0.0005\n",
      "Accuracy: 0.3554\n",
      "==================================================\n"
     ]
    },
    {
     "name": "stderr",
     "output_type": "stream",
     "text": [
      "100%|██████████| 20/20 [06:50<00:00, 20.52s/it]\n",
      "  0%|          | 0/20 [00:00<?, ?it/s]"
     ]
    },
    {
     "name": "stdout",
     "output_type": "stream",
     "text": [
      "parameters: 256 1 0.0 0.002 0.0005\n",
      "Accuracy: 0.4306\n",
      "==================================================\n"
     ]
    },
    {
     "name": "stderr",
     "output_type": "stream",
     "text": [
      "100%|██████████| 20/20 [06:50<00:00, 20.54s/it]\n",
      "  0%|          | 0/20 [00:00<?, ?it/s]"
     ]
    },
    {
     "name": "stdout",
     "output_type": "stream",
     "text": [
      "parameters: 256 1 0.2 0.002 0.0005\n",
      "Accuracy: 0.4293\n",
      "==================================================\n"
     ]
    },
    {
     "name": "stderr",
     "output_type": "stream",
     "text": [
      "100%|██████████| 20/20 [06:51<00:00, 20.60s/it]\n",
      "  0%|          | 0/20 [00:00<?, ?it/s]"
     ]
    },
    {
     "name": "stdout",
     "output_type": "stream",
     "text": [
      "parameters: 256 1 0.4 0.002 0.0005\n",
      "Accuracy: 0.4238\n",
      "==================================================\n"
     ]
    },
    {
     "name": "stderr",
     "output_type": "stream",
     "text": [
      "100%|██████████| 20/20 [12:39<00:00, 37.98s/it]\n",
      "  0%|          | 0/20 [00:00<?, ?it/s]"
     ]
    },
    {
     "name": "stdout",
     "output_type": "stream",
     "text": [
      "parameters: 256 2 0.0 0.002 0.0005\n",
      "Accuracy: 0.4518\n",
      "==================================================\n"
     ]
    },
    {
     "name": "stderr",
     "output_type": "stream",
     "text": [
      "100%|██████████| 20/20 [13:27<00:00, 40.38s/it]\n",
      "  0%|          | 0/20 [00:00<?, ?it/s]"
     ]
    },
    {
     "name": "stdout",
     "output_type": "stream",
     "text": [
      "parameters: 256 2 0.2 0.002 0.0005\n",
      "Accuracy: 0.4662\n",
      "==================================================\n"
     ]
    },
    {
     "name": "stderr",
     "output_type": "stream",
     "text": [
      "100%|██████████| 20/20 [13:32<00:00, 40.64s/it]\n",
      "  0%|          | 0/20 [00:00<?, ?it/s]"
     ]
    },
    {
     "name": "stdout",
     "output_type": "stream",
     "text": [
      "parameters: 256 2 0.4 0.002 0.0005\n",
      "Accuracy: 0.4655\n",
      "==================================================\n"
     ]
    },
    {
     "name": "stderr",
     "output_type": "stream",
     "text": [
      "100%|██████████| 20/20 [19:31<00:00, 58.57s/it]\n",
      "  0%|          | 0/20 [00:00<?, ?it/s]"
     ]
    },
    {
     "name": "stdout",
     "output_type": "stream",
     "text": [
      "parameters: 256 3 0.0 0.002 0.0005\n",
      "Accuracy: 0.4785\n",
      "==================================================\n"
     ]
    },
    {
     "name": "stderr",
     "output_type": "stream",
     "text": [
      "100%|██████████| 20/20 [19:33<00:00, 58.68s/it]\n",
      "  0%|          | 0/20 [00:00<?, ?it/s]"
     ]
    },
    {
     "name": "stdout",
     "output_type": "stream",
     "text": [
      "parameters: 256 3 0.2 0.002 0.0005\n",
      "Accuracy: 0.4655\n",
      "==================================================\n"
     ]
    },
    {
     "name": "stderr",
     "output_type": "stream",
     "text": [
      "100%|██████████| 20/20 [19:31<00:00, 58.59s/it]\n",
      "  0%|          | 0/20 [00:00<?, ?it/s]"
     ]
    },
    {
     "name": "stdout",
     "output_type": "stream",
     "text": [
      "parameters: 256 3 0.4 0.002 0.0005\n",
      "Accuracy: 0.3424\n",
      "==================================================\n"
     ]
    },
    {
     "name": "stderr",
     "output_type": "stream",
     "text": [
      "100%|██████████| 20/20 [25:41<00:00, 77.06s/it]\n",
      "  0%|          | 0/20 [00:00<?, ?it/s]"
     ]
    },
    {
     "name": "stdout",
     "output_type": "stream",
     "text": [
      "parameters: 256 4 0.0 0.002 0.0005\n",
      "Accuracy: 0.3992\n",
      "==================================================\n"
     ]
    },
    {
     "name": "stderr",
     "output_type": "stream",
     "text": [
      "100%|██████████| 20/20 [25:40<00:00, 77.02s/it]\n",
      "  0%|          | 0/20 [00:00<?, ?it/s]"
     ]
    },
    {
     "name": "stdout",
     "output_type": "stream",
     "text": [
      "parameters: 256 4 0.2 0.002 0.0005\n",
      "Accuracy: 0.3930\n",
      "==================================================\n"
     ]
    },
    {
     "name": "stderr",
     "output_type": "stream",
     "text": [
      "100%|██████████| 20/20 [25:25<00:00, 76.30s/it]\n",
      "  0%|          | 0/20 [00:00<?, ?it/s]"
     ]
    },
    {
     "name": "stdout",
     "output_type": "stream",
     "text": [
      "parameters: 256 4 0.4 0.002 0.0005\n",
      "Accuracy: 0.3527\n",
      "==================================================\n"
     ]
    },
    {
     "name": "stderr",
     "output_type": "stream",
     "text": [
      "100%|██████████| 20/20 [31:59<00:00, 95.96s/it]\n",
      "  0%|          | 0/20 [00:00<?, ?it/s]"
     ]
    },
    {
     "name": "stdout",
     "output_type": "stream",
     "text": [
      "parameters: 256 5 0.0 0.002 0.0005\n",
      "Accuracy: 0.3363\n",
      "==================================================\n"
     ]
    },
    {
     "name": "stderr",
     "output_type": "stream",
     "text": [
      "100%|██████████| 20/20 [30:39<00:00, 91.96s/it]\n",
      "  0%|          | 0/20 [00:00<?, ?it/s]"
     ]
    },
    {
     "name": "stdout",
     "output_type": "stream",
     "text": [
      "parameters: 256 5 0.2 0.002 0.0005\n",
      "Accuracy: 0.2891\n",
      "==================================================\n"
     ]
    },
    {
     "name": "stderr",
     "output_type": "stream",
     "text": [
      "100%|██████████| 20/20 [30:40<00:00, 92.00s/it]\n"
     ]
    },
    {
     "name": "stdout",
     "output_type": "stream",
     "text": [
      "parameters: 256 5 0.4 0.002 0.0005\n",
      "Accuracy: 0.2659\n",
      "==================================================\n"
     ]
    }
   ],
   "source": [
    "for hidden_dim in [32, 64, 128, 256]:\n",
    "    for no_layers in [1, 2, 3, 4, 5]:\n",
    "        for dropout in [0.0, 0.2, 0.4]:\n",
    "            train_emb = True            \n",
    "            parameters= (hidden_dim, no_layers, dropout, train_emb)\n",
    "\n",
    "            model = bi_LSTM(*parameters)\n",
    "\n",
    "            lr = 0.002\n",
    "            w_decay = 5e-4\n",
    "            optimizer = torch.optim.AdamW(model.parameters(), lr=lr, weight_decay=w_decay)\n",
    "            \n",
    "            model_acc = train(model, verbose=False)\n",
    "            print(\"parameters:\", hidden_dim, no_layers, dropout, lr, w_decay)\n",
    "            print(\"Accuracy: {:0.4f}\".format(model_acc))\n",
    "            \n",
    "            if model_acc > best_bilstm_acc:\n",
    "                best_bilstm_acc = model_acc\n",
    "                best_parameters = parameters\n",
    "                best_model = model\n",
    "                os.rename(WORKING_PATH, BEST_BILSTM_PATH) \n",
    "            \n",
    "            print(25*'==')"
   ]
  },
  {
   "cell_type": "code",
   "execution_count": 42,
   "metadata": {},
   "outputs": [
    {
     "data": {
      "text/plain": [
       "(256, 3, 0.0, True)"
      ]
     },
     "execution_count": 42,
     "metadata": {},
     "output_type": "execute_result"
    }
   ],
   "source": [
    "best_parameters"
   ]
  },
  {
   "cell_type": "code",
   "execution_count": 36,
   "metadata": {},
   "outputs": [
    {
     "data": {
      "text/plain": [
       "bi_LSTM(\n",
       "  (embedding): Embedding(10001, 200)\n",
       "  (lstm): LSTM(200, 256, num_layers=3, batch_first=True, bidirectional=True)\n",
       "  (drop): Dropout(p=0.0, inplace=False)\n",
       "  (fc): Linear(in_features=512, out_features=4, bias=True)\n",
       ")"
      ]
     },
     "execution_count": 36,
     "metadata": {},
     "output_type": "execute_result"
    }
   ],
   "source": [
    "best_model = bi_LSTM(*best_parameters)\n",
    "best_model.load_state_dict(torch.load(BEST_BILSTM_PATH))\n",
    "best_model.eval()"
   ]
  },
  {
   "cell_type": "code",
   "execution_count": 40,
   "metadata": {},
   "outputs": [
    {
     "name": "stdout",
     "output_type": "stream",
     "text": [
      "              precision    recall  f1-score   support\n",
      "\n",
      "       anger       0.47      0.40      0.43       388\n",
      "        fear       0.41      0.55      0.47       389\n",
      "         joy       0.67      0.64      0.66       290\n",
      "     sadness       0.44      0.36      0.40       396\n",
      "\n",
      "    accuracy                           0.48      1463\n",
      "   macro avg       0.50      0.49      0.49      1463\n",
      "weighted avg       0.48      0.48      0.48      1463\n",
      "\n",
      "Accuracy= 0.4784688995215311\n"
     ]
    }
   ],
   "source": [
    "inputs = [torch.from_numpy(t) for t in X_dev]\n",
    "output = best_model(inputs)\n",
    "y_pred = torch.argmax(output, 1).data.numpy()\n",
    "print(classification_report(y_dev, y_pred, target_names=EMOTIONS))\n",
    "print(\"Accuracy=\", accuracy_score(y_dev, y_pred))"
   ]
  },
  {
   "cell_type": "markdown",
   "metadata": {},
   "source": [
    "## qualitative analysis"
   ]
  },
  {
   "cell_type": "code",
   "execution_count": 47,
   "metadata": {
    "scrolled": true
   },
   "outputs": [
    {
     "data": {
      "image/png": "[encoded data removed]",
      "text/plain": [
       "<Figure size 576x576 with 2 Axes>"
      ]
     },
     "metadata": {},
     "output_type": "display_data"
    }
   ],
   "source": [
    "from sklearn.metrics import confusion_matrix\n",
    "\n",
    "cf_matrix = confusion_matrix(y_dev, y_pred)\n",
    "plt.figure(figsize=(8,8))\n",
    "ax = sns.heatmap(cf_matrix/np.sum(cf_matrix), fmt='.1%', annot=True, xticklabels=EMOTIONS, yticklabels=EMOTIONS)\n",
    "ax.set(xlabel='Pred label', ylabel='True label')\n",
    "sns.set(font_scale=1.4)\n",
    "plt.show()"
   ]
  },
  {
   "cell_type": "code",
   "execution_count": null,
   "metadata": {},
   "outputs": [],
   "source": []
  }
 ],
 "metadata": {
  "kernelspec": {
   "display_name": "p36workshop",
   "language": "python",
   "name": "p36workshop"
  },
  "language_info": {
   "codemirror_mode": {
    "name": "ipython",
    "version": 3
   },
   "file_extension": ".py",
   "mimetype": "text/x-python",
   "name": "python",
   "nbconvert_exporter": "python",
   "pygments_lexer": "ipython3",
   "version": "3.6.10"
  }
 },
 "nbformat": 4,
 "nbformat_minor": 4
}
