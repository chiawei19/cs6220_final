{
 "cells": [
  {
   "cell_type": "markdown",
   "metadata": {},
   "source": [
    "# Train SVM models"
   ]
  },
  {
   "cell_type": "markdown",
   "metadata": {},
   "source": [
    "## Read data"
   ]
  },
  {
   "cell_type": "code",
   "execution_count": 1,
   "metadata": {},
   "outputs": [],
   "source": [
    "import os\n",
    "import re\n",
    "import pandas as pd\n",
    "import numpy as np\n",
    "import random\n",
    "import sklearn\n",
    "import codecs\n",
    "import collections\n",
    "from tqdm import tqdm\n",
    "\n",
    "from sklearn.metrics import classification_report, accuracy_score\n",
    "\n",
    "random.seed(42)\n",
    "np.random.seed(42)"
   ]
  },
  {
   "cell_type": "code",
   "execution_count": 2,
   "metadata": {},
   "outputs": [],
   "source": [
    "TRAIN_DIR = \"./data/training/\"\n",
    "TRAIN_SUFFIX = \"-train.txt\"\n",
    "\n",
    "DEV_DIR = \"./data/development/\"\n",
    "DEV_SUFFIX = \"-dev.txt\"\n",
    "\n",
    "TEST_DIR = \"./data/test-gold/\"\n",
    "TEST_SUFFIX = \"-test-gold.txt\"\n",
    "\n",
    "YEAR_PREFIX = \"2018-\"\n",
    "FILE_PREFIX = \"EI-oc-En-\"\n",
    "\n",
    "EMOTIONS = [\"anger\", \"fear\", \"joy\", \"sadness\"] \n",
    "LABEL_EMOTIONS = {i: emo for i, emo in enumerate(EMOTIONS)}\n",
    "EMOTIONS_LABEL = {emo: i for i, emo in enumerate(EMOTIONS)}"
   ]
  },
  {
   "cell_type": "code",
   "execution_count": 3,
   "metadata": {},
   "outputs": [
    {
     "name": "stdout",
     "output_type": "stream",
     "text": [
      "./data/training/EI-oc-En-anger-train.txt True\n",
      "./data/training/EI-oc-En-fear-train.txt True\n",
      "./data/training/EI-oc-En-joy-train.txt True\n",
      "./data/training/EI-oc-En-sadness-train.txt True\n",
      "./data/development/2018-EI-oc-En-anger-dev.txt True\n",
      "./data/development/2018-EI-oc-En-fear-dev.txt True\n",
      "./data/development/2018-EI-oc-En-joy-dev.txt True\n",
      "./data/development/2018-EI-oc-En-sadness-dev.txt True\n",
      "./data/test-gold/2018-EI-oc-En-anger-test-gold.txt True\n",
      "./data/test-gold/2018-EI-oc-En-fear-test-gold.txt True\n",
      "./data/test-gold/2018-EI-oc-En-joy-test-gold.txt True\n",
      "./data/test-gold/2018-EI-oc-En-sadness-test-gold.txt True\n"
     ]
    }
   ],
   "source": [
    "TRAIN_FILES = []\n",
    "DEV_FILES = []\n",
    "TEST_FILES = []\n",
    "\n",
    "for emo in EMOTIONS: \n",
    "    TRAIN_FILES += [TRAIN_DIR + FILE_PREFIX + emo + TRAIN_SUFFIX]\n",
    "    DEV_FILES += [DEV_DIR + YEAR_PREFIX + FILE_PREFIX + emo + DEV_SUFFIX]\n",
    "    TEST_FILES += [TEST_DIR + YEAR_PREFIX + FILE_PREFIX + emo + TEST_SUFFIX]\n",
    "\n",
    "for file in TRAIN_FILES + DEV_FILES + TEST_FILES:\n",
    "    print(file, os.path.exists(file))"
   ]
  },
  {
   "cell_type": "code",
   "execution_count": 4,
   "metadata": {},
   "outputs": [
    {
     "data": {
      "text/html": [
       "<div>\n",
       "<style scoped>\n",
       "    .dataframe tbody tr th:only-of-type {\n",
       "        vertical-align: middle;\n",
       "    }\n",
       "\n",
       "    .dataframe tbody tr th {\n",
       "        vertical-align: top;\n",
       "    }\n",
       "\n",
       "    .dataframe thead th {\n",
       "        text-align: right;\n",
       "    }\n",
       "</style>\n",
       "<table border=\"1\" class=\"dataframe\">\n",
       "  <thead>\n",
       "    <tr style=\"text-align: right;\">\n",
       "      <th></th>\n",
       "      <th>ID</th>\n",
       "      <th>Tweet</th>\n",
       "      <th>Affect Dimension</th>\n",
       "      <th>Intensity Class</th>\n",
       "    </tr>\n",
       "  </thead>\n",
       "  <tbody>\n",
       "    <tr>\n",
       "      <th>526</th>\n",
       "      <td>2017-En-41199</td>\n",
       "      <td>Incredibly shocked and disappointed with @unit...</td>\n",
       "      <td>sadness</td>\n",
       "      <td>3: high amount of sadness can be inferred</td>\n",
       "    </tr>\n",
       "    <tr>\n",
       "      <th>494</th>\n",
       "      <td>2017-En-30873</td>\n",
       "      <td>If yiu don't respond .o an email within 7 days...</td>\n",
       "      <td>joy</td>\n",
       "      <td>0: no joy can be inferred</td>\n",
       "    </tr>\n",
       "    <tr>\n",
       "      <th>724</th>\n",
       "      <td>2017-En-30332</td>\n",
       "      <td>Watch this amazing live.ly broadcast by @maisi...</td>\n",
       "      <td>joy</td>\n",
       "      <td>2: moderate amount of joy can be inferred</td>\n",
       "    </tr>\n",
       "    <tr>\n",
       "      <th>879</th>\n",
       "      <td>2017-En-31279</td>\n",
       "      <td>But I got to see her last when she was lively ...</td>\n",
       "      <td>joy</td>\n",
       "      <td>0: no joy can be inferred</td>\n",
       "    </tr>\n",
       "    <tr>\n",
       "      <th>2095</th>\n",
       "      <td>2017-En-21925</td>\n",
       "      <td>@ThomasHCrown @laurakfillault As a historic ev...</td>\n",
       "      <td>fear</td>\n",
       "      <td>0: no fear can be inferred</td>\n",
       "    </tr>\n",
       "    <tr>\n",
       "      <th>...</th>\n",
       "      <td>...</td>\n",
       "      <td>...</td>\n",
       "      <td>...</td>\n",
       "      <td>...</td>\n",
       "    </tr>\n",
       "    <tr>\n",
       "      <th>2071</th>\n",
       "      <td>2017-En-22224</td>\n",
       "      <td>today afghanistan tell us where the terrorism ...</td>\n",
       "      <td>fear</td>\n",
       "      <td>2: moderate amount of fear can be inferred</td>\n",
       "    </tr>\n",
       "    <tr>\n",
       "      <th>1238</th>\n",
       "      <td>2017-En-31048</td>\n",
       "      <td>#IfIWerePresident \\nMy goal would be for us al...</td>\n",
       "      <td>joy</td>\n",
       "      <td>0: no joy can be inferred</td>\n",
       "    </tr>\n",
       "    <tr>\n",
       "      <th>1273</th>\n",
       "      <td>2017-En-31241</td>\n",
       "      <td>@1barkcom Thank you for the #follow. Looking f...</td>\n",
       "      <td>joy</td>\n",
       "      <td>2: moderate amount of joy can be inferred</td>\n",
       "    </tr>\n",
       "    <tr>\n",
       "      <th>1437</th>\n",
       "      <td>2017-En-31232</td>\n",
       "      <td>The best part of this day, Jesus, is to snuggl...</td>\n",
       "      <td>joy</td>\n",
       "      <td>3: high amount of joy can be inferred</td>\n",
       "    </tr>\n",
       "    <tr>\n",
       "      <th>860</th>\n",
       "      <td>2017-En-10088</td>\n",
       "      <td>Bes! You don't just tell a true blooded hoopju...</td>\n",
       "      <td>anger</td>\n",
       "      <td>3: high amount of anger can be inferred</td>\n",
       "    </tr>\n",
       "  </tbody>\n",
       "</table>\n",
       "<p>7102 rows × 4 columns</p>\n",
       "</div>"
      ],
      "text/plain": [
       "                 ID                                              Tweet  \\\n",
       "526   2017-En-41199  Incredibly shocked and disappointed with @unit...   \n",
       "494   2017-En-30873  If yiu don't respond .o an email within 7 days...   \n",
       "724   2017-En-30332  Watch this amazing live.ly broadcast by @maisi...   \n",
       "879   2017-En-31279  But I got to see her last when she was lively ...   \n",
       "2095  2017-En-21925  @ThomasHCrown @laurakfillault As a historic ev...   \n",
       "...             ...                                                ...   \n",
       "2071  2017-En-22224  today afghanistan tell us where the terrorism ...   \n",
       "1238  2017-En-31048  #IfIWerePresident \\nMy goal would be for us al...   \n",
       "1273  2017-En-31241  @1barkcom Thank you for the #follow. Looking f...   \n",
       "1437  2017-En-31232  The best part of this day, Jesus, is to snuggl...   \n",
       "860   2017-En-10088  Bes! You don't just tell a true blooded hoopju...   \n",
       "\n",
       "     Affect Dimension                             Intensity Class  \n",
       "526           sadness   3: high amount of sadness can be inferred  \n",
       "494               joy                   0: no joy can be inferred  \n",
       "724               joy   2: moderate amount of joy can be inferred  \n",
       "879               joy                   0: no joy can be inferred  \n",
       "2095             fear                  0: no fear can be inferred  \n",
       "...               ...                                         ...  \n",
       "2071             fear  2: moderate amount of fear can be inferred  \n",
       "1238              joy                   0: no joy can be inferred  \n",
       "1273              joy   2: moderate amount of joy can be inferred  \n",
       "1437              joy       3: high amount of joy can be inferred  \n",
       "860             anger     3: high amount of anger can be inferred  \n",
       "\n",
       "[7102 rows x 4 columns]"
      ]
     },
     "execution_count": 4,
     "metadata": {},
     "output_type": "execute_result"
    }
   ],
   "source": [
    "TRAIN_DATA = pd.concat(pd.read_csv(f, sep='\\t') for f in TRAIN_FILES)\n",
    "TRAIN_DATA = sklearn.utils.shuffle(TRAIN_DATA)\n",
    "TRAIN_DATA        "
   ]
  },
  {
   "cell_type": "code",
   "execution_count": 5,
   "metadata": {},
   "outputs": [
    {
     "data": {
      "text/html": [
       "<div>\n",
       "<style scoped>\n",
       "    .dataframe tbody tr th:only-of-type {\n",
       "        vertical-align: middle;\n",
       "    }\n",
       "\n",
       "    .dataframe tbody tr th {\n",
       "        vertical-align: top;\n",
       "    }\n",
       "\n",
       "    .dataframe thead th {\n",
       "        text-align: right;\n",
       "    }\n",
       "</style>\n",
       "<table border=\"1\" class=\"dataframe\">\n",
       "  <thead>\n",
       "    <tr style=\"text-align: right;\">\n",
       "      <th></th>\n",
       "      <th>ID</th>\n",
       "      <th>Tweet</th>\n",
       "      <th>Affect Dimension</th>\n",
       "      <th>Intensity Class</th>\n",
       "      <th>Category</th>\n",
       "      <th>Label</th>\n",
       "      <th>Intensity</th>\n",
       "    </tr>\n",
       "  </thead>\n",
       "  <tbody>\n",
       "    <tr>\n",
       "      <th>526</th>\n",
       "      <td>2017-En-41199</td>\n",
       "      <td>Incredibly shocked and disappointed with @unit...</td>\n",
       "      <td>sadness</td>\n",
       "      <td>3: high amount of sadness can be inferred</td>\n",
       "      <td>sadness</td>\n",
       "      <td>3</td>\n",
       "      <td>3</td>\n",
       "    </tr>\n",
       "    <tr>\n",
       "      <th>494</th>\n",
       "      <td>2017-En-30873</td>\n",
       "      <td>If yiu don't respond .o an email within 7 days...</td>\n",
       "      <td>joy</td>\n",
       "      <td>0: no joy can be inferred</td>\n",
       "      <td>joy</td>\n",
       "      <td>2</td>\n",
       "      <td>0</td>\n",
       "    </tr>\n",
       "    <tr>\n",
       "      <th>724</th>\n",
       "      <td>2017-En-30332</td>\n",
       "      <td>Watch this amazing live.ly broadcast by @maisi...</td>\n",
       "      <td>joy</td>\n",
       "      <td>2: moderate amount of joy can be inferred</td>\n",
       "      <td>joy</td>\n",
       "      <td>2</td>\n",
       "      <td>2</td>\n",
       "    </tr>\n",
       "    <tr>\n",
       "      <th>879</th>\n",
       "      <td>2017-En-31279</td>\n",
       "      <td>But I got to see her last when she was lively ...</td>\n",
       "      <td>joy</td>\n",
       "      <td>0: no joy can be inferred</td>\n",
       "      <td>joy</td>\n",
       "      <td>2</td>\n",
       "      <td>0</td>\n",
       "    </tr>\n",
       "    <tr>\n",
       "      <th>2095</th>\n",
       "      <td>2017-En-21925</td>\n",
       "      <td>@ThomasHCrown @laurakfillault As a historic ev...</td>\n",
       "      <td>fear</td>\n",
       "      <td>0: no fear can be inferred</td>\n",
       "      <td>fear</td>\n",
       "      <td>1</td>\n",
       "      <td>0</td>\n",
       "    </tr>\n",
       "    <tr>\n",
       "      <th>...</th>\n",
       "      <td>...</td>\n",
       "      <td>...</td>\n",
       "      <td>...</td>\n",
       "      <td>...</td>\n",
       "      <td>...</td>\n",
       "      <td>...</td>\n",
       "      <td>...</td>\n",
       "    </tr>\n",
       "    <tr>\n",
       "      <th>2071</th>\n",
       "      <td>2017-En-22224</td>\n",
       "      <td>today afghanistan tell us where the terrorism ...</td>\n",
       "      <td>fear</td>\n",
       "      <td>2: moderate amount of fear can be inferred</td>\n",
       "      <td>fear</td>\n",
       "      <td>1</td>\n",
       "      <td>2</td>\n",
       "    </tr>\n",
       "    <tr>\n",
       "      <th>1238</th>\n",
       "      <td>2017-En-31048</td>\n",
       "      <td>#IfIWerePresident \\nMy goal would be for us al...</td>\n",
       "      <td>joy</td>\n",
       "      <td>0: no joy can be inferred</td>\n",
       "      <td>joy</td>\n",
       "      <td>2</td>\n",
       "      <td>0</td>\n",
       "    </tr>\n",
       "    <tr>\n",
       "      <th>1273</th>\n",
       "      <td>2017-En-31241</td>\n",
       "      <td>@1barkcom Thank you for the #follow. Looking f...</td>\n",
       "      <td>joy</td>\n",
       "      <td>2: moderate amount of joy can be inferred</td>\n",
       "      <td>joy</td>\n",
       "      <td>2</td>\n",
       "      <td>2</td>\n",
       "    </tr>\n",
       "    <tr>\n",
       "      <th>1437</th>\n",
       "      <td>2017-En-31232</td>\n",
       "      <td>The best part of this day, Jesus, is to snuggl...</td>\n",
       "      <td>joy</td>\n",
       "      <td>3: high amount of joy can be inferred</td>\n",
       "      <td>joy</td>\n",
       "      <td>2</td>\n",
       "      <td>3</td>\n",
       "    </tr>\n",
       "    <tr>\n",
       "      <th>860</th>\n",
       "      <td>2017-En-10088</td>\n",
       "      <td>Bes! You don't just tell a true blooded hoopju...</td>\n",
       "      <td>anger</td>\n",
       "      <td>3: high amount of anger can be inferred</td>\n",
       "      <td>anger</td>\n",
       "      <td>0</td>\n",
       "      <td>3</td>\n",
       "    </tr>\n",
       "  </tbody>\n",
       "</table>\n",
       "<p>7102 rows × 7 columns</p>\n",
       "</div>"
      ],
      "text/plain": [
       "                 ID                                              Tweet  \\\n",
       "526   2017-En-41199  Incredibly shocked and disappointed with @unit...   \n",
       "494   2017-En-30873  If yiu don't respond .o an email within 7 days...   \n",
       "724   2017-En-30332  Watch this amazing live.ly broadcast by @maisi...   \n",
       "879   2017-En-31279  But I got to see her last when she was lively ...   \n",
       "2095  2017-En-21925  @ThomasHCrown @laurakfillault As a historic ev...   \n",
       "...             ...                                                ...   \n",
       "2071  2017-En-22224  today afghanistan tell us where the terrorism ...   \n",
       "1238  2017-En-31048  #IfIWerePresident \\nMy goal would be for us al...   \n",
       "1273  2017-En-31241  @1barkcom Thank you for the #follow. Looking f...   \n",
       "1437  2017-En-31232  The best part of this day, Jesus, is to snuggl...   \n",
       "860   2017-En-10088  Bes! You don't just tell a true blooded hoopju...   \n",
       "\n",
       "     Affect Dimension                             Intensity Class Category  \\\n",
       "526           sadness   3: high amount of sadness can be inferred  sadness   \n",
       "494               joy                   0: no joy can be inferred      joy   \n",
       "724               joy   2: moderate amount of joy can be inferred      joy   \n",
       "879               joy                   0: no joy can be inferred      joy   \n",
       "2095             fear                  0: no fear can be inferred     fear   \n",
       "...               ...                                         ...      ...   \n",
       "2071             fear  2: moderate amount of fear can be inferred     fear   \n",
       "1238              joy                   0: no joy can be inferred      joy   \n",
       "1273              joy   2: moderate amount of joy can be inferred      joy   \n",
       "1437              joy       3: high amount of joy can be inferred      joy   \n",
       "860             anger     3: high amount of anger can be inferred    anger   \n",
       "\n",
       "      Label  Intensity  \n",
       "526       3          3  \n",
       "494       2          0  \n",
       "724       2          2  \n",
       "879       2          0  \n",
       "2095      1          0  \n",
       "...     ...        ...  \n",
       "2071      1          2  \n",
       "1238      2          0  \n",
       "1273      2          2  \n",
       "1437      2          3  \n",
       "860       0          3  \n",
       "\n",
       "[7102 rows x 7 columns]"
      ]
     },
     "execution_count": 5,
     "metadata": {},
     "output_type": "execute_result"
    }
   ],
   "source": [
    "TRAIN_DATA[\"Category\"] = TRAIN_DATA[\"Affect Dimension\"]\n",
    "TRAIN_DATA[\"Label\"] = TRAIN_DATA[\"Affect Dimension\"].apply(lambda x: EMOTIONS_LABEL[x])\n",
    "TRAIN_DATA[\"Intensity\"] = TRAIN_DATA[\"Intensity Class\"].apply(lambda x: int(x[0]))\n",
    "TRAIN_DATA"
   ]
  },
  {
   "cell_type": "code",
   "execution_count": 6,
   "metadata": {},
   "outputs": [
    {
     "data": {
      "text/plain": [
       "fear       2252\n",
       "anger      1701\n",
       "joy        1616\n",
       "sadness    1533\n",
       "Name: Category, dtype: int64"
      ]
     },
     "execution_count": 6,
     "metadata": {},
     "output_type": "execute_result"
    }
   ],
   "source": [
    "TRAIN_DATA[\"Category\"].value_counts()"
   ]
  },
  {
   "cell_type": "code",
   "execution_count": 7,
   "metadata": {},
   "outputs": [],
   "source": [
    "TRAIN_CATEGORY_WEIGHTS = TRAIN_DATA[\"Category\"].value_counts().to_dict()\n",
    "TRAIN_LABEL_WEIGHTS =  TRAIN_DATA[\"Label\"].value_counts().to_dict()"
   ]
  },
  {
   "cell_type": "code",
   "execution_count": 8,
   "metadata": {},
   "outputs": [
    {
     "data": {
      "text/html": [
       "<div>\n",
       "<style scoped>\n",
       "    .dataframe tbody tr th:only-of-type {\n",
       "        vertical-align: middle;\n",
       "    }\n",
       "\n",
       "    .dataframe tbody tr th {\n",
       "        vertical-align: top;\n",
       "    }\n",
       "\n",
       "    .dataframe thead th {\n",
       "        text-align: right;\n",
       "    }\n",
       "</style>\n",
       "<table border=\"1\" class=\"dataframe\">\n",
       "  <thead>\n",
       "    <tr style=\"text-align: right;\">\n",
       "      <th></th>\n",
       "      <th>ID</th>\n",
       "      <th>Tweet</th>\n",
       "      <th>Affect Dimension</th>\n",
       "      <th>Intensity Class</th>\n",
       "    </tr>\n",
       "  </thead>\n",
       "  <tbody>\n",
       "    <tr>\n",
       "      <th>321</th>\n",
       "      <td>2018-En-01824</td>\n",
       "      <td>God this match is dull #Wimbledon</td>\n",
       "      <td>anger</td>\n",
       "      <td>1: low amount of anger can be inferred</td>\n",
       "    </tr>\n",
       "    <tr>\n",
       "      <th>62</th>\n",
       "      <td>2018-En-03227</td>\n",
       "      <td>Not only has my flight been delayed numerous t...</td>\n",
       "      <td>fear</td>\n",
       "      <td>1: low amount of fear can be inferred</td>\n",
       "    </tr>\n",
       "    <tr>\n",
       "      <th>327</th>\n",
       "      <td>2018-En-00695</td>\n",
       "      <td>@austin_j_powers @I_am_bumface @R9Rai @Holborn...</td>\n",
       "      <td>fear</td>\n",
       "      <td>1: low amount of fear can be inferred</td>\n",
       "    </tr>\n",
       "    <tr>\n",
       "      <th>166</th>\n",
       "      <td>2018-En-03038</td>\n",
       "      <td>James Clapper 'scary and disturbing'.  #25thAm...</td>\n",
       "      <td>fear</td>\n",
       "      <td>2: moderate amount of fear can be inferred</td>\n",
       "    </tr>\n",
       "    <tr>\n",
       "      <th>369</th>\n",
       "      <td>2018-En-03488</td>\n",
       "      <td>I wish EVERYONE could see how #MSNBC #CNN talk...</td>\n",
       "      <td>anger</td>\n",
       "      <td>1: low amount of anger can be inferred</td>\n",
       "    </tr>\n",
       "    <tr>\n",
       "      <th>...</th>\n",
       "      <td>...</td>\n",
       "      <td>...</td>\n",
       "      <td>...</td>\n",
       "      <td>...</td>\n",
       "    </tr>\n",
       "    <tr>\n",
       "      <th>55</th>\n",
       "      <td>2018-En-00823</td>\n",
       "      <td>Only halfway through #madeforlove by @AlissaNu...</td>\n",
       "      <td>joy</td>\n",
       "      <td>3: high amount of joy can be inferred</td>\n",
       "    </tr>\n",
       "    <tr>\n",
       "      <th>266</th>\n",
       "      <td>2018-En-01671</td>\n",
       "      <td>Nigga write me talking bout I dreamt about you...</td>\n",
       "      <td>sadness</td>\n",
       "      <td>0: no sadness can be inferred</td>\n",
       "    </tr>\n",
       "    <tr>\n",
       "      <th>207</th>\n",
       "      <td>2018-En-00657</td>\n",
       "      <td>Damn I'm tired as hell I never get a off day d...</td>\n",
       "      <td>sadness</td>\n",
       "      <td>2: moderate amount of sadness can be inferred</td>\n",
       "    </tr>\n",
       "    <tr>\n",
       "      <th>235</th>\n",
       "      <td>2018-En-03719</td>\n",
       "      <td>The blackest abyss of despair, Alonzo</td>\n",
       "      <td>sadness</td>\n",
       "      <td>2: moderate amount of sadness can be inferred</td>\n",
       "    </tr>\n",
       "    <tr>\n",
       "      <th>176</th>\n",
       "      <td>2018-En-00405</td>\n",
       "      <td>Media is so focused on bad news that we forget...</td>\n",
       "      <td>joy</td>\n",
       "      <td>1: low amount of joy can be inferred</td>\n",
       "    </tr>\n",
       "  </tbody>\n",
       "</table>\n",
       "<p>1464 rows × 4 columns</p>\n",
       "</div>"
      ],
      "text/plain": [
       "                ID                                              Tweet  \\\n",
       "321  2018-En-01824                  God this match is dull #Wimbledon   \n",
       "62   2018-En-03227  Not only has my flight been delayed numerous t...   \n",
       "327  2018-En-00695  @austin_j_powers @I_am_bumface @R9Rai @Holborn...   \n",
       "166  2018-En-03038  James Clapper 'scary and disturbing'.  #25thAm...   \n",
       "369  2018-En-03488  I wish EVERYONE could see how #MSNBC #CNN talk...   \n",
       "..             ...                                                ...   \n",
       "55   2018-En-00823  Only halfway through #madeforlove by @AlissaNu...   \n",
       "266  2018-En-01671  Nigga write me talking bout I dreamt about you...   \n",
       "207  2018-En-00657  Damn I'm tired as hell I never get a off day d...   \n",
       "235  2018-En-03719              The blackest abyss of despair, Alonzo   \n",
       "176  2018-En-00405  Media is so focused on bad news that we forget...   \n",
       "\n",
       "    Affect Dimension                                Intensity Class  \n",
       "321            anger         1: low amount of anger can be inferred  \n",
       "62              fear          1: low amount of fear can be inferred  \n",
       "327             fear          1: low amount of fear can be inferred  \n",
       "166             fear     2: moderate amount of fear can be inferred  \n",
       "369            anger         1: low amount of anger can be inferred  \n",
       "..               ...                                            ...  \n",
       "55               joy          3: high amount of joy can be inferred  \n",
       "266          sadness                  0: no sadness can be inferred  \n",
       "207          sadness  2: moderate amount of sadness can be inferred  \n",
       "235          sadness  2: moderate amount of sadness can be inferred  \n",
       "176              joy           1: low amount of joy can be inferred  \n",
       "\n",
       "[1464 rows x 4 columns]"
      ]
     },
     "execution_count": 8,
     "metadata": {},
     "output_type": "execute_result"
    }
   ],
   "source": [
    "DEV_DATA = pd.concat(pd.read_csv(f, sep='\\t') for f in DEV_FILES)\n",
    "DEV_DATA = sklearn.utils.shuffle(DEV_DATA)\n",
    "DEV_DATA"
   ]
  },
  {
   "cell_type": "code",
   "execution_count": 9,
   "metadata": {},
   "outputs": [
    {
     "data": {
      "text/html": [
       "<div>\n",
       "<style scoped>\n",
       "    .dataframe tbody tr th:only-of-type {\n",
       "        vertical-align: middle;\n",
       "    }\n",
       "\n",
       "    .dataframe tbody tr th {\n",
       "        vertical-align: top;\n",
       "    }\n",
       "\n",
       "    .dataframe thead th {\n",
       "        text-align: right;\n",
       "    }\n",
       "</style>\n",
       "<table border=\"1\" class=\"dataframe\">\n",
       "  <thead>\n",
       "    <tr style=\"text-align: right;\">\n",
       "      <th></th>\n",
       "      <th>ID</th>\n",
       "      <th>Tweet</th>\n",
       "      <th>Affect Dimension</th>\n",
       "      <th>Intensity Class</th>\n",
       "      <th>Category</th>\n",
       "      <th>Label</th>\n",
       "      <th>Intensity</th>\n",
       "    </tr>\n",
       "  </thead>\n",
       "  <tbody>\n",
       "    <tr>\n",
       "      <th>321</th>\n",
       "      <td>2018-En-01824</td>\n",
       "      <td>God this match is dull #Wimbledon</td>\n",
       "      <td>anger</td>\n",
       "      <td>1: low amount of anger can be inferred</td>\n",
       "      <td>anger</td>\n",
       "      <td>0</td>\n",
       "      <td>1</td>\n",
       "    </tr>\n",
       "    <tr>\n",
       "      <th>62</th>\n",
       "      <td>2018-En-03227</td>\n",
       "      <td>Not only has my flight been delayed numerous t...</td>\n",
       "      <td>fear</td>\n",
       "      <td>1: low amount of fear can be inferred</td>\n",
       "      <td>fear</td>\n",
       "      <td>1</td>\n",
       "      <td>1</td>\n",
       "    </tr>\n",
       "    <tr>\n",
       "      <th>327</th>\n",
       "      <td>2018-En-00695</td>\n",
       "      <td>@austin_j_powers @I_am_bumface @R9Rai @Holborn...</td>\n",
       "      <td>fear</td>\n",
       "      <td>1: low amount of fear can be inferred</td>\n",
       "      <td>fear</td>\n",
       "      <td>1</td>\n",
       "      <td>1</td>\n",
       "    </tr>\n",
       "    <tr>\n",
       "      <th>166</th>\n",
       "      <td>2018-En-03038</td>\n",
       "      <td>James Clapper 'scary and disturbing'.  #25thAm...</td>\n",
       "      <td>fear</td>\n",
       "      <td>2: moderate amount of fear can be inferred</td>\n",
       "      <td>fear</td>\n",
       "      <td>1</td>\n",
       "      <td>2</td>\n",
       "    </tr>\n",
       "    <tr>\n",
       "      <th>369</th>\n",
       "      <td>2018-En-03488</td>\n",
       "      <td>I wish EVERYONE could see how #MSNBC #CNN talk...</td>\n",
       "      <td>anger</td>\n",
       "      <td>1: low amount of anger can be inferred</td>\n",
       "      <td>anger</td>\n",
       "      <td>0</td>\n",
       "      <td>1</td>\n",
       "    </tr>\n",
       "    <tr>\n",
       "      <th>...</th>\n",
       "      <td>...</td>\n",
       "      <td>...</td>\n",
       "      <td>...</td>\n",
       "      <td>...</td>\n",
       "      <td>...</td>\n",
       "      <td>...</td>\n",
       "      <td>...</td>\n",
       "    </tr>\n",
       "    <tr>\n",
       "      <th>55</th>\n",
       "      <td>2018-En-00823</td>\n",
       "      <td>Only halfway through #madeforlove by @AlissaNu...</td>\n",
       "      <td>joy</td>\n",
       "      <td>3: high amount of joy can be inferred</td>\n",
       "      <td>joy</td>\n",
       "      <td>2</td>\n",
       "      <td>3</td>\n",
       "    </tr>\n",
       "    <tr>\n",
       "      <th>266</th>\n",
       "      <td>2018-En-01671</td>\n",
       "      <td>Nigga write me talking bout I dreamt about you...</td>\n",
       "      <td>sadness</td>\n",
       "      <td>0: no sadness can be inferred</td>\n",
       "      <td>sadness</td>\n",
       "      <td>3</td>\n",
       "      <td>0</td>\n",
       "    </tr>\n",
       "    <tr>\n",
       "      <th>207</th>\n",
       "      <td>2018-En-00657</td>\n",
       "      <td>Damn I'm tired as hell I never get a off day d...</td>\n",
       "      <td>sadness</td>\n",
       "      <td>2: moderate amount of sadness can be inferred</td>\n",
       "      <td>sadness</td>\n",
       "      <td>3</td>\n",
       "      <td>2</td>\n",
       "    </tr>\n",
       "    <tr>\n",
       "      <th>235</th>\n",
       "      <td>2018-En-03719</td>\n",
       "      <td>The blackest abyss of despair, Alonzo</td>\n",
       "      <td>sadness</td>\n",
       "      <td>2: moderate amount of sadness can be inferred</td>\n",
       "      <td>sadness</td>\n",
       "      <td>3</td>\n",
       "      <td>2</td>\n",
       "    </tr>\n",
       "    <tr>\n",
       "      <th>176</th>\n",
       "      <td>2018-En-00405</td>\n",
       "      <td>Media is so focused on bad news that we forget...</td>\n",
       "      <td>joy</td>\n",
       "      <td>1: low amount of joy can be inferred</td>\n",
       "      <td>joy</td>\n",
       "      <td>2</td>\n",
       "      <td>1</td>\n",
       "    </tr>\n",
       "  </tbody>\n",
       "</table>\n",
       "<p>1464 rows × 7 columns</p>\n",
       "</div>"
      ],
      "text/plain": [
       "                ID                                              Tweet  \\\n",
       "321  2018-En-01824                  God this match is dull #Wimbledon   \n",
       "62   2018-En-03227  Not only has my flight been delayed numerous t...   \n",
       "327  2018-En-00695  @austin_j_powers @I_am_bumface @R9Rai @Holborn...   \n",
       "166  2018-En-03038  James Clapper 'scary and disturbing'.  #25thAm...   \n",
       "369  2018-En-03488  I wish EVERYONE could see how #MSNBC #CNN talk...   \n",
       "..             ...                                                ...   \n",
       "55   2018-En-00823  Only halfway through #madeforlove by @AlissaNu...   \n",
       "266  2018-En-01671  Nigga write me talking bout I dreamt about you...   \n",
       "207  2018-En-00657  Damn I'm tired as hell I never get a off day d...   \n",
       "235  2018-En-03719              The blackest abyss of despair, Alonzo   \n",
       "176  2018-En-00405  Media is so focused on bad news that we forget...   \n",
       "\n",
       "    Affect Dimension                                Intensity Class Category  \\\n",
       "321            anger         1: low amount of anger can be inferred    anger   \n",
       "62              fear          1: low amount of fear can be inferred     fear   \n",
       "327             fear          1: low amount of fear can be inferred     fear   \n",
       "166             fear     2: moderate amount of fear can be inferred     fear   \n",
       "369            anger         1: low amount of anger can be inferred    anger   \n",
       "..               ...                                            ...      ...   \n",
       "55               joy          3: high amount of joy can be inferred      joy   \n",
       "266          sadness                  0: no sadness can be inferred  sadness   \n",
       "207          sadness  2: moderate amount of sadness can be inferred  sadness   \n",
       "235          sadness  2: moderate amount of sadness can be inferred  sadness   \n",
       "176              joy           1: low amount of joy can be inferred      joy   \n",
       "\n",
       "     Label  Intensity  \n",
       "321      0          1  \n",
       "62       1          1  \n",
       "327      1          1  \n",
       "166      1          2  \n",
       "369      0          1  \n",
       "..     ...        ...  \n",
       "55       2          3  \n",
       "266      3          0  \n",
       "207      3          2  \n",
       "235      3          2  \n",
       "176      2          1  \n",
       "\n",
       "[1464 rows x 7 columns]"
      ]
     },
     "execution_count": 9,
     "metadata": {},
     "output_type": "execute_result"
    }
   ],
   "source": [
    "DEV_DATA[\"Category\"] = DEV_DATA[\"Affect Dimension\"]\n",
    "DEV_DATA[\"Label\"] = DEV_DATA[\"Affect Dimension\"].apply(lambda x: EMOTIONS_LABEL[x])\n",
    "DEV_DATA[\"Intensity\"] = DEV_DATA[\"Intensity Class\"].apply(lambda x: int(x[0]))\n",
    "DEV_DATA"
   ]
  },
  {
   "cell_type": "markdown",
   "metadata": {},
   "source": [
    "## Tweet cleaning"
   ]
  },
  {
   "cell_type": "code",
   "execution_count": 10,
   "metadata": {},
   "outputs": [
    {
     "name": "stderr",
     "output_type": "stream",
     "text": [
      "[nltk_data] Downloading package wordnet to /home/cwh/nltk_data...\n",
      "[nltk_data]   Package wordnet is already up-to-date!\n"
     ]
    }
   ],
   "source": [
    "#For Pre-Processing\n",
    "import emoji\n",
    "from bs4 import BeautifulSoup\n",
    "from nltk.stem import WordNetLemmatizer, SnowballStemmer\n",
    "from nltk.corpus import stopwords\n",
    "from tqdm import tqdm\n",
    "from nltk.tokenize import RegexpTokenizer \n",
    "from nltk.tokenize import word_tokenize\n",
    "\n",
    "import nltk\n",
    "nltk.download('wordnet')\n",
    "\n",
    "stemmer = SnowballStemmer(\"english\")\n",
    "lemmatizer = WordNetLemmatizer()\n",
    "stop_words = set(stopwords.words('english'))\n",
    "\n",
    "# For visualizing\n",
    "import seaborn as sns\n",
    "import matplotlib.pyplot as plt"
   ]
  },
  {
   "cell_type": "code",
   "execution_count": 11,
   "metadata": {},
   "outputs": [],
   "source": [
    "def decode_emoji(text):\n",
    "    output = []\n",
    "    for t in emoji.demojize(text).split():\n",
    "        output.extend(t.split(\"_\"))\n",
    "    return ' '.join(output)\n",
    "\n",
    "def decode_HTML(text):\n",
    "    return BeautifulSoup(text, 'lxml').get_text()\n",
    "\n",
    "def remove_mention(text):\n",
    "    return re.sub(r'@[A-Za-z0-9]+', '', text)\n",
    "    \n",
    "def remove_URL(text):\n",
    "    return re.sub(r\"http\\S+\", \"\", text)\n",
    "\n",
    "def remove_punctuation(text):\n",
    "    return re.sub(r'[^\\w\\s]', ' ', text)\n",
    "\n",
    "def correct_repeatted_letters(text):\n",
    "    return re.sub(r'(.)\\1+', r'\\1\\1', text)\n",
    "\n",
    "def to_lowercase(text):\n",
    "    return ' '.join([w.lower() for w in text.split()])\n",
    " \n",
    "def lemmatize_stemming(text):\n",
    "    return ' '.join([stemmer.stem(lemmatizer.lemmatize(w, pos='v'))\n",
    "                     for w in text.split()])\n",
    "\n",
    "def remove_stop_words(text):\n",
    "    return ' '.join([w for w in text.split() if w not in stop_words])"
   ]
  },
  {
   "cell_type": "code",
   "execution_count": 41,
   "metadata": {},
   "outputs": [],
   "source": [
    "def pre_process(text):\n",
    "    text = decode_emoji(text)\n",
    "    text = decode_HTML(text)\n",
    "    text = remove_mention(text)\n",
    "    text = remove_URL(text)\n",
    "    text = remove_punctuation(text)\n",
    "    text = correct_repeatted_letters(text)\n",
    "    text = to_lowercase(text)       \n",
    "    text = lemmatize_stemming(text)\n",
    "    text = remove_stop_words(text)\n",
    "    return text"
   ]
  },
  {
   "cell_type": "code",
   "execution_count": 42,
   "metadata": {},
   "outputs": [
    {
     "name": "stdout",
     "output_type": "stream",
     "text": [
      "BEFORE: Incredibly shocked and disappointed with @united customer service. Really making me rethink flying with them in the future. #unhappy\n",
      "AFTER : incred shock disappoint custom servic realli make rethink fli futur unhappi\n",
      "\n",
      "BEFORE: If yiu don't respond .o an email within 7 days, you willxbe killed by an animated gif of the girl froa The Ri.g.\n",
      "AFTER : yiu respond email within 7 day willxb kill anim gif girl froa ri g\n",
      "\n",
      "BEFORE: Watch this amazing live.ly broadcast by @maisiev #lively #musically\n",
      "AFTER : watch amaz live ly broadcast live music\n",
      "\n",
      "BEFORE: But I got to see her last when she was lively and talkative and I was able to tell her I loved her so that's what matters.\n",
      "AFTER : get see last live talkat abl tell love matter\n",
      "\n",
      "BEFORE: @ThomasHCrown @laurakfillault As a historic evangelical, I wonder if the Donatists had a point? What dreadful clergy in my fmr. circles.\n",
      "AFTER : histor evangel wonder donatist point dread clergi fmr circl\n",
      "\n"
     ]
    }
   ],
   "source": [
    "for t in TRAIN_DATA[\"Tweet\"][:5]:\n",
    "    print(\"BEFORE:\", t)\n",
    "    print(\"AFTER :\", pre_process(t))\n",
    "    print()"
   ]
  },
  {
   "cell_type": "code",
   "execution_count": 43,
   "metadata": {},
   "outputs": [
    {
     "data": {
      "text/html": [
       "<div>\n",
       "<style scoped>\n",
       "    .dataframe tbody tr th:only-of-type {\n",
       "        vertical-align: middle;\n",
       "    }\n",
       "\n",
       "    .dataframe tbody tr th {\n",
       "        vertical-align: top;\n",
       "    }\n",
       "\n",
       "    .dataframe thead th {\n",
       "        text-align: right;\n",
       "    }\n",
       "</style>\n",
       "<table border=\"1\" class=\"dataframe\">\n",
       "  <thead>\n",
       "    <tr style=\"text-align: right;\">\n",
       "      <th></th>\n",
       "      <th>ID</th>\n",
       "      <th>Tweet</th>\n",
       "      <th>Affect Dimension</th>\n",
       "      <th>Intensity Class</th>\n",
       "      <th>Category</th>\n",
       "      <th>Label</th>\n",
       "      <th>Intensity</th>\n",
       "      <th>Text</th>\n",
       "      <th>Text_len</th>\n",
       "    </tr>\n",
       "  </thead>\n",
       "  <tbody>\n",
       "    <tr>\n",
       "      <th>526</th>\n",
       "      <td>2017-En-41199</td>\n",
       "      <td>Incredibly shocked and disappointed with @unit...</td>\n",
       "      <td>sadness</td>\n",
       "      <td>3: high amount of sadness can be inferred</td>\n",
       "      <td>sadness</td>\n",
       "      <td>3</td>\n",
       "      <td>3</td>\n",
       "      <td>incred shock disappoint custom servic realli m...</td>\n",
       "      <td>11</td>\n",
       "    </tr>\n",
       "    <tr>\n",
       "      <th>494</th>\n",
       "      <td>2017-En-30873</td>\n",
       "      <td>If yiu don't respond .o an email within 7 days...</td>\n",
       "      <td>joy</td>\n",
       "      <td>0: no joy can be inferred</td>\n",
       "      <td>joy</td>\n",
       "      <td>2</td>\n",
       "      <td>0</td>\n",
       "      <td>yiu respond email within 7 day willxb kill ani...</td>\n",
       "      <td>14</td>\n",
       "    </tr>\n",
       "    <tr>\n",
       "      <th>724</th>\n",
       "      <td>2017-En-30332</td>\n",
       "      <td>Watch this amazing live.ly broadcast by @maisi...</td>\n",
       "      <td>joy</td>\n",
       "      <td>2: moderate amount of joy can be inferred</td>\n",
       "      <td>joy</td>\n",
       "      <td>2</td>\n",
       "      <td>2</td>\n",
       "      <td>watch amaz live ly broadcast live music</td>\n",
       "      <td>7</td>\n",
       "    </tr>\n",
       "    <tr>\n",
       "      <th>879</th>\n",
       "      <td>2017-En-31279</td>\n",
       "      <td>But I got to see her last when she was lively ...</td>\n",
       "      <td>joy</td>\n",
       "      <td>0: no joy can be inferred</td>\n",
       "      <td>joy</td>\n",
       "      <td>2</td>\n",
       "      <td>0</td>\n",
       "      <td>get see last live talkat abl tell love matter</td>\n",
       "      <td>9</td>\n",
       "    </tr>\n",
       "    <tr>\n",
       "      <th>2095</th>\n",
       "      <td>2017-En-21925</td>\n",
       "      <td>@ThomasHCrown @laurakfillault As a historic ev...</td>\n",
       "      <td>fear</td>\n",
       "      <td>0: no fear can be inferred</td>\n",
       "      <td>fear</td>\n",
       "      <td>1</td>\n",
       "      <td>0</td>\n",
       "      <td>histor evangel wonder donatist point dread cle...</td>\n",
       "      <td>9</td>\n",
       "    </tr>\n",
       "  </tbody>\n",
       "</table>\n",
       "</div>"
      ],
      "text/plain": [
       "                 ID                                              Tweet  \\\n",
       "526   2017-En-41199  Incredibly shocked and disappointed with @unit...   \n",
       "494   2017-En-30873  If yiu don't respond .o an email within 7 days...   \n",
       "724   2017-En-30332  Watch this amazing live.ly broadcast by @maisi...   \n",
       "879   2017-En-31279  But I got to see her last when she was lively ...   \n",
       "2095  2017-En-21925  @ThomasHCrown @laurakfillault As a historic ev...   \n",
       "\n",
       "     Affect Dimension                            Intensity Class Category  \\\n",
       "526           sadness  3: high amount of sadness can be inferred  sadness   \n",
       "494               joy                  0: no joy can be inferred      joy   \n",
       "724               joy  2: moderate amount of joy can be inferred      joy   \n",
       "879               joy                  0: no joy can be inferred      joy   \n",
       "2095             fear                 0: no fear can be inferred     fear   \n",
       "\n",
       "      Label  Intensity                                               Text  \\\n",
       "526       3          3  incred shock disappoint custom servic realli m...   \n",
       "494       2          0  yiu respond email within 7 day willxb kill ani...   \n",
       "724       2          2            watch amaz live ly broadcast live music   \n",
       "879       2          0      get see last live talkat abl tell love matter   \n",
       "2095      1          0  histor evangel wonder donatist point dread cle...   \n",
       "\n",
       "      Text_len  \n",
       "526         11  \n",
       "494         14  \n",
       "724          7  \n",
       "879          9  \n",
       "2095         9  "
      ]
     },
     "execution_count": 43,
     "metadata": {},
     "output_type": "execute_result"
    }
   ],
   "source": [
    "# Train data cleaning\n",
    "TRAIN_DATA[\"Text\"] = TRAIN_DATA[\"Tweet\"].apply(lambda s: pre_process(s))\n",
    "TRAIN_DATA[\"Text_len\"] = TRAIN_DATA[\"Text\"].apply(lambda s: len(s.split()))\n",
    "TRAIN_DATA.head(5)"
   ]
  },
  {
   "cell_type": "code",
   "execution_count": 44,
   "metadata": {},
   "outputs": [
    {
     "data": {
      "text/html": [
       "<div>\n",
       "<style scoped>\n",
       "    .dataframe tbody tr th:only-of-type {\n",
       "        vertical-align: middle;\n",
       "    }\n",
       "\n",
       "    .dataframe tbody tr th {\n",
       "        vertical-align: top;\n",
       "    }\n",
       "\n",
       "    .dataframe thead th {\n",
       "        text-align: right;\n",
       "    }\n",
       "</style>\n",
       "<table border=\"1\" class=\"dataframe\">\n",
       "  <thead>\n",
       "    <tr style=\"text-align: right;\">\n",
       "      <th></th>\n",
       "      <th>ID</th>\n",
       "      <th>Tweet</th>\n",
       "      <th>Affect Dimension</th>\n",
       "      <th>Intensity Class</th>\n",
       "      <th>Category</th>\n",
       "      <th>Label</th>\n",
       "      <th>Intensity</th>\n",
       "      <th>Text</th>\n",
       "      <th>Text_len</th>\n",
       "    </tr>\n",
       "  </thead>\n",
       "  <tbody>\n",
       "    <tr>\n",
       "      <th>321</th>\n",
       "      <td>2018-En-01824</td>\n",
       "      <td>God this match is dull #Wimbledon</td>\n",
       "      <td>anger</td>\n",
       "      <td>1: low amount of anger can be inferred</td>\n",
       "      <td>anger</td>\n",
       "      <td>0</td>\n",
       "      <td>1</td>\n",
       "      <td>god match dull wimbledon</td>\n",
       "      <td>4</td>\n",
       "    </tr>\n",
       "    <tr>\n",
       "      <th>62</th>\n",
       "      <td>2018-En-03227</td>\n",
       "      <td>Not only has my flight been delayed numerous t...</td>\n",
       "      <td>fear</td>\n",
       "      <td>1: low amount of fear can be inferred</td>\n",
       "      <td>fear</td>\n",
       "      <td>1</td>\n",
       "      <td>1</td>\n",
       "      <td>flight delay numer time provid snack cart horrif</td>\n",
       "      <td>8</td>\n",
       "    </tr>\n",
       "    <tr>\n",
       "      <th>327</th>\n",
       "      <td>2018-En-00695</td>\n",
       "      <td>@austin_j_powers @I_am_bumface @R9Rai @Holborn...</td>\n",
       "      <td>fear</td>\n",
       "      <td>1: low amount of fear can be inferred</td>\n",
       "      <td>fear</td>\n",
       "      <td>1</td>\n",
       "      <td>1</td>\n",
       "      <td>j power bumfac absolut shock behavour</td>\n",
       "      <td>6</td>\n",
       "    </tr>\n",
       "    <tr>\n",
       "      <th>166</th>\n",
       "      <td>2018-En-03038</td>\n",
       "      <td>James Clapper 'scary and disturbing'.  #25thAm...</td>\n",
       "      <td>fear</td>\n",
       "      <td>2: moderate amount of fear can be inferred</td>\n",
       "      <td>fear</td>\n",
       "      <td>1</td>\n",
       "      <td>2</td>\n",
       "      <td>jam clapper scari disturb 25thamendmentnow imp...</td>\n",
       "      <td>9</td>\n",
       "    </tr>\n",
       "    <tr>\n",
       "      <th>369</th>\n",
       "      <td>2018-En-03488</td>\n",
       "      <td>I wish EVERYONE could see how #MSNBC #CNN talk...</td>\n",
       "      <td>anger</td>\n",
       "      <td>1: low amount of anger can be inferred</td>\n",
       "      <td>anger</td>\n",
       "      <td>0</td>\n",
       "      <td>1</td>\n",
       "      <td>wish everyon could see msnbc cnn talk trump sp...</td>\n",
       "      <td>13</td>\n",
       "    </tr>\n",
       "  </tbody>\n",
       "</table>\n",
       "</div>"
      ],
      "text/plain": [
       "                ID                                              Tweet  \\\n",
       "321  2018-En-01824                  God this match is dull #Wimbledon   \n",
       "62   2018-En-03227  Not only has my flight been delayed numerous t...   \n",
       "327  2018-En-00695  @austin_j_powers @I_am_bumface @R9Rai @Holborn...   \n",
       "166  2018-En-03038  James Clapper 'scary and disturbing'.  #25thAm...   \n",
       "369  2018-En-03488  I wish EVERYONE could see how #MSNBC #CNN talk...   \n",
       "\n",
       "    Affect Dimension                             Intensity Class Category  \\\n",
       "321            anger      1: low amount of anger can be inferred    anger   \n",
       "62              fear       1: low amount of fear can be inferred     fear   \n",
       "327             fear       1: low amount of fear can be inferred     fear   \n",
       "166             fear  2: moderate amount of fear can be inferred     fear   \n",
       "369            anger      1: low amount of anger can be inferred    anger   \n",
       "\n",
       "     Label  Intensity                                               Text  \\\n",
       "321      0          1                           god match dull wimbledon   \n",
       "62       1          1   flight delay numer time provid snack cart horrif   \n",
       "327      1          1              j power bumfac absolut shock behavour   \n",
       "166      1          2  jam clapper scari disturb 25thamendmentnow imp...   \n",
       "369      0          1  wish everyon could see msnbc cnn talk trump sp...   \n",
       "\n",
       "     Text_len  \n",
       "321         4  \n",
       "62          8  \n",
       "327         6  \n",
       "166         9  \n",
       "369        13  "
      ]
     },
     "execution_count": 44,
     "metadata": {},
     "output_type": "execute_result"
    }
   ],
   "source": [
    "# Dev data cleaning\n",
    "DEV_DATA[\"Text\"] = DEV_DATA[\"Tweet\"].apply(lambda s: pre_process(s))\n",
    "DEV_DATA[\"Text_len\"] = DEV_DATA[\"Text\"].apply(lambda s: len(s.split()))\n",
    "DEV_DATA.head(5)"
   ]
  },
  {
   "cell_type": "code",
   "execution_count": 45,
   "metadata": {},
   "outputs": [
    {
     "name": "stdout",
     "output_type": "stream",
     "text": [
      "count    7102.000000\n",
      "mean        9.406646\n",
      "std         4.368397\n",
      "min         1.000000\n",
      "25%         6.000000\n",
      "50%         9.000000\n",
      "75%        12.000000\n",
      "max        79.000000\n",
      "Name: Text_len, dtype: float64\n"
     ]
    },
    {
     "data": {
      "image/png": "[encoded data removed]",
      "text/plain": [
       "<Figure size 432x288 with 1 Axes>"
      ]
     },
     "metadata": {
      "needs_background": "light"
     },
     "output_type": "display_data"
    }
   ],
   "source": [
    "print(TRAIN_DATA[\"Text_len\"].describe())\n",
    "\n",
    "plt.hist(TRAIN_DATA[\"Text_len\"], color='blue', edgecolor='black')\n",
    "plt.title('Histogram of cleaned tweet length')\n",
    "plt.xlabel('length (word)')\n",
    "plt.ylabel('tweets')\n",
    "plt.show()"
   ]
  },
  {
   "cell_type": "code",
   "execution_count": 46,
   "metadata": {},
   "outputs": [
    {
     "name": "stdout",
     "output_type": "stream",
     "text": [
      "LENGTH 47\n",
      "BEFORE: i will never watch greys anatomy ever ever ever ever ever again if Shonda Rimes takes away another OG character☹️☹️☹️☹️☹️☹️☹️☹️☹️☹️ #fuming\n",
      "AFTER : never watch grey anatomi ever ever ever ever ever shonda rim take away anoth og charact frown face selector frown face selector frown face selector frown face selector frown face selector frown face selector frown face selector frown face selector frown face selector frown face selector fume\n",
      "\n",
      "LENGTH 32\n",
      "BEFORE: Good morning, Trondheim! #optimism #productivity ⛅️❤️🇳🇴🏢💻🖥🏋🏻💪🏼📺🍿\n",
      "AFTER : good morn trondheim optim product sun behind cloud red heart selector norway offic build laptop comput desktop comput person lift weight light skin tone flex bicep medium light skin tone televis popcorn\n",
      "\n",
      "LENGTH 46\n",
      "BEFORE: i will never watch greys anatomy ever ever ever ever ever again if Shonda Rimes takes away another OG character☹️☹️☹️☹️☹️☹️☹️☹️☹️☹️ \n",
      "AFTER : never watch grey anatomi ever ever ever ever ever shonda rim take away anoth og charact frown face selector frown face selector frown face selector frown face selector frown face selector frown face selector frown face selector frown face selector frown face selector frown face selector\n",
      "\n",
      "LENGTH 32\n",
      "BEFORE: @priny_baby happppy happppyyyyyy happppppyyyyy haaapppyyyy birthday best friend!! Love you lots 💖💖💖💖💖💖💖🎉🎊 #chapter22 #bdaygirl #happy #love\n",
      "AFTER : babi happi happyy happyy haappyy birthday best friend love lot sparkl heart sparkl heart sparkl heart sparkl heart sparkl heart sparkl heart sparkl heart parti popper confetti ball chapter22 bdaygirl happi love\n",
      "\n",
      "LENGTH 34\n",
      "BEFORE: semores: let's get this. #mirth #SAW #keepthetradition 💜💛⚛🏵🍇🍋🌼🐤🐥👚😈😈👾🧀\n",
      "AFTER : semor let get mirth saw keepthetradit purpl heart yellow heart atom symbol rosett grape lemon blossom babi chick front face babi chick woman cloth smile face horn smile face horn alien monster chees wedg\n",
      "\n",
      "LENGTH 47\n",
      "BEFORE: Nahhhhhh @konanplaydirty snap story has got me bussing up 😂😂😂😂😂😂😂😂😂😂😂😂😂😂\n",
      "AFTER : nahh snap stori get buss face tear joy face tear joy face tear joy face tear joy face tear joy face tear joy face tear joy face tear joy face tear joy face tear joy face tear joy face tear joy face tear joy face tear joy\n",
      "\n",
      "LENGTH 34\n",
      "BEFORE: Think I really broke young bull hurt 😂😂😭😭 u can tell by how bitter and mad he is 😊😊😩😩\n",
      "AFTER : think realli break young bull hurt face tear joy face tear joy loud cri face loud cri face u tell bitter mad smile face smile eye smile face smile eye weari face weari face\n",
      "\n",
      "LENGTH 79\n",
      "BEFORE: Trying to think positive, and not let this situation discourage me ✨✨✨✨✨✨✨✨✨✨✨✨✨✨✨✨✨✨✨✨✨✨✨✨✨✨✨✨✨✨✨✨✨✨✨✨✨✨✨✨✨✨✨✨✨✨✨✨✨✨✨✨✨✨✨✨✨✨✨✨✨✨✨✨✨✨✨✨✨✨✨✨✨\n",
      "AFTER : tri think posit let situat discourag sparkl sparkl sparkl sparkl sparkl sparkl sparkl sparkl sparkl sparkl sparkl sparkl sparkl sparkl sparkl sparkl sparkl sparkl sparkl sparkl sparkl sparkl sparkl sparkl sparkl sparkl sparkl sparkl sparkl sparkl sparkl sparkl sparkl sparkl sparkl sparkl sparkl sparkl sparkl sparkl sparkl sparkl sparkl sparkl sparkl sparkl sparkl sparkl sparkl sparkl sparkl sparkl sparkl sparkl sparkl sparkl sparkl sparkl sparkl sparkl sparkl sparkl sparkl sparkl sparkl sparkl sparkl sparkl sparkl sparkl sparkl sparkl sparkl\n",
      "\n",
      "LENGTH 31\n",
      "BEFORE: @priny_baby happppy happppyyyyyy happppppyyyyy haaapppyyyy birthday best friend!! Love you lots 💖💖💖💖💖💖💖🎉🎊 #chapter22 #bdaygirl  #love\n",
      "AFTER : babi happi happyy happyy haappyy birthday best friend love lot sparkl heart sparkl heart sparkl heart sparkl heart sparkl heart sparkl heart sparkl heart parti popper confetti ball chapter22 bdaygirl love\n",
      "\n",
      "LENGTH 36\n",
      "BEFORE: Fast and furious 6 this Monday 10 pm on mbc 2 😍😍😍😍😍😍😍\n",
      "AFTER : fast furious 6 monday 10 pm mbc 2 smile face heart eye smile face heart eye smile face heart eye smile face heart eye smile face heart eye smile face heart eye smile face heart eye\n",
      "\n"
     ]
    }
   ],
   "source": [
    "for i, t in TRAIN_DATA.iterrows():\n",
    "    if t[\"Text_len\"] > 30:\n",
    "        print(\"LENGTH\", t[\"Text_len\"])\n",
    "        print(\"BEFORE:\", t[\"Tweet\"])\n",
    "        print(\"AFTER :\", t[\"Text\"])\n",
    "        print()"
   ]
  },
  {
   "cell_type": "code",
   "execution_count": null,
   "metadata": {},
   "outputs": [],
   "source": []
  },
  {
   "cell_type": "markdown",
   "metadata": {},
   "source": [
    "## Random"
   ]
  },
  {
   "cell_type": "code",
   "execution_count": 47,
   "metadata": {},
   "outputs": [
    {
     "name": "stdout",
     "output_type": "stream",
     "text": [
      "              precision    recall  f1-score   support\n",
      "\n",
      "       anger       0.26      0.16      0.20       388\n",
      "        fear       0.00      0.00      0.00       389\n",
      "         joy       0.18      0.30      0.23       290\n",
      "     sadness       0.27      0.51      0.35       397\n",
      "\n",
      "    accuracy                           0.24      1464\n",
      "   macro avg       0.18      0.24      0.20      1464\n",
      "weighted avg       0.18      0.24      0.19      1464\n",
      "\n",
      "0.24112021857923496\n"
     ]
    },
    {
     "name": "stderr",
     "output_type": "stream",
     "text": [
      "/home/cwh/anaconda2/envs/p36workshop/lib/python3.6/site-packages/sklearn/metrics/_classification.py:1221: UndefinedMetricWarning: Precision and F-score are ill-defined and being set to 0.0 in labels with no predicted samples. Use `zero_division` parameter to control this behavior.\n",
      "  _warn_prf(average, modifier, msg_start, len(result))\n"
     ]
    }
   ],
   "source": [
    "y_dev = DEV_DATA[\"Category\"]\n",
    "y_pred = random.choices(EMOTIONS, weights= TRAIN_LABEL_WEIGHTS, k=DEV_DATA.shape[0])\n",
    "\n",
    "print(classification_report(y_dev, y_pred, target_names=EMOTIONS))\n",
    "print(accuracy_score(y_dev, y_pred))"
   ]
  },
  {
   "cell_type": "markdown",
   "metadata": {},
   "source": [
    "## SVM with raw unigram"
   ]
  },
  {
   "cell_type": "code",
   "execution_count": 48,
   "metadata": {},
   "outputs": [],
   "source": [
    "from sklearn.feature_extraction.text import CountVectorizer\n",
    "from sklearn.svm import SVC\n",
    "from sklearn.pipeline import make_pipeline\n",
    "from sklearn.preprocessing import StandardScaler\n",
    "from sklearn.metrics import classification_report, accuracy_score"
   ]
  },
  {
   "cell_type": "code",
   "execution_count": 93,
   "metadata": {},
   "outputs": [
    {
     "data": {
      "text/plain": [
       "Pipeline(steps=[('standardscaler', StandardScaler(with_mean=False)),\n",
       "                ('svc',\n",
       "                 SVC(class_weight={0: 1701, 1: 2252, 2: 1616, 3: 1533},\n",
       "                     gamma='auto'))])"
      ]
     },
     "execution_count": 93,
     "metadata": {},
     "output_type": "execute_result"
    }
   ],
   "source": [
    "vectorizer = CountVectorizer(stop_words='english', analyzer='word', ngram_range=(1, 1))\n",
    "\n",
    "X_train = vectorizer.fit_transform(TRAIN_DATA[\"Tweet\"])\n",
    "y_train = TRAIN_DATA[\"Label\"]\n",
    "\n",
    "X_dev = vectorizer.transform(DEV_DATA[\"Tweet\"])\n",
    "y_dev = DEV_DATA[\"Label\"]\n",
    "\n",
    "clf = make_pipeline(StandardScaler(with_mean=False), SVC(gamma='auto', class_weight=TRAIN_LABEL_WEIGHTS))\n",
    "clf.fit(X_train, y_train)"
   ]
  },
  {
   "cell_type": "code",
   "execution_count": 94,
   "metadata": {},
   "outputs": [
    {
     "name": "stdout",
     "output_type": "stream",
     "text": [
      "              precision    recall  f1-score   support\n",
      "\n",
      "       anger       0.40      0.30      0.34       388\n",
      "        fear       0.31      0.62      0.41       389\n",
      "         joy       0.53      0.33      0.41       290\n",
      "     sadness       0.41      0.23      0.30       397\n",
      "\n",
      "    accuracy                           0.37      1464\n",
      "   macro avg       0.41      0.37      0.37      1464\n",
      "weighted avg       0.41      0.37      0.36      1464\n",
      "\n",
      "0.37158469945355194\n"
     ]
    }
   ],
   "source": [
    "y_pred = clf.predict(X_dev)\n",
    "print(classification_report(y_dev, y_pred, target_names=EMOTIONS))\n",
    "print(accuracy_score(y_dev, y_pred))"
   ]
  },
  {
   "cell_type": "markdown",
   "metadata": {},
   "source": [
    "## SVM with cleaned unigram"
   ]
  },
  {
   "cell_type": "code",
   "execution_count": 96,
   "metadata": {},
   "outputs": [
    {
     "data": {
      "text/plain": [
       "Pipeline(steps=[('standardscaler', StandardScaler(with_mean=False)),\n",
       "                ('svc',\n",
       "                 SVC(class_weight={0: 1701, 1: 2252, 2: 1616, 3: 1533},\n",
       "                     gamma='auto'))])"
      ]
     },
     "execution_count": 96,
     "metadata": {},
     "output_type": "execute_result"
    }
   ],
   "source": [
    "vectorizer = CountVectorizer(stop_words='english', analyzer='word', ngram_range=(1, 1))\n",
    "\n",
    "X_train = vectorizer.fit_transform(TRAIN_DATA[\"Text\"])\n",
    "y_train = TRAIN_DATA[\"Label\"]\n",
    "\n",
    "X_dev = vectorizer.transform(DEV_DATA[\"Text\"])\n",
    "y_dev = DEV_DATA[\"Label\"]\n",
    "\n",
    "clf = make_pipeline(StandardScaler(with_mean=False), SVC(gamma='auto', class_weight=TRAIN_LABEL_WEIGHTS))\n",
    "clf.fit(X_train, y_train)"
   ]
  },
  {
   "cell_type": "code",
   "execution_count": 97,
   "metadata": {},
   "outputs": [
    {
     "name": "stdout",
     "output_type": "stream",
     "text": [
      "              precision    recall  f1-score   support\n",
      "\n",
      "       anger       0.40      0.43      0.42       388\n",
      "        fear       0.35      0.54      0.42       389\n",
      "         joy       0.60      0.44      0.51       290\n",
      "     sadness       0.44      0.26      0.33       397\n",
      "\n",
      "    accuracy                           0.42      1464\n",
      "   macro avg       0.45      0.42      0.42      1464\n",
      "weighted avg       0.44      0.42      0.41      1464\n",
      "\n",
      "0.41598360655737704\n"
     ]
    }
   ],
   "source": [
    "y_pred = clf.predict(X_dev)\n",
    "print(classification_report(y_dev, y_pred, target_names=EMOTIONS))\n",
    "print(accuracy_score(y_dev, y_pred))"
   ]
  },
  {
   "cell_type": "code",
   "execution_count": null,
   "metadata": {},
   "outputs": [],
   "source": []
  },
  {
   "cell_type": "markdown",
   "metadata": {},
   "source": [
    "## Helper function for word embedding"
   ]
  },
  {
   "cell_type": "code",
   "execution_count": 57,
   "metadata": {},
   "outputs": [
    {
     "name": "stdout",
     "output_type": "stream",
     "text": [
      "10010\n"
     ]
    }
   ],
   "source": [
    "words_in_training = set()\n",
    "for tweet in TRAIN_DATA[\"Text\"]:\n",
    "    for w in tweet.split():\n",
    "        words_in_training.add(w)\n",
    "        \n",
    "print(len(words_in_training))"
   ]
  },
  {
   "cell_type": "code",
   "execution_count": 78,
   "metadata": {},
   "outputs": [],
   "source": [
    "def sentence_embedding(text, dictionary, dim):\n",
    "    sen_embedding = [0] * dim\n",
    "    w_count = 0\n",
    "    for w in text.split():\n",
    "        if w in dictionary:\n",
    "            w_count += 1\n",
    "            w_embedding = dictionary[w]\n",
    "            for i in range(dim):\n",
    "                sen_embedding[i] += w_embedding[i]\n",
    "    return sen_embedding"
   ]
  },
  {
   "cell_type": "markdown",
   "metadata": {},
   "source": [
    "## Retrieve pre-trained fastText word embedding"
   ]
  },
  {
   "cell_type": "code",
   "execution_count": 66,
   "metadata": {},
   "outputs": [
    {
     "name": "stderr",
     "output_type": "stream",
     "text": [
      "  0%|          | 576/999995 [00:00<02:53, 5755.75it/s]"
     ]
    },
    {
     "name": "stdout",
     "output_type": "stream",
     "text": [
      "loading word embeddings from fastText...\n"
     ]
    },
    {
     "name": "stderr",
     "output_type": "stream",
     "text": [
      "100%|██████████| 999995/999995 [01:19<00:00, 12506.70it/s]"
     ]
    },
    {
     "name": "stdout",
     "output_type": "stream",
     "text": [
      "found 6187 word vectors from 999995\n"
     ]
    },
    {
     "name": "stderr",
     "output_type": "stream",
     "text": [
      "\n"
     ]
    }
   ],
   "source": [
    "# zip_file_url = \"https://dl.fbaipublicfiles.com/fasttext/vectors-english/wiki-news-300d-1M.vec.zip\"\n",
    "print('loading word embeddings from fastText...')\n",
    "\n",
    "fastText_v = {}\n",
    "\n",
    "f = codecs.open('../fastTextVector/wiki-news-300d-1M.vec', encoding='utf-8')\n",
    "l = 0\n",
    "for line in tqdm(f, total=999995):\n",
    "    l += 1\n",
    "    values = line.rstrip().rsplit(' ')\n",
    "    word = values[0]\n",
    "    coefs = np.asarray(values[1:], dtype='float32')\n",
    "    \n",
    "    if word in words_in_training:\n",
    "        fastText_v[word] = coefs\n",
    "        \n",
    "f.close()\n",
    "\n",
    "print('found {} word vectors from {}'.format(len(fastText_v), l))"
   ]
  },
  {
   "cell_type": "markdown",
   "metadata": {},
   "source": [
    "## SVM with fastText embedding"
   ]
  },
  {
   "cell_type": "code",
   "execution_count": 99,
   "metadata": {},
   "outputs": [
    {
     "name": "stdout",
     "output_type": "stream",
     "text": [
      "              precision    recall  f1-score   support\n",
      "\n",
      "       anger       0.38      0.34      0.36       388\n",
      "        fear       0.35      0.52      0.42       389\n",
      "         joy       0.57      0.53      0.55       290\n",
      "     sadness       0.41      0.28      0.34       397\n",
      "\n",
      "    accuracy                           0.41      1464\n",
      "   macro avg       0.43      0.42      0.41      1464\n",
      "weighted avg       0.42      0.41      0.41      1464\n",
      "\n",
      "0.40846994535519127\n"
     ]
    }
   ],
   "source": [
    "X_train = []\n",
    "y_train = []\n",
    "for i, row in TRAIN_DATA.iterrows():\n",
    "    X_train.append(sentence_embedding(row[\"Text\"], fastText_v, 300))\n",
    "    y_train.append(row[\"Label\"])\n",
    "        \n",
    "X_dev = []\n",
    "y_dev = []\n",
    "for i, row in DEV_DATA.iterrows():\n",
    "    X_dev.append(sentence_embedding(row[\"Text\"], fastText_v, 300))\n",
    "    y_dev.append(row[\"Label\"])\n",
    "\n",
    "clf = make_pipeline(StandardScaler(with_mean=False), SVC(gamma='auto', class_weight=TRAIN_LABEL_WEIGHTS))\n",
    "clf.fit(X_train, y_train)\n",
    "\n",
    "y_pred = clf.predict(X_dev)\n",
    "print(classification_report(y_dev, y_pred, target_names=EMOTIONS))\n",
    "print(accuracy_score(y_dev, y_pred))"
   ]
  },
  {
   "cell_type": "code",
   "execution_count": null,
   "metadata": {},
   "outputs": [],
   "source": []
  },
  {
   "cell_type": "markdown",
   "metadata": {},
   "source": [
    "## Retrive pre-trained GloVe word embedding"
   ]
  },
  {
   "cell_type": "code",
   "execution_count": 82,
   "metadata": {},
   "outputs": [
    {
     "name": "stderr",
     "output_type": "stream",
     "text": [
      "1115it [00:00, 11143.47it/s]"
     ]
    },
    {
     "name": "stdout",
     "output_type": "stream",
     "text": [
      "loading word embeddings from GloVe...\n"
     ]
    },
    {
     "name": "stderr",
     "output_type": "stream",
     "text": [
      "1193515it [01:20, 14746.85it/s]"
     ]
    },
    {
     "name": "stdout",
     "output_type": "stream",
     "text": [
      "found 7146 word vectors from 1193515\n"
     ]
    },
    {
     "name": "stderr",
     "output_type": "stream",
     "text": [
      "\n"
     ]
    }
   ],
   "source": [
    "# zip_file_url = \"http://nlp.stanford.edu/data/glove.twitter.27B.zip\"\n",
    "print('loading word embeddings from GloVe...')\n",
    "\n",
    "gloVe_v = {}\n",
    "\n",
    "f = codecs.open('../gloVe/glove.twitter.27B.200d.txt', encoding='utf-8')\n",
    "l = 0\n",
    "for line in tqdm(f, total=1193515):\n",
    "    l += 1\n",
    "    values = line.rstrip().rsplit(' ')\n",
    "    word = values[0]\n",
    "    coefs = np.asarray(values[1:], dtype='float32')\n",
    "    \n",
    "    if word in words_in_training:\n",
    "        gloVe_v[word] = coefs\n",
    "        \n",
    "f.close()\n",
    "\n",
    "print('found {} word vectors from {}'.format(len(gloVe_v), l))"
   ]
  },
  {
   "cell_type": "markdown",
   "metadata": {},
   "source": [
    "## SVM with gloVe word embedding"
   ]
  },
  {
   "cell_type": "code",
   "execution_count": 101,
   "metadata": {},
   "outputs": [
    {
     "name": "stdout",
     "output_type": "stream",
     "text": [
      "              precision    recall  f1-score   support\n",
      "\n",
      "       anger       0.39      0.37      0.38       388\n",
      "        fear       0.35      0.55      0.43       389\n",
      "         joy       0.61      0.49      0.54       290\n",
      "     sadness       0.41      0.25      0.31       397\n",
      "\n",
      "    accuracy                           0.41      1464\n",
      "   macro avg       0.44      0.42      0.42      1464\n",
      "weighted avg       0.43      0.41      0.41      1464\n",
      "\n",
      "0.41120218579234974\n"
     ]
    }
   ],
   "source": [
    "X_train = []\n",
    "y_train = []\n",
    "for i, row in TRAIN_DATA.iterrows():\n",
    "    X_train.append(sentence_embedding(row[\"Text\"], gloVe_v, 200))\n",
    "    y_train.append(row[\"Label\"])\n",
    "        \n",
    "X_dev = []\n",
    "y_dev = []\n",
    "for i, row in DEV_DATA.iterrows():\n",
    "    X_dev.append(sentence_embedding(row[\"Text\"], gloVe_v, 200))\n",
    "    y_dev.append(row[\"Label\"])\n",
    "\n",
    "clf = make_pipeline(StandardScaler(with_mean=False), SVC(gamma='auto', class_weight=TRAIN_LABEL_WEIGHTS))\n",
    "clf.fit(X_train, y_train)\n",
    "\n",
    "y_pred = clf.predict(X_dev)\n",
    "print(classification_report(y_dev, y_pred, target_names=EMOTIONS))\n",
    "print(accuracy_score(y_dev, y_pred))"
   ]
  },
  {
   "cell_type": "code",
   "execution_count": null,
   "metadata": {},
   "outputs": [],
   "source": []
  },
  {
   "cell_type": "markdown",
   "metadata": {},
   "source": [
    "## FastText Model with unigram"
   ]
  },
  {
   "cell_type": "code",
   "execution_count": 87,
   "metadata": {},
   "outputs": [],
   "source": [
    "import fasttext"
   ]
  },
  {
   "cell_type": "code",
   "execution_count": 90,
   "metadata": {
    "scrolled": true
   },
   "outputs": [
    {
     "name": "stdout",
     "output_type": "stream",
     "text": [
      "                Prefix                                               Text\n",
      "526   __label__sadness  incred shock disappoint custom servic realli m...\n",
      "494       __label__joy  yiu respond email within 7 day willxb kill ani...\n",
      "724       __label__joy            watch amaz live ly broadcast live music\n",
      "879       __label__joy      get see last live talkat abl tell love matter\n",
      "2095     __label__fear  histor evangel wonder donatist point dread cle...\n"
     ]
    }
   ],
   "source": [
    "fast_df = pd.DataFrame()\n",
    "fast_df[\"Prefix\"] = TRAIN_DATA[\"Category\"].map(lambda s: \"__label__\" + s)\n",
    "fast_df[\"Text\"] = TRAIN_DATA[\"Text\"]\n",
    "\n",
    "print(fast_df[:5])\n",
    "\n",
    "SAVED_FILE_LOC = './SVM_working/train.txt'\n",
    "fast_df.to_csv(SAVED_FILE_LOC, index=False, sep='\\t', header=False)"
   ]
  },
  {
   "cell_type": "markdown",
   "metadata": {},
   "source": [
    "## FastText with unigram"
   ]
  },
  {
   "cell_type": "code",
   "execution_count": 91,
   "metadata": {},
   "outputs": [
    {
     "name": "stdout",
     "output_type": "stream",
     "text": [
      "              precision    recall  f1-score   support\n",
      "\n",
      "       anger       0.45      0.43      0.44       388\n",
      "        fear       0.39      0.57      0.46       389\n",
      "         joy       0.65      0.53      0.58       290\n",
      "     sadness       0.45      0.33      0.38       397\n",
      "\n",
      "    accuracy                           0.46      1464\n",
      "   macro avg       0.48      0.46      0.47      1464\n",
      "weighted avg       0.47      0.46      0.46      1464\n",
      "\n",
      "0.4583333333333333\n"
     ]
    }
   ],
   "source": [
    "fast_model = fasttext.train_supervised(SAVED_FILE_LOC, label_prefix='__label__',  wordNgrams=1)\n",
    "\n",
    "pred = fast_model.predict(DEV_DATA[\"Text\"].tolist())\n",
    "y_pred = [label[0].replace(\"__label__\", \"\") for label in pred[0]]\n",
    "\n",
    "y_dev = DEV_DATA[\"Category\"]\n",
    "print(classification_report(y_dev, y_pred, target_names=EMOTIONS))\n",
    "print(accuracy_score(y_dev, y_pred))"
   ]
  },
  {
   "cell_type": "markdown",
   "metadata": {},
   "source": [
    "## FastText model with bigram"
   ]
  },
  {
   "cell_type": "code",
   "execution_count": 92,
   "metadata": {},
   "outputs": [
    {
     "name": "stdout",
     "output_type": "stream",
     "text": [
      "              precision    recall  f1-score   support\n",
      "\n",
      "       anger       0.39      0.41      0.40       388\n",
      "        fear       0.38      0.58      0.46       389\n",
      "         joy       0.63      0.51      0.56       290\n",
      "     sadness       0.47      0.27      0.34       397\n",
      "\n",
      "    accuracy                           0.44      1464\n",
      "   macro avg       0.47      0.44      0.44      1464\n",
      "weighted avg       0.46      0.44      0.43      1464\n",
      "\n",
      "0.4371584699453552\n"
     ]
    }
   ],
   "source": [
    "fast_model = fasttext.train_supervised(SAVED_FILE_LOC, label_prefix='__label__',  wordNgrams=2)\n",
    "\n",
    "pred = fast_model.predict(DEV_DATA[\"Text\"].tolist())\n",
    "y_pred = [label[0].replace(\"__label__\", \"\") for label in pred[0]]\n",
    "\n",
    "y_dev = DEV_DATA[\"Category\"]\n",
    "print(classification_report(y_dev, y_pred, target_names=EMOTIONS))\n",
    "print(accuracy_score(y_dev, y_pred))"
   ]
  },
  {
   "cell_type": "code",
   "execution_count": null,
   "metadata": {},
   "outputs": [],
   "source": []
  },
  {
   "cell_type": "code",
   "execution_count": null,
   "metadata": {},
   "outputs": [],
   "source": []
  },
  {
   "cell_type": "code",
   "execution_count": null,
   "metadata": {},
   "outputs": [],
   "source": []
  }
 ],
 "metadata": {
  "kernelspec": {
   "display_name": "Python 3",
   "language": "python",
   "name": "python3"
  },
  "language_info": {
   "codemirror_mode": {
    "name": "ipython",
    "version": 3
   },
   "file_extension": ".py",
   "mimetype": "text/x-python",
   "name": "python",
   "nbconvert_exporter": "python",
   "pygments_lexer": "ipython3",
   "version": "3.6.10"
  }
 },
 "nbformat": 4,
 "nbformat_minor": 4
}
